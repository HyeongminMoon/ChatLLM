{
 "cells": [
  {
   "cell_type": "code",
   "execution_count": null,
   "id": "70e26231-f0e1-4c14-a159-c3d6ead11442",
   "metadata": {},
   "outputs": [],
   "source": [
    "%%time\n",
    "\n",
    "import requests\n",
    "import json\n",
    "\n",
    "controller_url = \"http://localhost:21001\"\n",
    "model_name = \"MingAI-70B-chat-orca_v0.4_v0.2_retrained_checkpoint-2-GPTQ\"\n",
    "query = \"아도스 연봉을 알려줘\"\n",
    "temperature = 0\n",
    "top_p = 0\n",
    "repetition_penalty = 1\n",
    "max_new_tokens = 256\n",
    "stop_str = \",\"\n",
    "stop_token_ids = None\n",
    "\n",
    "\n",
    "# Query worker address\n",
    "ret = requests.post(controller_url + \"/get_worker_address\", json={\"model\": model_name})\n",
    "\n",
    "worker_addr = ret.json()[\"address\"]\n",
    "\n",
    "# No available worker\n",
    "# if worker_addr == \"\":\n",
    "# return []\n",
    "\n",
    "# Construct Prompt\n",
    "prompt = (\n",
    "    f\"### System:\\nThis is a system prompt, please behave and help the user.\\n\\n\"\n",
    "    f\"### User: I want you to act as a google search keywords generator. I will speak to you questions. \"\n",
    "    f\"I want you to only reply with a few search sentences based on the questions. \"\n",
    "    f\"You must distinguish each sentence using comma(,)\"\n",
    "    f\"do not write explanations. My first command is {query}\\n\\n### Assistant:\"\n",
    ")\n",
    "# Make requests\n",
    "gen_params = {\n",
    "    \"model\": model_name,\n",
    "    \"prompt\": prompt,\n",
    "    \"temperature\": temperature,\n",
    "    \"repetition_penalty\": repetition_penalty,\n",
    "    \"top_p\": top_p,\n",
    "    \"max_new_tokens\": max_new_tokens,\n",
    "    \"stop\": stop_str,\n",
    "    \"stop_token_ids\": stop_token_ids,\n",
    "    \"echo\": False,\n",
    "}\n",
    "\n",
    "# Stream output\n",
    "response = requests.post(\n",
    "    worker_addr + \"/worker_generate\",\n",
    "    headers={\"User-Agent\": \"FastChat Client\"},\n",
    "    json=gen_params,\n",
    "    stream=True,\n",
    "    timeout=100,\n",
    ")\n",
    "\n",
    "data = json.loads(response.text)\n",
    "search_keywords = data[\"text\"].lstrip().split(\",\")\n",
    "\n",
    "# return search_keywords"
   ]
  },
  {
   "cell_type": "code",
   "execution_count": null,
   "id": "fcece80a-82d8-4c83-8c35-f95e9c4f7c07",
   "metadata": {},
   "outputs": [],
   "source": [
    "search_keywords"
   ]
  },
  {
   "cell_type": "code",
   "execution_count": null,
   "id": "2f4b43fe-1486-4c3a-b230-499d707d9a3e",
   "metadata": {},
   "outputs": [],
   "source": [
    "%%time\n",
    "\n",
    "import requests\n",
    "import json\n",
    "\n",
    "controller_url = \"http://localhost:21001\"\n",
    "model_name = \"MingAI-70B-chat-orca_v0.4_v0.2_retrained_checkpoint-2-GPTQ\"\n",
    "query = \"아도스 연봉을 알려줘\"\n",
    "temperature = 0\n",
    "top_p = 0\n",
    "repetition_penalty = 1\n",
    "max_new_tokens = 256\n",
    "stop_str = \",\"\n",
    "stop_token_ids = None\n",
    "\n",
    "\n",
    "# Query worker address\n",
    "ret = requests.post(controller_url + \"/get_worker_address\", json={\"model\": model_name})\n",
    "\n",
    "worker_addr = ret.json()[\"address\"]\n",
    "\n",
    "# No available worker\n",
    "# if worker_addr == \"\":\n",
    "# return []\n",
    "\n",
    "# Construct Prompt\n",
    "prompt = (\n",
    "    f\"### System:\\nThis is a system prompt, please behave and help the user.\\n\\n\"\n",
    "    f\"### User: I want you to act as a text dataset generator. \"\n",
    "    f\"You must generate a random question, and an answer to that question.\"\n",
    "    f\"I want you to only reply with a pair of sentences. \"\n",
    "    f\"do not write explanations.\\n\\n### Assistant:\"\n",
    ")\n",
    "# Make requests\n",
    "gen_params = {\n",
    "    \"model\": model_name,\n",
    "    \"prompt\": prompt,\n",
    "    \"temperature\": temperature,\n",
    "    \"repetition_penalty\": repetition_penalty,\n",
    "    \"top_p\": top_p,\n",
    "    \"max_new_tokens\": max_new_tokens,\n",
    "    \"stop\": stop_str,\n",
    "    \"stop_token_ids\": stop_token_ids,\n",
    "    \"echo\": False,\n",
    "}\n",
    "\n",
    "# Stream output\n",
    "response = requests.post(\n",
    "    worker_addr + \"/worker_generate\",\n",
    "    headers={\"User-Agent\": \"FastChat Client\"},\n",
    "    json=gen_params,\n",
    "    stream=True,\n",
    "    timeout=100,\n",
    ")\n",
    "\n",
    "data = json.loads(response.text)\n",
    "search_keywords = data[\"text\"].lstrip().split(\",\")\n",
    "\n",
    "# return search_keywords"
   ]
  },
  {
   "cell_type": "code",
   "execution_count": null,
   "id": "45a54e09-c6ee-444e-a2b9-02bf6db04667",
   "metadata": {},
   "outputs": [],
   "source": [
    "(\n",
    "    f\"### System:\\nThis is a system prompt, please behave and help the user.\\n\\n\"\n",
    "    f\"### User: I want you to act as a text dataset generator. \"\n",
    "    f\"You must generate a random question, and an answer to that question. \"\n",
    "    f\"I want you to only reply with a pair of sentences. \"\n",
    "    f\"do not write explanations.\\n\\n### Assistant:\"\n",
    ")"
   ]
  },
  {
   "cell_type": "code",
   "execution_count": null,
   "id": "f3e1f821-a788-49b1-9128-0ec294bde56f",
   "metadata": {},
   "outputs": [],
   "source": [
    "import requests\n",
    "import json\n",
    "\n",
    "query = \"LK-99\"\n",
    "search_engine = \"http://127.0.0.1:8080/\"\n",
    "max_urls = 5\n",
    "query_url = f\"{search_engine}?q={query}&format=json\"\n",
    "\n",
    "response = requests.get(query_url)\n",
    "data = json.loads(response.text)\n",
    "\n",
    "# urls = []\n",
    "# # sorted_result = sorted(data['results'], key=lambda x:('google' in x['engines'], x['score']), reverse=True)\n",
    "# sorted_result = sorted(data['results'], key=lambda x: x['score'], reverse=True)\n",
    "# for result in sorted_result[:max_urls]:\n",
    "#     if result['score'] >= 1.0:\n",
    "#         urls.append(result['url'])\n",
    "\n",
    "# return urls"
   ]
  },
  {
   "cell_type": "code",
   "execution_count": null,
   "id": "67809c50-c44b-44fd-8704-dc5165e6d3e4",
   "metadata": {},
   "outputs": [],
   "source": [
    "search_sentences = []\n",
    "for search_result in data[\"results\"][:max_urls]:\n",
    "    search_sentences.append(\n",
    "        (\n",
    "            # f\"\"search_result['url']\n",
    "            f\"Title: {search_result['title']}\\n\"\n",
    "            f\"Contents: {search_result['content']}\"\n",
    "        )\n",
    "    )\n",
    "\n",
    "# '\\n\\n'.join(search_sentences)"
   ]
  },
  {
   "cell_type": "code",
   "execution_count": null,
   "id": "b1ff781b-59be-484b-8016-aae9253185e0",
   "metadata": {},
   "outputs": [],
   "source": [
    "import chromadb\n",
    "from chromadb.config import Settings\n",
    "import random\n",
    "from fastchat.modules.embedder_adapter import Embedder, get_embedder"
   ]
  },
  {
   "cell_type": "code",
   "execution_count": null,
   "id": "b294f9ad-72c8-48a3-9336-d2c3367cc6aa",
   "metadata": {},
   "outputs": [],
   "source": [
    "chroma_client = chromadb.Client(Settings(anonymized_telemetry=False))\n",
    "embedder = get_embedder(\"ddobokki/klue-roberta-base-nli-sts-ko-en\")\n",
    "collection = chroma_client.create_collection(\n",
    "    name=\"context\", embedding_function=embedder.embed\n",
    ")"
   ]
  },
  {
   "cell_type": "code",
   "execution_count": null,
   "id": "50dd03db-2b5a-4cac-bc58-33a6b7baa0d1",
   "metadata": {},
   "outputs": [],
   "source": [
    "from fastchat.modules.vector_store import (\n",
    "    feed_data_into_collector,\n",
    "    add_chunks_to_collector,\n",
    ")"
   ]
  },
  {
   "cell_type": "code",
   "execution_count": null,
   "id": "56e3927b-551b-4ca5-ab24-1b4158a24004",
   "metadata": {},
   "outputs": [],
   "source": []
  },
  {
   "cell_type": "code",
   "execution_count": null,
   "id": "8816e742-6979-4b42-bf10-edf38b5ccd3e",
   "metadata": {},
   "outputs": [],
   "source": [
    "chunk_len = 400\n",
    "chunk_sep = \"\"\n",
    "corpus = \"\"\n",
    "# def feed_data_into_collector(collector, corpus, chunk_len=400, chunk_sep=''):\n",
    "# add_chunks_to_collector(data_chunks, collector)\n",
    "\n",
    "chunk_sep = chunk_sep.replace(r\"\\n\", \"\\n\")\n",
    "\n",
    "if chunk_sep:\n",
    "    data_chunks = corpus.split(chunk_sep)\n",
    "    data_chunks = [\n",
    "        [data_chunk[i : i + chunk_len] for i in range(0, len(data_chunk), chunk_len)]\n",
    "        for data_chunk in data_chunks\n",
    "    ]\n",
    "    data_chunks = [x for y in data_chunks for x in y]\n",
    "else:\n",
    "    data_chunks = [corpus[i : i + chunk_len] for i in range(0, len(corpus), chunk_len)]\n",
    "\n",
    "\n",
    "last_id = -1\n",
    "new_ids = [f\"id{i+last_id+1}\" for i in range(len(data_chunks))]\n",
    "ids += new_ids\n",
    "collection.add(documents=data_chunks, ids=new_ids)"
   ]
  },
  {
   "cell_type": "code",
   "execution_count": null,
   "id": "759015de-8b61-4e57-b1a8-e7dca5eac843",
   "metadata": {},
   "outputs": [],
   "source": [
    "result = collection.query(\n",
    "    query_texts='개[1] + 작다는 뜻의 접두어 앚[2] + 명사화 접사 \"이\"가 합쳐져서 강아지가 됐다.',\n",
    "    n_results=100,\n",
    "    include=[\"documents\", \"distances\"],\n",
    ")"
   ]
  },
  {
   "cell_type": "code",
   "execution_count": null,
   "id": "5cbb547f-bf6c-4c67-8186-1b0bee805602",
   "metadata": {},
   "outputs": [],
   "source": [
    "from trafilatura import fetch_url, extract\n",
    "from copy import deepcopy\n",
    "from trafilatura.settings import DEFAULT_CONFIG"
   ]
  },
  {
   "cell_type": "code",
   "execution_count": null,
   "id": "ce9df78e-76d9-4008-915c-772ea0c9388a",
   "metadata": {},
   "outputs": [],
   "source": [
    "DEFAULT_CONFIG[\"DEFAULT\"]"
   ]
  },
  {
   "cell_type": "code",
   "execution_count": null,
   "id": "ec398460-9eab-4c8a-88b9-63e51dd06f75",
   "metadata": {},
   "outputs": [],
   "source": [
    "import requests\n",
    "\n",
    "# downloaded = fetch_url(\"https://www.accuweather.com/ko/kr/munjeong-dong/1849778/hourly-weather-forecast/1849778\", )\n",
    "headers = {\n",
    "    \"User-Agent\": \"Mozilla/5.0 (Windows NT 10.0; Win64; x64) AppleWebKit/537.36 (KHTML, like Gecko) Chrome/58.0.3029.110 Safari/537.3\"\n",
    "}\n",
    "url = \"https://namu.wiki/w/%EA%B0%9C\"\n",
    "response = requests.get(\n",
    "    url,\n",
    "    headers=headers,\n",
    "    timeout=5,\n",
    ")\n",
    "if response.status_code == 200:\n",
    "    downloaded = response.content"
   ]
  },
  {
   "cell_type": "code",
   "execution_count": null,
   "id": "6e25ab3f-009f-453b-9314-2641f535376f",
   "metadata": {},
   "outputs": [],
   "source": [
    "result = extract(downloaded)\n",
    "print(len(result))\n",
    "result"
   ]
  },
  {
   "cell_type": "code",
   "execution_count": null,
   "id": "7618b3c8-3a7a-4519-9da0-3cc21d5b57fe",
   "metadata": {},
   "outputs": [],
   "source": [
    "query = \"강아지 이름의 기원\"\n",
    "search_engine = \"http://127.0.0.1:8080/\"\n",
    "max_urls = 3\n",
    "\n",
    "query_url = f\"{search_engine}?q={query}&format=json\"\n",
    "\n",
    "response = requests.get(query_url)\n",
    "data = json.loads(response.text)\n",
    "\n",
    "# urls = []\n",
    "# search_sentences = []\n",
    "# for search_result in data['results'][:max_urls]:\n",
    "#     search_sentences.append((\n",
    "#         f\"{search_result['title']}\\n\"\n",
    "#         f\"{search_result['content']}\"\n",
    "#     ))\n",
    "#     urls.append(search_result['url'])"
   ]
  },
  {
   "cell_type": "code",
   "execution_count": null,
   "id": "9e094ba0-97b0-4606-abbd-697baa48230f",
   "metadata": {},
   "outputs": [],
   "source": [
    "search_data = [\n",
    "    {\n",
    "        \"idx\": idx,\n",
    "        \"url\": _data[\"url\"],\n",
    "        \"title\": _data[\"title\"],\n",
    "        \"snippet\": _data[\"content\"],\n",
    "        \"raw_data\": [],\n",
    "    }\n",
    "    for idx, _data in enumerate(data[\"results\"][:max_urls])\n",
    "]"
   ]
  },
  {
   "cell_type": "code",
   "execution_count": null,
   "id": "ba70f66b-bfdf-4ae0-bd9b-75057df05538",
   "metadata": {},
   "outputs": [],
   "source": [
    "chroma_client = chromadb.Client(Settings(anonymized_telemetry=False))\n",
    "embedder = get_embedder(\"ddobokki/klue-roberta-base-nli-sts-ko-en\")\n",
    "collection = chroma_client.create_collection(\n",
    "    name=\"context\", embedding_function=embedder.embed\n",
    ")\n",
    "\n",
    "chunk_len = 300\n",
    "new_ids = []\n",
    "data_chunks = []\n",
    "for _data in search_data:\n",
    "    downloaded = fetch_url(_data[\"url\"])\n",
    "    extracted = extract(downloaded)\n",
    "\n",
    "    temp_chucks = [\n",
    "        extracted[i : i + chunk_len] for i in range(0, len(extracted), chunk_len)\n",
    "    ]\n",
    "    data_chunks += temp_chucks\n",
    "    new_ids += [f\"idx{_data['idx']}_{i}\" for i in range(len(temp_chucks))]\n",
    "\n",
    "collection.add(documents=data_chunks, ids=new_ids)"
   ]
  },
  {
   "cell_type": "code",
   "execution_count": null,
   "id": "0c434887-11f1-49ca-8a47-b510b689aa93",
   "metadata": {},
   "outputs": [],
   "source": [
    "result = collection.query(\n",
    "    query_texts=[query], n_results=5, include=[\"documents\", \"distances\"]\n",
    ")"
   ]
  },
  {
   "cell_type": "code",
   "execution_count": null,
   "id": "50f515d0-bcac-4f91-b6b4-f8cb07d1c8cd",
   "metadata": {},
   "outputs": [],
   "source": [
    "for ri, _idx in enumerate(result[\"ids\"][0]):\n",
    "    search_idx = int(_idx[3:].split(\"_\")[0])\n",
    "    search_data[search_idx][\"raw_data\"].append(result[\"documents\"][0][ri])"
   ]
  },
  {
   "cell_type": "code",
   "execution_count": null,
   "id": "bd4408cc-60c1-40a2-83c8-10c4980e52a4",
   "metadata": {},
   "outputs": [],
   "source": [
    "search_sentences = []\n",
    "search_urls = []\n",
    "for _data in search_data:\n",
    "    if _data[\"raw_data\"]:\n",
    "        raw_data = \"\\n\".join(_data[\"raw_data\"])\n",
    "        search_sentences.append(\n",
    "            (f\"{_data['title']}\\n\" f\"{_data['snippet']}\" f\"{raw_data}\") + \"\\n\"\n",
    "        )\n",
    "        search_urls.append(_data[\"url\"])"
   ]
  },
  {
   "cell_type": "code",
   "execution_count": null,
   "id": "60e6fa7f-a40a-4303-9b5c-ecb92986803d",
   "metadata": {},
   "outputs": [],
   "source": [
    "print(\"\\n\\n\".join(search_sentences))"
   ]
  },
  {
   "cell_type": "code",
   "execution_count": null,
   "id": "5a68cbb5-0fdb-4cac-be7f-b3abb8936864",
   "metadata": {},
   "outputs": [],
   "source": [
    "search_urls"
   ]
  },
  {
   "cell_type": "code",
   "execution_count": null,
   "id": "540cb097-f132-4de4-9f3f-a5b6dcc67e84",
   "metadata": {},
   "outputs": [],
   "source": [
    "(\n",
    "        f\"{_data['title']}\\n\"\n",
    "        f\"{_data['snippet']}\"\n",
    "        f\"{}\"\n",
    ")"
   ]
  },
  {
   "cell_type": "code",
   "execution_count": null,
   "id": "c8db770f-8e3a-4ea0-8f64-34f02438b027",
   "metadata": {},
   "outputs": [],
   "source": [
    "_data[\"title\"]"
   ]
  },
  {
   "cell_type": "code",
   "execution_count": null,
   "id": "dafe105b-52aa-45f3-9bac-ab24267fab44",
   "metadata": {},
   "outputs": [],
   "source": [
    "\"\\n\".join(_data[\"raw_data\"])"
   ]
  },
  {
   "cell_type": "code",
   "execution_count": null,
   "id": "5342659d-e467-48b0-9790-29546096258d",
   "metadata": {},
   "outputs": [],
   "source": []
  }
 ],
 "metadata": {
  "kernelspec": {
   "display_name": "fastchat_4bit",
   "language": "python",
   "name": "fastchat_4bit"
  },
  "language_info": {
   "codemirror_mode": {
    "name": "ipython",
    "version": 3
   },
   "file_extension": ".py",
   "mimetype": "text/x-python",
   "name": "python",
   "nbconvert_exporter": "python",
   "pygments_lexer": "ipython3",
   "version": "3.10.12"
  }
 },
 "nbformat": 4,
 "nbformat_minor": 5
}
