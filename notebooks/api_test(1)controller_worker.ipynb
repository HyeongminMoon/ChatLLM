{
 "cells": [
  {
   "cell_type": "code",
   "execution_count": 41,
   "id": "74ff3f73-a3f6-430f-8645-20d3f4990461",
   "metadata": {
    "tags": []
   },
   "outputs": [],
   "source": [
    "import requests\n",
    "import json\n",
    "\n",
    "api_server_url = \"http://localhost:21122\"\n",
    "# api_server_url = \"https://allsecure.co.kr/llm\"\n",
    "# api_server_url = \"https://77c5-59-13-206-70.ngrok-free.app\""
   ]
  },
  {
   "cell_type": "markdown",
   "id": "debbdf51-652b-4106-9b42-2a0283efd3d9",
   "metadata": {},
   "source": [
    "# 1. Controller API"
   ]
  },
  {
   "cell_type": "markdown",
   "id": "bd859ec5-900b-46c9-96a5-a83b7aee2ef8",
   "metadata": {},
   "source": [
    "### GET /list_models "
   ]
  },
  {
   "cell_type": "code",
   "execution_count": 42,
   "id": "d0b746f6-05f9-4b2e-8e84-a844ab810c84",
   "metadata": {},
   "outputs": [
    {
     "name": "stdout",
     "output_type": "stream",
     "text": [
      "{'models': []}\n"
     ]
    }
   ],
   "source": [
    "ret = requests.get(api_server_url + \"/list_models\")\n",
    "\n",
    "output_json = ret.json()\n",
    "print(output_json)"
   ]
  },
  {
   "cell_type": "markdown",
   "id": "938e7137-781d-48e3-a7bc-96db61972ed4",
   "metadata": {},
   "source": [
    "### GET /refresh_all_models"
   ]
  },
  {
   "cell_type": "code",
   "execution_count": 21,
   "id": "03458df9-352e-4f16-99ea-89833f55b71e",
   "metadata": {},
   "outputs": [],
   "source": [
    "ret = requests.get(api_server_url + \"/refresh_all_models\")"
   ]
  },
  {
   "cell_type": "markdown",
   "id": "00665250-cf02-4a0e-9a7f-13739e827e8f",
   "metadata": {},
   "source": [
    "### GET /get_random_uuid"
   ]
  },
  {
   "cell_type": "code",
   "execution_count": 3,
   "id": "7029b02e-1ce5-480d-a6f4-68687bca8112",
   "metadata": {},
   "outputs": [
    {
     "name": "stdout",
     "output_type": "stream",
     "text": [
      "{'uuid': '126e8b00e48a453c820219e9c6179ca8'}\n"
     ]
    }
   ],
   "source": [
    "ret = requests.get(api_server_url + \"/get_random_uuid\")\n",
    "\n",
    "output_json = ret.json()\n",
    "print(output_json)"
   ]
  },
  {
   "cell_type": "markdown",
   "id": "a4c9a268-9056-4d2a-b626-bca22bab7db4",
   "metadata": {},
   "source": [
    "### (deprecated) {controller_address}/get_worker_address"
   ]
  },
  {
   "cell_type": "markdown",
   "id": "726a1eb9-4c2b-4c6a-a3a1-8cb3233a39d9",
   "metadata": {},
   "source": [
    "model_name = output_json['models'][1]\n",
    "print(\"model_name:\", model_name)\n",
    "\n",
    "input_json = {\n",
    "    \"model\": model_name\n",
    "}\n",
    "\n",
    "ret = requests.post(\n",
    "    controller_url + \"/get_worker_address\", \n",
    "    json=input_json\n",
    ")\n",
    "\n",
    "output_json = ret.json()\n",
    "print(output_json)"
   ]
  },
  {
   "cell_type": "markdown",
   "id": "4c808422-d4cf-47d5-bc1b-8a6fac87e47e",
   "metadata": {},
   "source": [
    "# 2. Worker API"
   ]
  },
  {
   "cell_type": "markdown",
   "id": "4e9d06ab-38c7-4d93-aaa1-c4c744e639ac",
   "metadata": {},
   "source": [
    "### POST /model_details "
   ]
  },
  {
   "cell_type": "code",
   "execution_count": 104,
   "id": "f480d40b-c57d-4a5c-852e-f992450e23f9",
   "metadata": {},
   "outputs": [
    {
     "name": "stdout",
     "output_type": "stream",
     "text": [
      "{'context_length': 8192}\n"
     ]
    }
   ],
   "source": [
    "input_json = {\n",
    "    \"model_name\": \"llama2-13b-dpo-v4\",\n",
    "}\n",
    "\n",
    "ret = requests.post(\n",
    "    api_server_url + \"/model_details\",\n",
    "    json=input_json,\n",
    ")\n",
    "\n",
    "output_json = ret.json()\n",
    "print(output_json)"
   ]
  },
  {
   "cell_type": "markdown",
   "id": "c1180905-8dbc-412c-b4aa-46be1c38fc16",
   "metadata": {},
   "source": [
    "### POST /worker_get_conv_template  "
   ]
  },
  {
   "cell_type": "code",
   "execution_count": 5,
   "id": "870084f9-8215-439f-9bc7-87312de6037b",
   "metadata": {},
   "outputs": [
    {
     "name": "stdout",
     "output_type": "stream",
     "text": [
      "{'conv': {'name': 'chat-orca', 'system_template': '{system_message}', 'system_message': '### System:\\nThis is a system prompt, please behave and help the user.', 'roles': ['### User', '### Assistant'], 'messages': [], 'offset': 0, 'sep_style': 2, 'sep': '\\n\\n', 'sep2': '</s>', 'stop_str': None, 'stop_token_ids': None, 'config': {'max_new_tokens': 4096}, 'translator_system': None, 'retrieval_system': None}}\n"
     ]
    }
   ],
   "source": [
    "input_json = {\n",
    "    \"model_name\": \"MingAI-70B-chat-orca_v0.4_v0.2_retrained_checkpoint-2-GPTQ\",\n",
    "}\n",
    "\n",
    "ret = requests.post(\n",
    "    api_server_url + \"/worker_get_conv_template\",\n",
    "    json=input_json,\n",
    ")\n",
    "\n",
    "output_json = ret.json()\n",
    "print(output_json)"
   ]
  },
  {
   "cell_type": "markdown",
   "id": "2bdb64af-60a4-4731-9334-c29bf056552d",
   "metadata": {},
   "source": [
    "### POST /count_token "
   ]
  },
  {
   "cell_type": "code",
   "execution_count": 168,
   "id": "66ada64e-2a49-4ab6-b084-42b1b04cd32a",
   "metadata": {},
   "outputs": [
    {
     "name": "stdout",
     "output_type": "stream",
     "text": [
      "{'count': 2167, 'error_code': 0}\n"
     ]
    }
   ],
   "source": [
    "input_json = {\n",
    "    \"model_name\": \"MingAI-70B-chat-orca_v0.42_2_dpo-GPTQ\",\n",
    "    # \"prompt\": \"### System:\\nThis is a system prompt, please behave and help the user.\\n\\n### User: NFC는 무엇의 약자입니까?\\n\\n### Assistant:\"\n",
    "    \"prompt\": \"\"\"다음은 더 많은 내용입니다. 서문에서:\\n\\nIV. 우주 현실\\n0:4.1 우주 현실은 다양한 우주 수준에서 현실화되며, 우주 현실은 우주의 무한한 의지의 원천에서 비롯되며, 우주 실현의 여러 단계에서 세 가지 원초적 단계로 실현됩니다:\\n\\n 1. 비신격화된 현실은 비개인 영역부터 비신격화되지 않은 가치의 영역까지, 심지어 절대적 절대 영역까지, 모든 개인 영역에서부터 무한한 신성의 영역까지 아우르고 있습니다. \\\\*\\n 3. 상호 연관된 현실. 우주 현실은 신격화되었는지 또는 신격화되지 않았는지 모르지만, 상호 연관된 현실의 광활한 영역이 존재하며, 이 영역은 식별하기 어렵습니다. 이 상호 연관된 실재는 대부분 우주 절대자의 영역 안에 포괄됩니다.\\n0:4.5 이것은 원초적 실재의 원초적 개념입니다: 아버지는 실재를 시작하고 유지합니다. 실재의 원초적 차이는 신격화된 것과 비신격화된 것, 즉 절대자와 비절대자입니다. 원초적 관계는 그들 사이의 긴장에 있습니다. 이 아버지-시작된 신성은 영원한 절대자의 절대적 해소를 통해 완벽하게 해소되고 영원화됩니다.\\n0:4.6 시간과 공간의 관점에서 볼 때, 현실은 다음과 같이 더 세분화할 수 있습니다:\\n 1. 실체와 잠재력. 표현에 충만하게 존재하는 현실과 잠재력. 영원 아들은 절대적 실재이며, 인간은 실제적 잠재력을 실현하지 못한 잠재적 실재입니다.\\n 2. 절대적과 비절대적. 절대적 실재는 영원한 실재입니다. 하위 절대적 실재는 두 가지 수준에서 투사됩니다: 시간과 영원 모두와 관련이 있는 실재. 유한한 - 현실에서 투사되고 시간에서 실현되는 실재.\\n 3. 실존적, 경험적. 낙원 신성은 실존적이지만, 초월적 초월은 경험적입니다.\\n 4. 개인적, 비개인적. 신성은 확장, 개성 표현, 우주 진화는 영원한 낙원에서 중심이 되는 것들과는 영원히 분리된 자유 의지 행위에 의해 영원히 결정됩니다.\\n0:4.1 낙원은 모든 단계의 우주 실재의 개인적 초월과 비개인적 초점을 포괄하는 용어입니다. 낙원은 적절하게 자격을 갖춘 낙원은 모든 형태의 실재, 신성, 신성, 인격, 에너지를 의미할 수 있습니다. 모든 것은 가치, 의미, 사실적 존재에 관한 원천, 기능, 운명, 그리고 목적에 있어서 낙원을 공유합니다.\\n0:4.12 낙원은 (다른 자격을 갖지 않은) 낙원은 첫 번째 근원 및 중심이 물질-중력의 통제 영역입니다. 낙원은 우주에 정지해 있는 유일한 물체입니다. 낙원은 우주에 위치하지만 공간에 위치하지 않습니다. 이 영원한 낙원은 물리적 우주의 실제적 근원이며, 과거, 현재, 미래의 근원입니다. 빛의 핵은 신성의 파생물이지만 신성이 아니라 결과물일 뿐입니다.\\n0:4.13 낙원은 창조가 아니라 많은 우주 활동의 독특한 통제자입니다. 물질 우주 전체에 걸쳐 낙원은 힘, 에너지, 힘과 관련이 있는 모든 존재의 반응과 행동에 영향을 미치지만, 낙원 자체는 우주에서 독특하고 독점적이며 고립되어 있습니다. 낙원은 아무것도 나타내지 않으며, 아무것도 낙원을 나타내지 않습니다.'\"\"\",\n",
    "}\n",
    "\n",
    "ret = requests.post(api_server_url + \"/count_token\", json=input_json)\n",
    "\n",
    "output_json = ret.json()\n",
    "print(output_json)"
   ]
  },
  {
   "cell_type": "markdown",
   "id": "1d3ed9d9-075a-44fd-8ff7-1e447ab46fc9",
   "metadata": {},
   "source": [
    "### POST /worker_generate"
   ]
  },
  {
   "cell_type": "code",
   "execution_count": 142,
   "id": "414d532b-ab14-41d1-8714-9135b377167e",
   "metadata": {
    "tags": []
   },
   "outputs": [
    {
     "name": "stdout",
     "output_type": "stream",
     "text": [
      "{'text': \"### 영어:\\nQ: What command do I use to find the size of all the files (recursively) in a Linux or Mac OS X directory?\\nA: The BSD version of ```du``` used in OS X reports size with 512-byte blocks -- the sizes are essentially rounded up to the next 512-byte value. This tells you the space on disk, which is larger than the amount of data. If you have a lot of small files, the difference can be large.\\nHere's an example.\\nThis is the value with regular ```du```. It's in 512-byte blocks:\\n```$ du -s\\n248   .\\n```\\nThe ```-h``` flag results in a more readable number, in kilobytes. As expected, it's half the number of 512-byte blocks:\\n```$ du -hs\\n124K  .\\n```\\nFinally, you can use ```find``` and ```awk``` to give you the sum of actual bytes in the files. This is kind of slow, but it works:\\n```$ find . -type f -exec ls -l {} \\\\; | awk '{sum += $5} END {print sum}'\\n60527\\n```\\nThis value matches exactly the number reported by Finder's Get Info window. (There are no weird forks or xattrs in this set of files.) It's significantly smaller than the value reported by ```du```.\\nHere's how it works: it gets a list of all the files, and passes them to ```ls -l```; then ```awk``` is used to count up the bytes. The ```-type f``` flag is there so that only files (and not directories) get sent to ```ls```. Without that flag, it'll also send directory names to ```ls```, and each file will be listed twice : once as an individual file, and once as an item in the directory.\\nThe GNU version of ```du``` can give values in actual bytes instead of blocks. It's unfortunate that the BSD version of ```du``` is not as flexible.\\n### 한국어:\\nQ: Linux 또는 Mac OS X 디렉터리에서 모든 파일의 크기를 재귀적으로 찾으려면 어떤 명령을 사용해야 하나요?\\nA: OS X에서 사용되는 BSD 버전의 ```du```를 사용하면 512바이트 블록 단위로 크기를 보고하며, 크기는 기본적으로 다음 512바이트 값으로 반올림됩니다. 이를 통해 디스크 공간의 크기를 확인할 수 있으며, 이 크기는 데이터의 양보다 큽니다. 작은 파일이 많은 경우 차이가 클 수 있습니다.\\n다음은 예시입니다.\\n이것은 일반 ```du```를 사용한 값입니다. 512바이트 블록 단위로 표시됩니다:\\n```$ du -s\\n248 .\\n```\\n```-h``` 플래그를 사용하면 킬로바이트 단위로 더 읽기 쉬운 숫자가 표시됩니다. 예상대로 512바이트 블록의 절반에 해당합니다:\\n```$ du -hs\\n124K .\\n```\\n마지막으로, ```find```와 ```awk```를 사용하여 파일에 있는 실제 바이트의 합계를 확인할 수 있습니다. 이것은 약간 느리지만 작동합니다:\\n```$ find . -type f -exec ls -l {} \\\\; | awk '{sum += $5} END {print sum}'\\n60527\\n```\\n이 값은 Finder의 정보 화면에 보고된 값과 정확히 일치합니다. (이 파일 세트에는 이상한 포크나 xattr이 없습니다.) 이 값은 ```du```가 보고한 값보다 훨씬 작습니다.\\n이 작동 방식은 모든 파일 목록을 가져와서 ```ls -l```로 전달한 다음 ```awk```를 사용하여 바이트를 계산하는 것입니다. ```-type f``` 플래그가 있기 때문에 디렉터리(및 디렉터리가 아닌 파일)만 ```ls```로 전송됩니다. 이 플래그가 없으면 디렉터리도 ```ls```로 전송되고 각 파일은 개별 파일로 한 번, 디렉터리 항목으로 한 번 나열됩니다.\\n```du```의 GNU 버전은 블록 대신 실제 바이트 단위로 값을 제공할 수 있습니다. BSD 버전의 ```du```는 유연성이 없어 안타까운 점입니다.\\n\", 'error_code': 0, 'usage': {'prompt_tokens': 473, 'completion_tokens': 477, 'total_tokens': 950}, 'cumulative_logprob': [-51.49804361909628], 'finish_reason': 'stop'}\n"
     ]
    }
   ],
   "source": [
    "dummy = \"\"\"Q: What command do I use to find the size of all the files (recursively) in a Linux or Mac OS X directory?\\nA: The BSD version of ```du``` used in OS X reports size with 512-byte blocks -- the sizes are essentially rounded up to the next 512-byte value. This tells you the space on disk, which is larger than the amount of data. If you have a lot of small files, the difference can be large.\\nHere's an example.\\nThis is the value with regular ```du```. It's in 512-byte blocks:\\n```$ du -s\\n248   .\\n```\\nThe ```-h``` flag results in a more readable number, in kilobytes. As expected, it's half the number of 512-byte blocks:\\n```$ du -hs\\n124K  .\\n```\\nFinally, you can use ```find``` and ```awk``` to give you the sum of actual bytes in the files. This is kind of slow, but it works:\\n```$ find . -type f -exec ls -l {} \\\\; | awk '{sum += $5} END {print sum}'\\n60527\\n```\\nThis value matches exactly the number reported by Finder's Get Info window. (There are no weird forks or xattrs in this set of files.) It's significantly smaller than the value reported by ```du```.\\nHere's how it works: it gets a list of all the files, and passes them to ```ls -l```; then ```awk``` is used to count up the bytes. The ```-type f``` flag is there so that only files (and not directories) get sent to ```ls```. Without that flag, it'll also send directory names to ```ls```, and each file will be listed twice : once as an individual file, and once as an item in the directory.\\nThe GNU version of ```du``` can give values in actual bytes instead of blocks. It's unfortunate that the BSD version of ```du``` is not as flexible.\"\"\"\n",
    "prompt = f\"### 영어:\\n{dummy}\\n### 한국어:\\n\"\n",
    "input_json = {\n",
    "    \"model_name\": \"Gugugo-koen-7B-V1.1\",\n",
    "    \"prompt\": prompt,\n",
    "    \"temperature\": 0.7,\n",
    "    \"top_p\": 0.8,\n",
    "    # \"session_id\": 3,\n",
    "    \"max_new_tokens\": 4096,\n",
    "    \"stop\": [\"</끝>\", \"###\"],\n",
    "}\n",
    "\n",
    "ret = requests.post(\n",
    "    api_server_url + \"/worker_generate\",\n",
    "    json=input_json,\n",
    ")\n",
    "\n",
    "output_json = ret.json()\n",
    "# print(output_json)\n",
    "output_json['text'][len(prompt):].rstrip('\\n')"
   ]
  },
  {
   "cell_type": "markdown",
   "id": "6ded4212-0df3-4dba-86b2-a15d8e1cdc87",
   "metadata": {},
   "source": [
    "### POST /worker_generate_stream"
   ]
  },
  {
   "cell_type": "code",
   "execution_count": 9,
   "id": "8a3bfe58-922c-40a9-a14a-65c4da611e4c",
   "metadata": {
    "scrolled": true,
    "tags": []
   },
   "outputs": [
    {
     "name": "stdout",
     "output_type": "stream",
     "text": [
      "아니오. 강풍은 오후 9시 30분에 불이 확산된 것이 아니라 초기 진화 실패의 원인은 다른 이유"
     ]
    },
    {
     "ename": "KeyboardInterrupt",
     "evalue": "",
     "output_type": "error",
     "traceback": [
      "\u001b[0;31m---------------------------------------------------------------------------\u001b[0m",
      "\u001b[0;31mKeyboardInterrupt\u001b[0m                         Traceback (most recent call last)",
      "Cell \u001b[0;32mIn[9], line 29\u001b[0m\n\u001b[1;32m     21\u001b[0m ret \u001b[38;5;241m=\u001b[39m requests\u001b[38;5;241m.\u001b[39mpost(\n\u001b[1;32m     22\u001b[0m     api_server_url \u001b[38;5;241m+\u001b[39m \u001b[38;5;124m\"\u001b[39m\u001b[38;5;124m/worker_generate_stream\u001b[39m\u001b[38;5;124m\"\u001b[39m,\n\u001b[1;32m     23\u001b[0m     json\u001b[38;5;241m=\u001b[39minput_json,\n\u001b[1;32m     24\u001b[0m     stream\u001b[38;5;241m=\u001b[39m\u001b[38;5;28;01mTrue\u001b[39;00m,\n\u001b[1;32m     25\u001b[0m     \u001b[38;5;66;03m# timeout=200,\u001b[39;00m\n\u001b[1;32m     26\u001b[0m )\n\u001b[1;32m     28\u001b[0m past_len \u001b[38;5;241m=\u001b[39m \u001b[38;5;28mlen\u001b[39m(input_json[\u001b[38;5;124m\"\u001b[39m\u001b[38;5;124mprompt\u001b[39m\u001b[38;5;124m\"\u001b[39m])\n\u001b[0;32m---> 29\u001b[0m \u001b[38;5;28;01mfor\u001b[39;00m chunk \u001b[38;5;129;01min\u001b[39;00m ret\u001b[38;5;241m.\u001b[39miter_lines(decode_unicode\u001b[38;5;241m=\u001b[39m\u001b[38;5;28;01mFalse\u001b[39;00m, delimiter\u001b[38;5;241m=\u001b[39m\u001b[38;5;124mb\u001b[39m\u001b[38;5;124m\"\u001b[39m\u001b[38;5;130;01m\\0\u001b[39;00m\u001b[38;5;124m\"\u001b[39m):\n\u001b[1;32m     30\u001b[0m     \u001b[38;5;28;01mif\u001b[39;00m chunk:\n\u001b[1;32m     31\u001b[0m         data \u001b[38;5;241m=\u001b[39m json\u001b[38;5;241m.\u001b[39mloads(chunk\u001b[38;5;241m.\u001b[39mdecode())\n",
      "File \u001b[0;32m~/anaconda3/envs/fastchat_2023dec/lib/python3.10/site-packages/requests/models.py:865\u001b[0m, in \u001b[0;36mResponse.iter_lines\u001b[0;34m(self, chunk_size, decode_unicode, delimiter)\u001b[0m\n\u001b[1;32m    856\u001b[0m \u001b[38;5;250m\u001b[39m\u001b[38;5;124;03m\"\"\"Iterates over the response data, one line at a time.  When\u001b[39;00m\n\u001b[1;32m    857\u001b[0m \u001b[38;5;124;03mstream=True is set on the request, this avoids reading the\u001b[39;00m\n\u001b[1;32m    858\u001b[0m \u001b[38;5;124;03mcontent at once into memory for large responses.\u001b[39;00m\n\u001b[1;32m    859\u001b[0m \n\u001b[1;32m    860\u001b[0m \u001b[38;5;124;03m.. note:: This method is not reentrant safe.\u001b[39;00m\n\u001b[1;32m    861\u001b[0m \u001b[38;5;124;03m\"\"\"\u001b[39;00m\n\u001b[1;32m    863\u001b[0m pending \u001b[38;5;241m=\u001b[39m \u001b[38;5;28;01mNone\u001b[39;00m\n\u001b[0;32m--> 865\u001b[0m \u001b[38;5;28;01mfor\u001b[39;00m chunk \u001b[38;5;129;01min\u001b[39;00m \u001b[38;5;28mself\u001b[39m\u001b[38;5;241m.\u001b[39miter_content(\n\u001b[1;32m    866\u001b[0m     chunk_size\u001b[38;5;241m=\u001b[39mchunk_size, decode_unicode\u001b[38;5;241m=\u001b[39mdecode_unicode\n\u001b[1;32m    867\u001b[0m ):\n\u001b[1;32m    869\u001b[0m     \u001b[38;5;28;01mif\u001b[39;00m pending \u001b[38;5;129;01mis\u001b[39;00m \u001b[38;5;129;01mnot\u001b[39;00m \u001b[38;5;28;01mNone\u001b[39;00m:\n\u001b[1;32m    870\u001b[0m         chunk \u001b[38;5;241m=\u001b[39m pending \u001b[38;5;241m+\u001b[39m chunk\n",
      "File \u001b[0;32m~/anaconda3/envs/fastchat_2023dec/lib/python3.10/site-packages/requests/models.py:816\u001b[0m, in \u001b[0;36mResponse.iter_content.<locals>.generate\u001b[0;34m()\u001b[0m\n\u001b[1;32m    814\u001b[0m \u001b[38;5;28;01mif\u001b[39;00m \u001b[38;5;28mhasattr\u001b[39m(\u001b[38;5;28mself\u001b[39m\u001b[38;5;241m.\u001b[39mraw, \u001b[38;5;124m\"\u001b[39m\u001b[38;5;124mstream\u001b[39m\u001b[38;5;124m\"\u001b[39m):\n\u001b[1;32m    815\u001b[0m     \u001b[38;5;28;01mtry\u001b[39;00m:\n\u001b[0;32m--> 816\u001b[0m         \u001b[38;5;28;01myield from\u001b[39;00m \u001b[38;5;28mself\u001b[39m\u001b[38;5;241m.\u001b[39mraw\u001b[38;5;241m.\u001b[39mstream(chunk_size, decode_content\u001b[38;5;241m=\u001b[39m\u001b[38;5;28;01mTrue\u001b[39;00m)\n\u001b[1;32m    817\u001b[0m     \u001b[38;5;28;01mexcept\u001b[39;00m ProtocolError \u001b[38;5;28;01mas\u001b[39;00m e:\n\u001b[1;32m    818\u001b[0m         \u001b[38;5;28;01mraise\u001b[39;00m ChunkedEncodingError(e)\n",
      "File \u001b[0;32m~/anaconda3/envs/fastchat_2023dec/lib/python3.10/site-packages/urllib3/response.py:624\u001b[0m, in \u001b[0;36mHTTPResponse.stream\u001b[0;34m(self, amt, decode_content)\u001b[0m\n\u001b[1;32m    608\u001b[0m \u001b[38;5;250m\u001b[39m\u001b[38;5;124;03m\"\"\"\u001b[39;00m\n\u001b[1;32m    609\u001b[0m \u001b[38;5;124;03mA generator wrapper for the read() method. A call will block until\u001b[39;00m\n\u001b[1;32m    610\u001b[0m \u001b[38;5;124;03m``amt`` bytes have been read from the connection or until the\u001b[39;00m\n\u001b[0;32m   (...)\u001b[0m\n\u001b[1;32m    621\u001b[0m \u001b[38;5;124;03m    'content-encoding' header.\u001b[39;00m\n\u001b[1;32m    622\u001b[0m \u001b[38;5;124;03m\"\"\"\u001b[39;00m\n\u001b[1;32m    623\u001b[0m \u001b[38;5;28;01mif\u001b[39;00m \u001b[38;5;28mself\u001b[39m\u001b[38;5;241m.\u001b[39mchunked \u001b[38;5;129;01mand\u001b[39;00m \u001b[38;5;28mself\u001b[39m\u001b[38;5;241m.\u001b[39msupports_chunked_reads():\n\u001b[0;32m--> 624\u001b[0m     \u001b[38;5;28;01mfor\u001b[39;00m line \u001b[38;5;129;01min\u001b[39;00m \u001b[38;5;28mself\u001b[39m\u001b[38;5;241m.\u001b[39mread_chunked(amt, decode_content\u001b[38;5;241m=\u001b[39mdecode_content):\n\u001b[1;32m    625\u001b[0m         \u001b[38;5;28;01myield\u001b[39;00m line\n\u001b[1;32m    626\u001b[0m \u001b[38;5;28;01melse\u001b[39;00m:\n",
      "File \u001b[0;32m~/anaconda3/envs/fastchat_2023dec/lib/python3.10/site-packages/urllib3/response.py:828\u001b[0m, in \u001b[0;36mHTTPResponse.read_chunked\u001b[0;34m(self, amt, decode_content)\u001b[0m\n\u001b[1;32m    825\u001b[0m     \u001b[38;5;28;01mreturn\u001b[39;00m\n\u001b[1;32m    827\u001b[0m \u001b[38;5;28;01mwhile\u001b[39;00m \u001b[38;5;28;01mTrue\u001b[39;00m:\n\u001b[0;32m--> 828\u001b[0m     \u001b[38;5;28;43mself\u001b[39;49m\u001b[38;5;241;43m.\u001b[39;49m\u001b[43m_update_chunk_length\u001b[49m\u001b[43m(\u001b[49m\u001b[43m)\u001b[49m\n\u001b[1;32m    829\u001b[0m     \u001b[38;5;28;01mif\u001b[39;00m \u001b[38;5;28mself\u001b[39m\u001b[38;5;241m.\u001b[39mchunk_left \u001b[38;5;241m==\u001b[39m \u001b[38;5;241m0\u001b[39m:\n\u001b[1;32m    830\u001b[0m         \u001b[38;5;28;01mbreak\u001b[39;00m\n",
      "File \u001b[0;32m~/anaconda3/envs/fastchat_2023dec/lib/python3.10/site-packages/urllib3/response.py:758\u001b[0m, in \u001b[0;36mHTTPResponse._update_chunk_length\u001b[0;34m(self)\u001b[0m\n\u001b[1;32m    756\u001b[0m \u001b[38;5;28;01mif\u001b[39;00m \u001b[38;5;28mself\u001b[39m\u001b[38;5;241m.\u001b[39mchunk_left \u001b[38;5;129;01mis\u001b[39;00m \u001b[38;5;129;01mnot\u001b[39;00m \u001b[38;5;28;01mNone\u001b[39;00m:\n\u001b[1;32m    757\u001b[0m     \u001b[38;5;28;01mreturn\u001b[39;00m\n\u001b[0;32m--> 758\u001b[0m line \u001b[38;5;241m=\u001b[39m \u001b[38;5;28;43mself\u001b[39;49m\u001b[38;5;241;43m.\u001b[39;49m\u001b[43m_fp\u001b[49m\u001b[38;5;241;43m.\u001b[39;49m\u001b[43mfp\u001b[49m\u001b[38;5;241;43m.\u001b[39;49m\u001b[43mreadline\u001b[49m\u001b[43m(\u001b[49m\u001b[43m)\u001b[49m\n\u001b[1;32m    759\u001b[0m line \u001b[38;5;241m=\u001b[39m line\u001b[38;5;241m.\u001b[39msplit(\u001b[38;5;124mb\u001b[39m\u001b[38;5;124m\"\u001b[39m\u001b[38;5;124m;\u001b[39m\u001b[38;5;124m\"\u001b[39m, \u001b[38;5;241m1\u001b[39m)[\u001b[38;5;241m0\u001b[39m]\n\u001b[1;32m    760\u001b[0m \u001b[38;5;28;01mtry\u001b[39;00m:\n",
      "File \u001b[0;32m~/anaconda3/envs/fastchat_2023dec/lib/python3.10/socket.py:705\u001b[0m, in \u001b[0;36mSocketIO.readinto\u001b[0;34m(self, b)\u001b[0m\n\u001b[1;32m    703\u001b[0m \u001b[38;5;28;01mwhile\u001b[39;00m \u001b[38;5;28;01mTrue\u001b[39;00m:\n\u001b[1;32m    704\u001b[0m     \u001b[38;5;28;01mtry\u001b[39;00m:\n\u001b[0;32m--> 705\u001b[0m         \u001b[38;5;28;01mreturn\u001b[39;00m \u001b[38;5;28;43mself\u001b[39;49m\u001b[38;5;241;43m.\u001b[39;49m\u001b[43m_sock\u001b[49m\u001b[38;5;241;43m.\u001b[39;49m\u001b[43mrecv_into\u001b[49m\u001b[43m(\u001b[49m\u001b[43mb\u001b[49m\u001b[43m)\u001b[49m\n\u001b[1;32m    706\u001b[0m     \u001b[38;5;28;01mexcept\u001b[39;00m timeout:\n\u001b[1;32m    707\u001b[0m         \u001b[38;5;28mself\u001b[39m\u001b[38;5;241m.\u001b[39m_timeout_occurred \u001b[38;5;241m=\u001b[39m \u001b[38;5;28;01mTrue\u001b[39;00m\n",
      "\u001b[0;31mKeyboardInterrupt\u001b[0m: "
     ]
    }
   ],
   "source": [
    "# input_json = {\n",
    "#     \"model_name\": \"MingAI-70B-chat-orca_v0.42_2_dpo-GPTQ\",\n",
    "#     \"prompt\": \"### System:\\nThis is a system prompt, please behave and help the user.\\n\\n### User: react hello world\\n\\n### Assistant: 반응 프로젝트에서 \\\"Hello World\\\"를 표시하려면 다음 단계를 따르십시오.\\n1. 새로운 React 응용 프로그램 생성 :\\n먼저 새로운 React 응용 프로그램을 만들어야합니다.\\n 다음 명령을 실행하여 새로운 React 앱을 만듭니다.\\n```\\nNPX Create-React-App My-App\\n```\\n이 명령은 새로운 폴더`My-App '에서 새로운 React 프로젝트를 만듭니다.\\n2. 구성 요소 만들기 :\\n이제 앱의 루트 구성 요소를 만들어야합니다.\\n 터미널에서 다음 명령을 실행하여 새 구성 요소를 만듭니다.\\n```\\nCD My-App\\nNPX React-S 생성 구성 요소 환경 적 응용 프로그램\\n```\\n이 명령은`src` 디렉토리에`myapp.js`라는 새 파���일을 생성합니다.\\n3. 구성 요소 업데이트 :\\n`myapp.js` 파일을 열고 다음 코드를 추가하십시오.\\n```JS\\n'React'에서 React React React;\\n함수 myapp () {\\n   반환 (\\n     <h1> 안녕하세요, 세계! </h1>\\n   );\\n}\\n수출 기본 MyApp;\\n```\\n이 코드는 \\\"Hello, World!\\\"텍스트를 표시하는 간단한 구성 요소를 만듭니다.\\n4. 구성 요소 렌더링 :\\n이제 앱의 기본 구성 요소를 렌더링해야합니다.\\n `src/index.js` 파일을 열고 코드를 업데이트하십시오.\\n```JS\\n'React'에서 React React React;\\n'./myapp'에서 myapp 가져 오기;\\n기능 실행 () {\\n   반환 (\\n     <MyApp />\\n   );\\n}\\n기본 기능 내보내기;\\n```\\n5. 앱 실행 :\\n마지막으로 앱을 실행해보세요.\\n```\\nNPX 시작\\n```\\n이렇게하면 웹 브라우저에서 응용 프로그램을 실행하는 데 사용할 수있는 개발 서버가 시작됩니다.\\n 응용 프로그램을 열고 브라우저에서 \\\"Hello, World!\\\"텍스트를 표시해야합니다.\\n번역 번역\\n반응 반응 프로젝트 프로젝트에서에서 \\\"hello world\\\"를 표시하려면하려면 다음\",\n",
    "#     \"max_new_tokens\": 1024,\n",
    "#     \"temperature\": 0.7,\n",
    "#     \"top_p\": 0.8,\n",
    "#     \"session_id\": 3,\n",
    "#     \"repetition_penalty\": 1.7,\n",
    "# }\n",
    "prompt = f\"\"\"봉선홍경사는 고려 현종 12년(1021년)에 창건된 절이다. 동국여지승람 직산현 역원조에 의하면, 이곳은 고을 북쪽 15리에 위치하고 있는 교통의 요지인데, 갈대가 무성하여 도적이 출몰하므로, 고려 현종이 승려 형극에게 명하여 절을 세우게 하였고, 이에 병부상서 강민첨이 감독하여 1016년부터 1021년까지 2백여 칸을 세우고, 봉선홍경사로 이름을 붙였다고 한다.  질문: 병부상서 강민첨이 승려 형극에게 절을 세우라고 명령하였나요? 답변:  아니오\\n\\n예멘 요리(Yemen 料理, 아랍어: مطبخ يمني 마트바크 야마니이[*])는 서남아시아에 있는 예멘의 요리이다. 대체적으로 알려진 중동의 요리와는 아주 다른 편이다. 지역 별로도 차이가 조금씩 난다. 질문: 예멘의 요리는 대체로 알려진 중동의 요리와 비슷하다. 답변:  아니오\\n\\n마리 퀴리와 남편 피에르의 유해를 파리의 팡테옹으로 이장하는 과정에서 뜻밖의 사실을 발견하였다. 그것은 그녀의 유해에서 상당량의 방사선이 방출되고 있는 것이었다. 이를 발견한 프랑스 당국은 그녀의 유해를 납으로 만든 방사선 차단 관으로 옮기고 나서 매장했다. 질문: 마리 퀴리의 유해는 현재 파리에 있나요? 답변:  예\\n\\n질병관리본부의 '문답으로 알아보는 에이즈 상식' 자료에 따르면 HIV와 에이즈(AIDS)는 다른 말이다. HIV는 바이러스를 말하며 에이즈는 면역이 결핍돼 나타나는 상태를 뜻한다. HIV에 걸린 사람을 에이즈 환자라고 부르지 않는다. HIV 감염인이란 HIV에 걸린 모든 사람을 말하며 이 중에서 질병이 나타난 사람을 에이즈 환자라고 부른다. 질문: HIV와 에이즈는 같은 말입니까? 답변:  아니오\\n\\n아말라(요루바어: àmàlà)는 나이지리아의 요루바족 음식이다. 주식으로, 에구시 수프 등과 함께 먹는다. 마나 카사바, 또는 플랜틴 등을 껍질 벗기고 씻어 말려 가루로 만든 뒤, 끓는 물에 넣어 저으며 익히다가, 물을 필요한 만큼씩 더 넣으면서 반죽해가며 익혀 만든다. 질문: 아말라는 나이지리아 요루바족의 주식이다. 답변:  예\\n\\n대한민국 소방당국은 소방대원 78명을 투입해 초기 진화했으나 강풍 탓에 초기진화에 실패하였다. 오후 9시 30분경 산불은 북동향의 강풍으로 인해 고성군 시내로 확산되었다. 소방청은 오후 8시 31분을 기해 전국에 소방차 지원을 요청했으며, 오후 9시 44분에는 화재 대응 수준을 전국적 재난 수준인 3단계로 격상시켰다. 질문: 산불 초기 진화에 실패한 원인은 강풍 때문인가요? 답변: \"\"\"\n",
    "input_json = {\n",
    "    \"model_name\": \"MingAI-70B-chat-orca_v0.42_2_dpo-GPTQ\", #\"DIE_10.7b_v0.1_ep2\",\n",
    "    \"prompt\": prompt,\n",
    "    \"temperature\": 0.7,\n",
    "    \"top_p\": 0.8,\n",
    "    # \"session_id\": 3,\n",
    "    \"max_new_tokens\": 4096,\n",
    "    # \"stop\": [\"</끝>\", \"###\"],\n",
    "}\n",
    "\n",
    "ret = requests.post(\n",
    "    api_server_url + \"/worker_generate_stream\",\n",
    "    json=input_json,\n",
    "    stream=True,\n",
    "    # timeout=200,\n",
    ")\n",
    "\n",
    "past_len = len(input_json[\"prompt\"])\n",
    "for chunk in ret.iter_lines(decode_unicode=False, delimiter=b\"\\0\"):\n",
    "    if chunk:\n",
    "        data = json.loads(chunk.decode())\n",
    "        print(data[\"text\"][past_len:], sep=\"\", end=\"\")\n",
    "        past_len = len(data[\"text\"])\n",
    "\n",
    "# for chunk in ret.iter_lines(decode_unicode=False, delimiter=b\"\\0\"):\n",
    "#     if chunk:\n",
    "#         data = json.loads(chunk.decode())\n",
    "#         # print(data[\"text\"][past_len:], sep=\"\", end=\"\")\n",
    "#         # past_len = len(data[\"text\"])\n",
    "\n",
    "# result = json.loads(chunk.decode())"
   ]
  },
  {
   "cell_type": "code",
   "execution_count": 157,
   "id": "abf676f4-ae6d-4802-b5af-6b8e238ca30e",
   "metadata": {
    "scrolled": true,
    "tags": []
   },
   "outputs": [
    {
     "data": {
      "text/plain": [
       "\"### 영어:\\nQ: What command do I use to find the size of all the files (recursively) in a Linux or Mac OS X directory?\\nA: The BSD version of ```du``` used in OS X reports size with 512-byte blocks -- the sizes are essentially rounded up to the next 512-byte value. This tells you the space on disk, which is larger than the amount of data. If you have a lot of small files, the difference can be large.\\nHere's an example.\\nThis is the value with regular ```du```. It's in 512-byte blocks:\\n```$ du -s\\n248   .\\n```\\nThe ```-h``` flag results in a more readable number, in kilobytes. As expected, it's half the number of 512-byte blocks:\\n```$ du -hs\\n124K  .\\n```\\nFinally, you can use ```find``` and ```awk``` to give you the sum of actual bytes in the files. This is kind of slow, but it works:\\n```$ find . -type f -exec ls -l {} \\\\; | awk '{sum += $5} END {print sum}'\\n60527\\n```\\nThis value matches exactly the number reported by Finder's Get Info window. (There are no weird forks or xattrs in this set of files.) It's significantly smaller than the value reported by ```du```.\\nHere's how it works: it gets a list of all the files, and passes them to ```ls -l```; then ```awk``` is used to count up the bytes. The ```-type f``` flag is there so that only files (and not directories) get sent to ```ls```. Without that flag, it'll also send directory names to ```ls```, and each file will be listed twice : once as an individual file, and once as an item in the directory.\\nThe GNU version of ```du``` can give values in actual bytes instead of blocks. It's unfortunate that the BSD version of ```du``` is not as flexible.\\n### 한국어:\\nQ: Linux 또는 Mac OS X 디렉터리에서 모든 파일의 크기를 (재귀적으로) 찾으려면 어떤 명령을 사용해야 하나요?\\nA: OS X에서 사용되는 BSD 버전의 ```du```는 512바이트 블록 단위로 크기를 보고하며, 크기는 기본적으로 다음 512바이트 값으로 반올림됩니다. 이는 디스크의 공간으로, 데이터의 양보다 더 큽니다. 작은 파일이 많은 경우 차이가 클 수 있습니다.\\n다음은 예제입니다.\\n이것은 일반적으로 ```du```. 512바이트 블록 단위로 표시됩니다:\\n```$ du -s\\n248 .\\n```\\ndu -h``` 플래그를 사용하면 킬로바이트 단위의 더 읽기 쉬운 값이 표시됩니다. 예상대로 512바이트 블록의 절반에 해당합니다:\\n```$ du -hs\\n124K .\\n```\\n마지막으로 ```find``` 및 ```awk```를 사용하여 파일에서 실제 바이트의 합계를 가져올 수 있습니다. 이것은 다소 느리지만 작동합니다:\\n```\\n$ find . -type f -exec ls -l {} \\\\; | awk '{sum += $5} END {print sum}'\\n60527\\n```\\n이 값은 Finder의 정보 창에 표시되는 값과 정확히 일치합니다. (이 파일 세트에는 이상한 커널이나 xattr이 없습니다). 이 값은 ```du```에서 보고된 값보다 훨씬 작습니다.\\n이것은 어떻게 작동합니까? 모든 파일 목록을 가져와서 ```ls -l```로 전달한 다음 ```awk```가 바이트를 계산하는 데 사용됩니다. ```type f``` 플래그가 있기 때문에 ```ls```에 파일만 전달됩니다. 이 플래그가 없으면 디렉터리 이름도 ```ls``로 전송되며, 각 파일은 개별 파일로 한 번, 디렉터리의 항목으로 한 번씩 나열됩니다.\\ndu```의 BSD 버전은 블록이 아닌 실제 바이트 단위로 값을 제공합니다. 안타깝게도 ```du```의 BSD 버전은 유연하지 않습니다.\\n\""
      ]
     },
     "execution_count": 157,
     "metadata": {},
     "output_type": "execute_result"
    }
   ],
   "source": [
    "data['text']"
   ]
  },
  {
   "cell_type": "code",
   "execution_count": 14,
   "id": "c8685063-99fd-49e5-9b6b-bc3399b10993",
   "metadata": {
    "scrolled": true,
    "tags": []
   },
   "outputs": [
    {
     "name": "stdout",
     "output_type": "stream",
     "text": [
      "Node.js 애플리케이션에서 파일을 수신하려면 Express 프레임워크를 사용하여 간단한 웹 서버를 만들 수 있습니다. 다음 예제에서는 `express` 및 `multer` 라이브러리를 사용하여 파일 업로드를 수신하는 방법을 보여줍니다.\n",
      "\n",
      "1. 먼저 npm을 사용하여 필요한 종속성을 설치합니다:```bash\n",
      "npm init -y\n",
      "npm install express multer\n",
      "```\n",
      "\n",
      "2. 새 JavaScript 파일을 생성하고 다음 코드를 붙여넣습니다(예: `app.js`).```javascript\n",
      "const express = require('express');\n",
      "const multer = require('multer');\n",
      "\n",
      "const app = express();\n",
      "const port = 3000;\n",
      "\n",
      "// Configure multer storage settings\n",
      "const storage = multer.diskStorage({\n",
      "  destination: (req, file, cb) => {\n",
      "    cb(null, 'uploads/');\n",
      "  },\n",
      "  filename: (req, file, cb) => {\n",
      "    cb(null, `${file.fieldname}-${Date.now()}${getExtension(file.mimetype)}`);\n",
      "  },\n",
      "});\n",
      "\n",
      "const upload = multer({ storage });\n",
      "\n",
      "function getExtension(mimetype) {\n",
      "  const parts = mimetype.split('/');\n",
      "  return parts[parts.length - 1];\n",
      "}\n",
      "\n",
      "// ROUTES\n",
      "app.post('/upload', upload.single('file'), (req, res) => {\n",
      "  res.send(`File received: ${req.file.filename}`);\n",
      "});\n",
      "\n",
      "// Start the server\n",
      "app.listen(port, () => {\n",
      "  console.log(`Server is running at http://localhost:${port}`);\n",
      "});\n",
      "```\n",
      "\n",
      "\n",
      "이 코드는 포트 3000에서 수신 대기하고 파일 업로드를 위한 단일 경로(`/upload`)를 가진 간단한 Express 서버를 설정합니다. 파일은 'uploads/' 폴더에 저장됩니다. app.js` 파일과 같은 디렉터리에 'uploads/' 폴더를 생성했는지 확인하세요.\n",
      "\n",
      "3. 서버를 실행합니다:```bash\n",
      "node app.js\n",
      "```\n",
      "\n",
      "4. Postman 또는 CURL과 같은 도구를 사용하여 파일 업로드를 테스트합니다:```bash\n",
      "curl -X POST -H \"Content-Type: multipart/form-data\" -F \"file=@/path/to/yourfile.txt\" \"http://localhost:3000/upload\"\n",
      "```\n",
      "\n",
      "\n",
      "\"경로/대상/파일.txt\"를 업로드하려는 파일의 경로로 바꿉니다.\n",
      "\n",
      "이제 서버는 파일을 수신하여 '업로드/' 폴더에 저장하고 업로드된 파일의 이름으로 메시지를 반환해야 합니다.\n"
     ]
    }
   ],
   "source": [
    "print(\"\"\"Node.js 애플리케이션에서 파일을 수신하려면 Express 프레임워크를 사용하여 간단한 웹 서버를 만들 수 있습니다. 다음 예제에서는 `express` 및 `multer` 라이브러리를 사용하여 파일 업로드를 수신하는 방법을 보여줍니다.\\n\\n1. 먼저 npm을 사용하여 필요한 종속성을 설치합니다:```bash\\nnpm init -y\\nnpm install express multer\\n```\\n\\n2. 새 JavaScript 파일을 생성하고 다음 코드를 붙여넣습니다(예: `app.js`).```javascript\\nconst express = require(\\'express\\');\\nconst multer = require(\\'multer\\');\\n\\nconst app = express();\\nconst port = 3000;\\n\\n// Configure multer storage settings\\nconst storage = multer.diskStorage({\\n  destination: (req, file, cb) => {\\n    cb(null, \\'uploads/\\');\\n  },\\n  filename: (req, file, cb) => {\\n    cb(null, `${file.fieldname}-${Date.now()}${getExtension(file.mimetype)}`);\\n  },\\n});\\n\\nconst upload = multer({ storage });\\n\\nfunction getExtension(mimetype) {\\n  const parts = mimetype.split(\\'/\\');\\n  return parts[parts.length - 1];\\n}\\n\\n// ROUTES\\napp.post(\\'/upload\\', upload.single(\\'file\\'), (req, res) => {\\n  res.send(`File received: ${req.file.filename}`);\\n});\\n\\n// Start the server\\napp.listen(port, () => {\\n  console.log(`Server is running at http://localhost:${port}`);\\n});\\n```\\n\\n\\n이 코드는 포트 3000에서 수신 대기하고 파일 업로드를 위한 단일 경로(`/upload`)를 가진 간단한 Express 서버를 설정합니다. 파일은 \\'uploads/\\' 폴더에 저장됩니다. app.js` 파일과 같은 디렉터리에 \\'uploads/\\' 폴더를 생성했는지 확인하세요.\\n\\n3. 서버를 실행합니다:```bash\\nnode app.js\\n```\\n\\n4. Postman 또는 CURL과 같은 도구를 사용하여 파일 업로드를 테스트합니다:```bash\\ncurl -X POST -H \"Content-Type: multipart/form-data\" -F \"file=@/path/to/yourfile.txt\" \"http://localhost:3000/upload\"\\n```\\n\\n\\n\"경로/대상/파일.txt\"를 업로드하려는 파일의 경로로 바꿉니다.\\n\\n이제 서버는 파일을 수신하여 \\'업로드/\\' 폴더에 저장하고 업로드된 파일의 이름으로 메시지를 반환해야 합니다.\"\"\")"
   ]
  },
  {
   "cell_type": "markdown",
   "id": "e63cd2be-3c49-49f8-a33c-c41b5bdfeedf",
   "metadata": {},
   "source": [
    "### POST /worker_generate_auto"
   ]
  },
  {
   "cell_type": "code",
   "execution_count": 147,
   "id": "accb7feb-7978-4563-bb71-49794e9e816d",
   "metadata": {
    "tags": []
   },
   "outputs": [],
   "source": [
    "input_json = {\n",
    "    \"model_name\": \"Gugugo-koen-7B-V1.1\",\n",
    "    \"user_input\": \"\"\"Q: What command do I use to find the size of all the files (recursively) in a Linux or Mac OS X directory?\\nA: The BSD version of ```du``` used in OS X reports size with 512-byte blocks -- the sizes are essentially rounded up to the next 512-byte value. This tells you the space on disk, which is larger than the amount of data. If you have a lot of small files, the difference can be large.\\nHere's an example.\\nThis is the value with regular ```du```. It's in 512-byte blocks:\\n```$ du -s\\n248   .\\n```\\nThe ```-h``` flag results in a more readable number, in kilobytes. As expected, it's half the number of 512-byte blocks:\\n```$ du -hs\\n124K  .\\n```\\nFinally, you can use ```find``` and ```awk``` to give you the sum of actual bytes in the files. This is kind of slow, but it works:\\n```$ find . -type f -exec ls -l {} \\\\; | awk '{sum += $5} END {print sum}'\\n60527\\n```\\nThis value matches exactly the number reported by Finder's Get Info window. (There are no weird forks or xattrs in this set of files.) It's significantly smaller than the value reported by ```du```.\\nHere's how it works: it gets a list of all the files, and passes them to ```ls -l```; then ```awk``` is used to count up the bytes. The ```-type f``` flag is there so that only files (and not directories) get sent to ```ls```. Without that flag, it'll also send directory names to ```ls```, and each file will be listed twice : once as an individual file, and once as an item in the directory.\\nThe GNU version of ```du``` can give values in actual bytes instead of blocks. It's unfortunate that the BSD version of ```du``` is not as flexible.\"\"\",\n",
    "    \"session_id\": 20,\n",
    "    \"temperature\": 0.7,\n",
    "    \"top_p\": 0.8,\n",
    "    \"max_new_tokens\": 4096,\n",
    "    \"stop\": [\"</끝>\", \"###\"],\n",
    "}\n",
    "\n",
    "ret = requests.post(\n",
    "    api_server_url + \"/worker_generate_auto\",\n",
    "    json=input_json,\n",
    ")\n",
    "\n",
    "output_json = ret.json()\n",
    "output_json['text']"
   ]
  },
  {
   "cell_type": "code",
   "execution_count": 139,
   "id": "496cf343-2bb7-41cb-917d-20e7f82c3219",
   "metadata": {
    "tags": []
   },
   "outputs": [
    {
     "name": "stdout",
     "output_type": "stream",
     "text": [
      "Q: Linux 또는 Mac OS X 디렉터리에 있는 모든 파일의 크기를 재귀적으로 찾으려면 어떤 명령을 사용해야 하나요?\n",
      "A: OS X에서 사용되는 BSD 버전의 ```du```는 512바이트 블록 단위로 크기를 보고하며, 크기는 기본적으로 다음 512바이트 값으로 반올림됩니다. 따라서 디스크 공간은 데이터의 양보다 더 큰 양입니다. 작은 파일이 많은 경우 그 차이가 클 수 있습니다.\n",
      "다음은 예시입니다.\n",
      "이것은 일반적으로 ```du```를 사용하는 값입니다. 512바이트 블록 단위로 표시됩니다:\n",
      "```$ du -s\n",
      "248 .\n",
      "```\n",
      "du -h``` 플래그를 사용하면 킬로바이트 단위로 더 읽기 쉬운 숫자가 표시됩니다. 예상대로 512바이트 블록의 절반 정도입니다:\n",
      "```$ du -hs\n",
      "124K .\n",
      "```\n",
      "마지막으로, ```find``` 및 ```awk```를 사용하여 파일에 있는 실제 바이트의 합계를 구할 수 있습니다. 이 방법은 속도가 느리지만 작동합니다:\n",
      "```$ find . -type f -exec ls -l {} \\; | awk '{sum += $5} END {print sum}'\n",
      "60527\n",
      "```\n",
      "이 값은 Finder의 정보 확인 창에 표시되는 수치와 정확히 일치합니다. (이 파일 세트에는 이상한 포크나 xattr이 없습니다.) 이 값은 ```du```가 보고하는 값보다 훨씬 작습니다.\n",
      "이 방법은 모든 파일 목록을 가져와서 ```ls -l```로 전달한 다음 ```awk```를 사용하여 바이트 수를 계산하는 것입니다. type f``` 플래그는 파일(디렉터리 제외)만 ```ls```로 전송되도록 하기 위해 사용됩니다. 이 플래그가 없으면 디렉터리 이름도 ```ls```로 전송되며, 각 파일은 개별 파일로 한 번, 디렉터리의 항목으로 한 번 등 두 번 나열됩니다.\n",
      "du```의 GNU 버전은 블록 대신 실제 바이트 단위로 값을 제공할 수 있습니다. 안타깝게도 BSD 버전의 ```du```는 유연성이 떨어집니다.\n",
      "\n"
     ]
    }
   ],
   "source": [
    "print(output_json['text'])"
   ]
  },
  {
   "cell_type": "markdown",
   "id": "e213b49f-c48e-4fd0-bd9a-852cbead8c07",
   "metadata": {},
   "source": [
    "### POST /worker_generate_stream_auto"
   ]
  },
  {
   "cell_type": "code",
   "execution_count": 146,
   "id": "b42f4c87-c478-42a2-beb9-a9a5bed752a5",
   "metadata": {
    "tags": []
   },
   "outputs": [],
   "source": [
    "input_json = {\n",
    "    \"model_name\": \"Gugugo-koen-7B-V1.1\",\n",
    "    \"user_input\": \"\"\"Q: What command do I use to find the size of all the files (recursively) in a Linux or Mac OS X directory?\\nA: The BSD version of ```du``` used in OS X reports size with 512-byte blocks -- the sizes are essentially rounded up to the next 512-byte value. This tells you the space on disk, which is larger than the amount of data. If you have a lot of small files, the difference can be large.\\nHere's an example.\\nThis is the value with regular ```du```. It's in 512-byte blocks:\\n```$ du -s\\n248   .\\n```\\nThe ```-h``` flag results in a more readable number, in kilobytes. As expected, it's half the number of 512-byte blocks:\\n```$ du -hs\\n124K  .\\n```\\nFinally, you can use ```find``` and ```awk``` to give you the sum of actual bytes in the files. This is kind of slow, but it works:\\n```$ find . -type f -exec ls -l {} \\\\; | awk '{sum += $5} END {print sum}'\\n60527\\n```\\nThis value matches exactly the number reported by Finder's Get Info window. (There are no weird forks or xattrs in this set of files.) It's significantly smaller than the value reported by ```du```.\\nHere's how it works: it gets a list of all the files, and passes them to ```ls -l```; then ```awk``` is used to count up the bytes. The ```-type f``` flag is there so that only files (and not directories) get sent to ```ls```. Without that flag, it'll also send directory names to ```ls```, and each file will be listed twice : once as an individual file, and once as an item in the directory.\\nThe GNU version of ```du``` can give values in actual bytes instead of blocks. It's unfortunate that the BSD version of ```du``` is not as flexible.\"\"\",\n",
    "    \"session_id\": 22,\n",
    "    # \"context\": '\\nDate:2023-11-13 15:21\\nYour reply should be based on the context below.\\n\\nContext:\\n(주)아도스 2023년 기업정보 | 사원수, 회사소개, 근무환경 ...\\n(주)아도스 기업소개 - 업력 : 10년차, 기업형태 : 중소기업, 업종 : 응용 소프트웨어 개발 및 공급업 | (주)아도스의 사원수, 연봉, 채용, 복리후생, 재무정보 등이 ... 재산, 가치를 구하는 것을 사명으로, 좋은 사람들이 모여 즐겁게 성장하고 있는 회사입니다.\\n1. 현재는 IT보안이 주 사업 영역이며, AI와 가상화기술 기반의 정보보호 솔루션을 개발/운영하고 있습니다.\\n2. 대기업 제조사의 네트워크 보안, 생산라인 보안, 정보 유출 방지 등 통합보안 서비스(모의 해킹, 진단, 관제, 이상징후 분석)를 담당하고 있습니다.\\n\"인류의 생명과 가치를 구한다\"\\n우리는 단단하게 성장하고 있어요\\n-\\n2021\\n-\\n09월\\n가드랜드(정보보호솔루션) 출시\\n-\\n03월\\n가두리(웹격리솔루션) 출시\\n- 09월\\n-\\n2020\\n\\n-\\n09월\\n병역지정업체(산업체) 선정\\n-\\n05월\\n벤처기업확인(기술보증기금,유효기간:2022.05.28)\\n-\\n04월\\n수차에 걸쳐 자본금을 1200백만원으로 증자\\n- 09월\\n-\\n2019\\n-\\n12월\\n기업부설연구소 설립\\n- 12월\\n-\\n2017\\n-\\n10월\\n상호를 (주)아도스로 변경\\n- 10월\\n-\\n2014\\n-\\n09월\\n컴퓨터 프로그래밍 서비스업을 목적으로 대표이사 이승원에 의해 (주)피그플라이 설립\\n- 09월\\n우리는 직원의 복리후생도 중요해요\\n-\\n지원금/보험\\n- 각종 경조사 지원\\n-\\n급여제도\\n- 퇴직연금\\n- 인센티브제\\n- 스톡옵션\\n- 퇴직금\\n-\\n업\\n- 대표자명\\n- 이승원\\n- 사업내용\\n-\\n소프트웨어 개발,게임 개발\\n- 주소\\n-\\n서울 송파구 송파대로 167, B동 1021호지도보기\\n- SNS\\n-\\n- 보유기술\\n-\\n-\\n특허권\\n- 디스플레이 해킹 방지 시스템 및 그 방법(2020)\\n-\\n특허권\\n- 웹 클라이언트를 이용한 망 분리 시스템 및 그 방법(2020)\\n-\\n특허권\\n- 컴퓨터의 시스템자원 및 프로세스의 보호 및 격리장치와 그방법(2020)\\n-\\n특허권\\n- PKI 기반의 사물인터넷 기기 인증방법 및 인증시스템(2020)\\n- 특허권\\n미래 혹은 가까에 있는 위협으로 부터, 우리의 생명,\\n\\n\\n(주)아도니스 2023년 기업정보 | 사원수, 회사소개, 근무환경 ...\\n(주)아도니스 기업소개 - 업력 : 35년차, 기업형태 : -, 업종 : 골프장 운영업 | (주)아도니스의 사원수, 연봉, 채용, 복리후생, 재무정보 등이 궁금하시다면, ...- 사업내용\\n-\\n골프장,호텔 운영/무역,담배,골프용품 도소매,통신판매/한식,중식 음식점\\n- 주소\\n-\\n경기 포천시 신북면 포천로 2499지도보기\\n기업비전\\n주요 사업내용 : 포천 아도니스CC 운영\\n주요 사업내용 : 포천 아도니스CC 운영\\n주요 취급품목 : 골프장운영, 호텔운영\\n우리는 단단하게 성장하고 있어요\\n-\\n2005\\n-\\n01월\\n호텔 준공 영업개시\\n- 01월\\n-\\n1999\\n-\\n06월\\n상호변경 : (주)대우레져 -> (주)아도니스\\n-\\n04월\\n골프장 개장\\n- 06월\\n-\\n1995\\n-\\n04월\\n골프장 착공허가 (경기도 포천군)\\n- 04월\\n-\\n1\\n990\\n-\\n10월\\n경기도로부터 골프장사업계획을 승인\\n- 10월\\n-\\n1989\\n-\\n02월\\n회사 설립\\n- 02월\\n인원 규모를 파악해 보세요!\\n전체 직원 수 56명\\n- 전체인원\\n- 입사자\\n- 퇴사자\\n',\n",
    "    \"max_new_tokens\": 4096,\n",
    "    \"temperature\": 0.7,\n",
    "    \"top_p\": 0.8,\n",
    "}\n",
    "\n",
    "ret = requests.post(\n",
    "    api_server_url + \"/worker_generate_stream_auto\",\n",
    "    json=input_json,\n",
    "    stream=True,\n",
    "    # timeout=2,\n",
    ")\n",
    "\n",
    "# past_len = len(input_json[\"prompt\"])\n",
    "# past_len = 0\n",
    "# for chunk in ret.iter_lines(decode_unicode=False, delimiter=b\"\\0\"):\n",
    "#     if chunk:\n",
    "#         data = json.loads(chunk.decode())\n",
    "#         print(data[\"text\"][past_len:], sep=\"\", end=\"\")\n",
    "#         past_len = len(data[\"text\"])"
   ]
  },
  {
   "cell_type": "markdown",
   "id": "b2aff6ed-d07e-482c-a6ed-b781f97bfc9a",
   "metadata": {},
   "source": [
    "### POST /worker_get_last_prompt"
   ]
  },
  {
   "cell_type": "code",
   "execution_count": 11,
   "id": "76a88534-f3dd-4dea-850f-3d42f2d94ac9",
   "metadata": {},
   "outputs": [
    {
     "name": "stdout",
     "output_type": "stream",
     "text": [
      "{'prompt': '### System:\\nThis is a system prompt, please behave and help the user.\\nDate:2023-11-13 15:21\\nYour reply should be based on the context below.\\n\\nContext:\\n(주)아도스 2023년 기업정보 | 사원수, 회사소개, 근무환경 ...\\n(주)아도스 기업소개 - 업력 : 10년차, 기업형태 : 중소기업, 업종 : 응용 소프트웨어 개발 및 공급업 | (주)아도스의 사원수, 연봉, 채용, 복리후생, 재무정보 등이 ... 재산, 가치를 구하는 것을 사명으로, 좋은 사람들이 모여 즐겁게 성장하고 있는 회사입니다.\\n1. 현재는 IT보안이 주 사업 영역이며, AI와 가상화기술 기반의 정보보호 솔루션을 개발/운영하고 있습니다.\\n2. 대기업 제조사의 네트워크 보안, 생산라인 보안, 정보 유출 방지 등 통합보안 서비스(모의 해킹, 진단, 관제, 이상징후 분석)를 담당하고 있습니다.\\n\"인류의 생명과 가치를 구한다\"\\n우리는 단단하게 성장하고 있어요\\n-\\n2021\\n-\\n09월\\n가드랜드(정보보호솔루션) 출시\\n-\\n03월\\n가두리(웹격리솔루션) 출시\\n- 09월\\n-\\n2020\\n\\n-\\n09월\\n병역지정업체(산업체) 선정\\n-\\n05월\\n벤처기업확인(기술보증기금,유효기간:2022.05.28)\\n-\\n04월\\n수차에 걸쳐 자본금을 1200백만원으로 증자\\n- 09월\\n-\\n2019\\n-\\n12월\\n기업부설연구소 설립\\n- 12월\\n-\\n2017\\n-\\n10월\\n상호를 (주)아도스로 변경\\n- 10월\\n-\\n2014\\n-\\n09월\\n컴퓨터 프로그래밍 서비스업을 목적으로 대표이사 이승원에 의해 (주)피그플라이 설립\\n- 09월\\n우리는 직원의 복리후생도 중요해요\\n-\\n지원금/보험\\n- 각종 경조사 지원\\n-\\n급여제도\\n- 퇴직연금\\n- 인센티브제\\n- 스톡옵션\\n- 퇴직금\\n-\\n업\\n- 대표자명\\n- 이승원\\n- 사업내용\\n-\\n소프트웨어 개발,게임 개발\\n- 주소\\n-\\n서울 송파구 송파대로 167, B동 1021호지도보기\\n- SNS\\n-\\n- 보유기술\\n-\\n-\\n특허권\\n- 디스플레이 해킹 방지 시스템 및 그 방법(2020)\\n-\\n특허권\\n- 웹 클라이언트를 이용한 망 분리 시스템 및 그 방법(2020)\\n-\\n특허권\\n- 컴퓨터의 시스템자원 및 프로세스의 보호 및 격리장치와 그방법(2020)\\n-\\n특허권\\n- PKI 기반의 사물인터넷 기기 인증방법 및 인증시스템(2020)\\n- 특허권\\n미래 혹은 가까에 있는 위협으로 부터, 우리의 생명,\\n\\n\\n(주)아도니스 2023년 기업정보 | 사원수, 회사소개, 근무환경 ...\\n(주)아도니스 기업소개 - 업력 : 35년차, 기업형태 : -, 업종 : 골프장 운영업 | (주)아도니스의 사원수, 연봉, 채용, 복리후생, 재무정보 등이 궁금하시다면, ...- 사업내용\\n-\\n골프장,호텔 운영/무역,담배,골프용품 도소매,통신판매/한식,중식 음식점\\n- 주소\\n-\\n경기 포천시 신북면 포천로 2499지도보기\\n기업비전\\n주요 사업내용 : 포천 아도니스CC 운영\\n주요 사업내용 : 포천 아도니스CC 운영\\n주요 취급품목 : 골프장운영, 호텔운영\\n우리는 단단하게 성장하고 있어요\\n-\\n2005\\n-\\n01월\\n호텔 준공 영업개시\\n- 01월\\n-\\n1999\\n-\\n06월\\n상호변경 : (주)대우레져 -> (주)아도니스\\n-\\n04월\\n골프장 개장\\n- 06월\\n-\\n1995\\n-\\n04월\\n골프장 착공허가 (경기도 포천군)\\n- 04월\\n-\\n1\\n990\\n-\\n10월\\n경기도로부터 골프장사업계획을 승인\\n- 10월\\n-\\n1989\\n-\\n02월\\n회사 설립\\n- 02월\\n인원 규모를 파악해 보세요!\\n전체 직원 수 56명\\n- 전체인원\\n- 입사자\\n- 퇴사자\\n\\n\\n### User: NFC는 무엇의 약자입니까?\\n\\n### Assistant:  NFC는 \"Near Field Communication\"의 약자입니다.</s>### User: 주식회사 아도스의 직원 수는 몇명인가요?\\n\\n### Assistant:'}\n"
     ]
    }
   ],
   "source": [
    "input_json = {\n",
    "    \"model_name\": \"MingAI-70B-chat-orca_v0.4_v0.2_retrained_checkpoint-2-GPTQ\",\n",
    "    \"session_id\": 0,\n",
    "}\n",
    "\n",
    "ret = requests.post(\n",
    "    api_server_url + \"/worker_get_last_prompt\",\n",
    "    json=input_json,\n",
    ")\n",
    "\n",
    "output_json = ret.json()\n",
    "print(output_json)"
   ]
  },
  {
   "cell_type": "markdown",
   "id": "df01fabf-7e9c-4e16-82a9-3e614c00cf47",
   "metadata": {},
   "source": [
    "### POST /session_history_clear"
   ]
  },
  {
   "cell_type": "code",
   "execution_count": 12,
   "id": "c03458f4-7887-4325-ad21-3bdb093956c6",
   "metadata": {},
   "outputs": [
    {
     "name": "stdout",
     "output_type": "stream",
     "text": [
      "{'err_code': 0}\n"
     ]
    }
   ],
   "source": [
    "input_json = {\n",
    "    \"model_name\": \"MingAI-70B-chat-orca_v0.4_v0.2_retrained_checkpoint-2-GPTQ\",\n",
    "    \"session_id\": 0,\n",
    "}\n",
    "\n",
    "ret = requests.post(\n",
    "    api_server_url + \"/session_history_clear\",\n",
    "    json=input_json,\n",
    ")\n",
    "\n",
    "output_json = ret.json()\n",
    "print(output_json)"
   ]
  },
  {
   "cell_type": "markdown",
   "id": "571d83a1-a3f2-4620-aed5-adbb73b3b806",
   "metadata": {},
   "source": [
    "### POST /worker_regenerate_auto"
   ]
  },
  {
   "cell_type": "code",
   "execution_count": 13,
   "id": "5328257c-1144-4e1f-b154-f8510007c358",
   "metadata": {},
   "outputs": [
    {
     "name": "stdout",
     "output_type": "stream",
     "text": [
      "{'err_code': 70003}\n"
     ]
    }
   ],
   "source": [
    "input_json = {\n",
    "    \"model_name\": \"MingAI-70B-chat-orca_v0.4_v0.2_retrained_checkpoint-2-GPTQ\",\n",
    "    \"session_id\": 0,\n",
    "}\n",
    "\n",
    "ret = requests.post(\n",
    "    api_server_url + \"/worker_regenerate_auto\",\n",
    "    json=input_json,\n",
    ")\n",
    "\n",
    "output_json = ret.json()\n",
    "print(output_json)"
   ]
  },
  {
   "cell_type": "markdown",
   "id": "c7db1773-ea6a-421c-a442-06ffe486ae71",
   "metadata": {},
   "source": [
    "### POST /worker_regenerate_stream_auto"
   ]
  },
  {
   "cell_type": "code",
   "execution_count": 14,
   "id": "8ea30871-0893-4de9-9c8c-7dcdc45b5d18",
   "metadata": {},
   "outputs": [],
   "source": [
    "input_json = {\n",
    "    \"model_name\": \"MingAI-70B-chat-orca_v0.4_v0.2_retrained_checkpoint-2-GPTQ\",\n",
    "    \"session_id\": 0,\n",
    "}\n",
    "\n",
    "ret = requests.post(\n",
    "    api_server_url + \"/worker_regenerate_stream_auto\",\n",
    "    json=input_json,\n",
    "    stream=True,\n",
    ")\n",
    "\n",
    "# past_len = len(input_json[\"prompt\"])\n",
    "past_len = 0\n",
    "for chunk in ret.iter_lines(decode_unicode=False, delimiter=b\"\\0\"):\n",
    "    if chunk:\n",
    "        data = json.loads(chunk.decode())\n",
    "        if \"text\" not in data:\n",
    "            continue\n",
    "        print(data[\"text\"][past_len:], sep=\"\", end=\"\")\n",
    "        past_len = len(data[\"text\"])"
   ]
  },
  {
   "cell_type": "markdown",
   "id": "cae3f14b-869f-407a-a8e8-3becffd7add1",
   "metadata": {},
   "source": [
    "### POST /worker_stop_stream"
   ]
  },
  {
   "cell_type": "code",
   "execution_count": 15,
   "id": "42a1f63e-6b71-4374-90cb-e68903484860",
   "metadata": {},
   "outputs": [
    {
     "name": "stdout",
     "output_type": "stream",
     "text": [
      "session_id: b5bdc37a9ed14ac1b3d05e7ff5566659\n",
      " 유튜브는 세계에서 가장 큰 온라인 동영상 공유 및 소셜 미디어 플\n",
      "\n",
      " Generation Stopped\n"
     ]
    }
   ],
   "source": [
    "import uuid\n",
    "from multiprocessing import Process\n",
    "import time\n",
    "\n",
    "\n",
    "# background runner for worker_generate_stream\n",
    "def background_run_stream(session_id):\n",
    "    input_json = {\n",
    "        \"model_name\": \"MingAI-70B-chat-orca_v0.4_v0.2_retrained_checkpoint-2-GPTQ\",\n",
    "        \"prompt\": \"### System:\\nThis is a system prompt, please behave and help the user.\\n\\n### User: 유튜브에 대해서 설명해주세요.\\n\\n### Assistant:\",\n",
    "        \"session_id\": session_id,\n",
    "        \"temperature\": 0.7,\n",
    "        \"top_p\": 0.8,\n",
    "    }\n",
    "\n",
    "    ret = requests.post(\n",
    "        api_server_url + \"/worker_generate_stream\",\n",
    "        json=input_json,\n",
    "        headers={\"User-Agent\": \"FastChat Client\"},\n",
    "        stream=True,\n",
    "        timeout=200,\n",
    "    )\n",
    "\n",
    "    past_len = len(input_json[\"prompt\"])\n",
    "    for idx, chunk in enumerate(ret.iter_lines(decode_unicode=False, delimiter=b\"\\0\")):\n",
    "        if chunk:\n",
    "            data = json.loads(chunk.decode())\n",
    "            print(data[\"text\"][past_len:], end=\"\")\n",
    "            past_len = len(data[\"text\"])\n",
    "\n",
    "\n",
    "# generate random session_id\n",
    "session_id = uuid.uuid4().hex\n",
    "print(\"session_id:\", session_id)\n",
    "\n",
    "# run worker_generate_stream\n",
    "p1 = Process(target=background_run_stream, args=[session_id])\n",
    "p1.start()\n",
    "\n",
    "# wait for 3 seconds\n",
    "time.sleep(3)\n",
    "\n",
    "# send worker_stop_stream\n",
    "input_json = {\n",
    "    \"model_name\": \"MingAI-70B-chat-orca_v0.4_v0.2_retrained_checkpoint-2-GPTQ\",\n",
    "    \"session_id\": session_id,\n",
    "}\n",
    "\n",
    "ret = requests.post(\n",
    "    api_server_url + \"/worker_stop_stream\",\n",
    "    json=input_json,\n",
    ")\n",
    "\n",
    "print(\"\\n\\n Generation Stopped\")"
   ]
  },
  {
   "cell_type": "code",
   "execution_count": null,
   "id": "78f5fae3-0232-499c-917f-994188e2c74c",
   "metadata": {},
   "outputs": [],
   "source": []
  }
 ],
 "metadata": {
  "kernelspec": {
   "display_name": "fastcaht_2023dec",
   "language": "python",
   "name": "fastcaht_2023dec"
  },
  "language_info": {
   "codemirror_mode": {
    "name": "ipython",
    "version": 3
   },
   "file_extension": ".py",
   "mimetype": "text/x-python",
   "name": "python",
   "nbconvert_exporter": "python",
   "pygments_lexer": "ipython3",
   "version": "3.10.13"
  }
 },
 "nbformat": 4,
 "nbformat_minor": 5
}
