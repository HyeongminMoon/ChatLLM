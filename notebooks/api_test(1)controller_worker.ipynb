{
 "cells": [
  {
   "cell_type": "code",
   "execution_count": 69,
   "id": "74ff3f73-a3f6-430f-8645-20d3f4990461",
   "metadata": {
    "tags": []
   },
   "outputs": [],
   "source": [
    "import requests\n",
    "import json\n",
    "\n",
    "# api_server_url = \"http://localhost:41001\"\n",
    "api_server_url = \"https://allsecure.co.kr/api\"\n",
    "api_server_url = \"https://77c5-59-13-206-70.ngrok-free.app\""
   ]
  },
  {
   "cell_type": "markdown",
   "id": "debbdf51-652b-4106-9b42-2a0283efd3d9",
   "metadata": {},
   "source": [
    "# 1. Controller API"
   ]
  },
  {
   "cell_type": "markdown",
   "id": "bd859ec5-900b-46c9-96a5-a83b7aee2ef8",
   "metadata": {},
   "source": [
    "### GET /list_models "
   ]
  },
  {
   "cell_type": "code",
   "execution_count": 71,
   "id": "d4fd3010-4864-4548-91a5-a395bd05a6f6",
   "metadata": {},
   "outputs": [
    {
     "name": "stdout",
     "output_type": "stream",
     "text": [
      "{'models': ['COKAL-ko-v1-70B-GPTQ', 'MingAI-70B-chat-orca_v0.4_v0.2_retrained_checkpoint-2-GPTQ', 'Mixtral-8x7B-Instruct-v0.1-GPTQ', 'MingAI-70B-chat-orca_v0.42_2_dpo-GPTQ']}\n"
     ]
    }
   ],
   "source": [
    "ret = requests.get(api_server_url + \"/list_models\")\n",
    "\n",
    "output_json = ret.json()\n",
    "print(output_json)"
   ]
  },
  {
   "cell_type": "markdown",
   "id": "938e7137-781d-48e3-a7bc-96db61972ed4",
   "metadata": {},
   "source": [
    "### GET /refresh_all_models"
   ]
  },
  {
   "cell_type": "code",
   "execution_count": 21,
   "id": "03458df9-352e-4f16-99ea-89833f55b71e",
   "metadata": {},
   "outputs": [],
   "source": [
    "ret = requests.get(api_server_url + \"/refresh_all_models\")"
   ]
  },
  {
   "cell_type": "markdown",
   "id": "00665250-cf02-4a0e-9a7f-13739e827e8f",
   "metadata": {},
   "source": [
    "### GET /get_random_uuid"
   ]
  },
  {
   "cell_type": "code",
   "execution_count": 3,
   "id": "7029b02e-1ce5-480d-a6f4-68687bca8112",
   "metadata": {},
   "outputs": [
    {
     "name": "stdout",
     "output_type": "stream",
     "text": [
      "{'uuid': '126e8b00e48a453c820219e9c6179ca8'}\n"
     ]
    }
   ],
   "source": [
    "ret = requests.get(api_server_url + \"/get_random_uuid\")\n",
    "\n",
    "output_json = ret.json()\n",
    "print(output_json)"
   ]
  },
  {
   "cell_type": "markdown",
   "id": "a4c9a268-9056-4d2a-b626-bca22bab7db4",
   "metadata": {},
   "source": [
    "### (deprecated) {controller_address}/get_worker_address"
   ]
  },
  {
   "cell_type": "markdown",
   "id": "726a1eb9-4c2b-4c6a-a3a1-8cb3233a39d9",
   "metadata": {},
   "source": [
    "model_name = output_json['models'][1]\n",
    "print(\"model_name:\", model_name)\n",
    "\n",
    "input_json = {\n",
    "    \"model\": model_name\n",
    "}\n",
    "\n",
    "ret = requests.post(\n",
    "    controller_url + \"/get_worker_address\", \n",
    "    json=input_json\n",
    ")\n",
    "\n",
    "output_json = ret.json()\n",
    "print(output_json)"
   ]
  },
  {
   "cell_type": "markdown",
   "id": "4c808422-d4cf-47d5-bc1b-8a6fac87e47e",
   "metadata": {},
   "source": [
    "# 2. Worker API"
   ]
  },
  {
   "cell_type": "markdown",
   "id": "4e9d06ab-38c7-4d93-aaa1-c4c744e639ac",
   "metadata": {},
   "source": [
    "### POST /model_details "
   ]
  },
  {
   "cell_type": "code",
   "execution_count": 104,
   "id": "f480d40b-c57d-4a5c-852e-f992450e23f9",
   "metadata": {},
   "outputs": [
    {
     "name": "stdout",
     "output_type": "stream",
     "text": [
      "{'context_length': 8192}\n"
     ]
    }
   ],
   "source": [
    "input_json = {\n",
    "    \"model_name\": \"llama2-13b-dpo-v4\",\n",
    "}\n",
    "\n",
    "ret = requests.post(\n",
    "    api_server_url + \"/model_details\",\n",
    "    json=input_json,\n",
    ")\n",
    "\n",
    "output_json = ret.json()\n",
    "print(output_json)"
   ]
  },
  {
   "cell_type": "markdown",
   "id": "c1180905-8dbc-412c-b4aa-46be1c38fc16",
   "metadata": {},
   "source": [
    "### POST /worker_get_conv_template  "
   ]
  },
  {
   "cell_type": "code",
   "execution_count": 5,
   "id": "870084f9-8215-439f-9bc7-87312de6037b",
   "metadata": {},
   "outputs": [
    {
     "name": "stdout",
     "output_type": "stream",
     "text": [
      "{'conv': {'name': 'chat-orca', 'system_template': '{system_message}', 'system_message': '### System:\\nThis is a system prompt, please behave and help the user.', 'roles': ['### User', '### Assistant'], 'messages': [], 'offset': 0, 'sep_style': 2, 'sep': '\\n\\n', 'sep2': '</s>', 'stop_str': None, 'stop_token_ids': None, 'config': {'max_new_tokens': 4096}, 'translator_system': None, 'retrieval_system': None}}\n"
     ]
    }
   ],
   "source": [
    "input_json = {\n",
    "    \"model_name\": \"MingAI-70B-chat-orca_v0.4_v0.2_retrained_checkpoint-2-GPTQ\",\n",
    "}\n",
    "\n",
    "ret = requests.post(\n",
    "    api_server_url + \"/worker_get_conv_template\",\n",
    "    json=input_json,\n",
    ")\n",
    "\n",
    "output_json = ret.json()\n",
    "print(output_json)"
   ]
  },
  {
   "cell_type": "markdown",
   "id": "2bdb64af-60a4-4731-9334-c29bf056552d",
   "metadata": {},
   "source": [
    "### POST /count_token "
   ]
  },
  {
   "cell_type": "code",
   "execution_count": 111,
   "id": "66ada64e-2a49-4ab6-b084-42b1b04cd32a",
   "metadata": {},
   "outputs": [
    {
     "name": "stdout",
     "output_type": "stream",
     "text": [
      "{'count': 7478, 'error_code': 0}\n"
     ]
    }
   ],
   "source": [
    "input_json = {\n",
    "    \"model_name\": \"llama2-13b-dpo-v4\",\n",
    "    # \"prompt\": \"### System:\\nThis is a system prompt, please behave and help the user.\\n\\n### User: NFC는 무엇의 약자입니까?\\n\\n### Assistant:\"\n",
    "    \"prompt\": \"\"\"물론이죠! 여기 25가지 여름철에 아이들이 즐길 수 있는 재미있고 건강한 활동 목록이 있습니다:\"\"\",\n",
    "}\n",
    "\n",
    "ret = requests.post(api_server_url + \"/count_token\", json=input_json)\n",
    "\n",
    "output_json = ret.json()\n",
    "print(output_json)"
   ]
  },
  {
   "cell_type": "markdown",
   "id": "1d3ed9d9-075a-44fd-8ff7-1e447ab46fc9",
   "metadata": {},
   "source": [
    "### POST /worker_generate"
   ]
  },
  {
   "cell_type": "code",
   "execution_count": null,
   "id": "414d532b-ab14-41d1-8714-9135b377167e",
   "metadata": {
    "tags": []
   },
   "outputs": [],
   "source": [
    "input_json = {\n",
    "    \"model_name\": \"MingAI-70B-chat-orca_v0.4_v0.2_retrained_checkpoint-2-GPTQ2\",\n",
    "    \"prompt\": \"### System:\\nThis is a system prompt, please behave and help the user.\\n\\n### User: NFC는 무엇의 약자입니까?\\n\\n### Assistant:\",\n",
    "    \"temperature\": 0.7,\n",
    "    \"top_p\": 0.8,\n",
    "    \"session_id\": 3,\n",
    "}\n",
    "\n",
    "ret = requests.post(\n",
    "    api_server_url + \"/worker_generate\",\n",
    "    json=input_json,\n",
    ")\n",
    "\n",
    "output_json = ret.json()\n",
    "print(output_json)"
   ]
  },
  {
   "cell_type": "markdown",
   "id": "6ded4212-0df3-4dba-86b2-a15d8e1cdc87",
   "metadata": {},
   "source": [
    "### POST /worker_generate_stream"
   ]
  },
  {
   "cell_type": "code",
   "execution_count": 78,
   "id": "8a3bfe58-922c-40a9-a14a-65c4da611e4c",
   "metadata": {
    "scrolled": true,
    "tags": []
   },
   "outputs": [
    {
     "name": "stdout",
     "output_type": "stream",
     "text": [
      " 다음 단계를 따르십시오 따르십시오.\n",
      "1. 1. 새 새 새 응용 프로그램 프로젝트 :\n",
      "새 새 새 응용 프로그램 프"
     ]
    },
    {
     "ename": "KeyboardInterrupt",
     "evalue": "",
     "output_type": "error",
     "traceback": [
      "\u001b[0;31m---------------------------------------------------------------------------\u001b[0m",
      "\u001b[0;31mKeyboardInterrupt\u001b[0m                         Traceback (most recent call last)",
      "Cell \u001b[0;32mIn[78], line 19\u001b[0m\n\u001b[1;32m     11\u001b[0m ret \u001b[38;5;241m=\u001b[39m requests\u001b[38;5;241m.\u001b[39mpost(\n\u001b[1;32m     12\u001b[0m     api_server_url \u001b[38;5;241m+\u001b[39m \u001b[38;5;124m\"\u001b[39m\u001b[38;5;124m/worker_generate_stream\u001b[39m\u001b[38;5;124m\"\u001b[39m,\n\u001b[1;32m     13\u001b[0m     json\u001b[38;5;241m=\u001b[39minput_json,\n\u001b[1;32m     14\u001b[0m     stream\u001b[38;5;241m=\u001b[39m\u001b[38;5;28;01mTrue\u001b[39;00m,\n\u001b[1;32m     15\u001b[0m     \u001b[38;5;66;03m# timeout=200,\u001b[39;00m\n\u001b[1;32m     16\u001b[0m )\n\u001b[1;32m     18\u001b[0m past_len \u001b[38;5;241m=\u001b[39m \u001b[38;5;28mlen\u001b[39m(input_json[\u001b[38;5;124m\"\u001b[39m\u001b[38;5;124mprompt\u001b[39m\u001b[38;5;124m\"\u001b[39m])\n\u001b[0;32m---> 19\u001b[0m \u001b[38;5;28;01mfor\u001b[39;00m chunk \u001b[38;5;129;01min\u001b[39;00m ret\u001b[38;5;241m.\u001b[39miter_lines(decode_unicode\u001b[38;5;241m=\u001b[39m\u001b[38;5;28;01mFalse\u001b[39;00m, delimiter\u001b[38;5;241m=\u001b[39m\u001b[38;5;124mb\u001b[39m\u001b[38;5;124m\"\u001b[39m\u001b[38;5;130;01m\\0\u001b[39;00m\u001b[38;5;124m\"\u001b[39m):\n\u001b[1;32m     20\u001b[0m     \u001b[38;5;28;01mif\u001b[39;00m chunk:\n\u001b[1;32m     21\u001b[0m         data \u001b[38;5;241m=\u001b[39m json\u001b[38;5;241m.\u001b[39mloads(chunk\u001b[38;5;241m.\u001b[39mdecode())\n",
      "File \u001b[0;32m~/anaconda3/envs/fastchat_2023dec/lib/python3.10/site-packages/requests/models.py:865\u001b[0m, in \u001b[0;36mResponse.iter_lines\u001b[0;34m(self, chunk_size, decode_unicode, delimiter)\u001b[0m\n\u001b[1;32m    856\u001b[0m \u001b[38;5;250m\u001b[39m\u001b[38;5;124;03m\"\"\"Iterates over the response data, one line at a time.  When\u001b[39;00m\n\u001b[1;32m    857\u001b[0m \u001b[38;5;124;03mstream=True is set on the request, this avoids reading the\u001b[39;00m\n\u001b[1;32m    858\u001b[0m \u001b[38;5;124;03mcontent at once into memory for large responses.\u001b[39;00m\n\u001b[1;32m    859\u001b[0m \n\u001b[1;32m    860\u001b[0m \u001b[38;5;124;03m.. note:: This method is not reentrant safe.\u001b[39;00m\n\u001b[1;32m    861\u001b[0m \u001b[38;5;124;03m\"\"\"\u001b[39;00m\n\u001b[1;32m    863\u001b[0m pending \u001b[38;5;241m=\u001b[39m \u001b[38;5;28;01mNone\u001b[39;00m\n\u001b[0;32m--> 865\u001b[0m \u001b[38;5;28;01mfor\u001b[39;00m chunk \u001b[38;5;129;01min\u001b[39;00m \u001b[38;5;28mself\u001b[39m\u001b[38;5;241m.\u001b[39miter_content(\n\u001b[1;32m    866\u001b[0m     chunk_size\u001b[38;5;241m=\u001b[39mchunk_size, decode_unicode\u001b[38;5;241m=\u001b[39mdecode_unicode\n\u001b[1;32m    867\u001b[0m ):\n\u001b[1;32m    869\u001b[0m     \u001b[38;5;28;01mif\u001b[39;00m pending \u001b[38;5;129;01mis\u001b[39;00m \u001b[38;5;129;01mnot\u001b[39;00m \u001b[38;5;28;01mNone\u001b[39;00m:\n\u001b[1;32m    870\u001b[0m         chunk \u001b[38;5;241m=\u001b[39m pending \u001b[38;5;241m+\u001b[39m chunk\n",
      "File \u001b[0;32m~/anaconda3/envs/fastchat_2023dec/lib/python3.10/site-packages/requests/models.py:816\u001b[0m, in \u001b[0;36mResponse.iter_content.<locals>.generate\u001b[0;34m()\u001b[0m\n\u001b[1;32m    814\u001b[0m \u001b[38;5;28;01mif\u001b[39;00m \u001b[38;5;28mhasattr\u001b[39m(\u001b[38;5;28mself\u001b[39m\u001b[38;5;241m.\u001b[39mraw, \u001b[38;5;124m\"\u001b[39m\u001b[38;5;124mstream\u001b[39m\u001b[38;5;124m\"\u001b[39m):\n\u001b[1;32m    815\u001b[0m     \u001b[38;5;28;01mtry\u001b[39;00m:\n\u001b[0;32m--> 816\u001b[0m         \u001b[38;5;28;01myield from\u001b[39;00m \u001b[38;5;28mself\u001b[39m\u001b[38;5;241m.\u001b[39mraw\u001b[38;5;241m.\u001b[39mstream(chunk_size, decode_content\u001b[38;5;241m=\u001b[39m\u001b[38;5;28;01mTrue\u001b[39;00m)\n\u001b[1;32m    817\u001b[0m     \u001b[38;5;28;01mexcept\u001b[39;00m ProtocolError \u001b[38;5;28;01mas\u001b[39;00m e:\n\u001b[1;32m    818\u001b[0m         \u001b[38;5;28;01mraise\u001b[39;00m ChunkedEncodingError(e)\n",
      "File \u001b[0;32m~/anaconda3/envs/fastchat_2023dec/lib/python3.10/site-packages/urllib3/response.py:624\u001b[0m, in \u001b[0;36mHTTPResponse.stream\u001b[0;34m(self, amt, decode_content)\u001b[0m\n\u001b[1;32m    608\u001b[0m \u001b[38;5;250m\u001b[39m\u001b[38;5;124;03m\"\"\"\u001b[39;00m\n\u001b[1;32m    609\u001b[0m \u001b[38;5;124;03mA generator wrapper for the read() method. A call will block until\u001b[39;00m\n\u001b[1;32m    610\u001b[0m \u001b[38;5;124;03m``amt`` bytes have been read from the connection or until the\u001b[39;00m\n\u001b[0;32m   (...)\u001b[0m\n\u001b[1;32m    621\u001b[0m \u001b[38;5;124;03m    'content-encoding' header.\u001b[39;00m\n\u001b[1;32m    622\u001b[0m \u001b[38;5;124;03m\"\"\"\u001b[39;00m\n\u001b[1;32m    623\u001b[0m \u001b[38;5;28;01mif\u001b[39;00m \u001b[38;5;28mself\u001b[39m\u001b[38;5;241m.\u001b[39mchunked \u001b[38;5;129;01mand\u001b[39;00m \u001b[38;5;28mself\u001b[39m\u001b[38;5;241m.\u001b[39msupports_chunked_reads():\n\u001b[0;32m--> 624\u001b[0m     \u001b[38;5;28;01mfor\u001b[39;00m line \u001b[38;5;129;01min\u001b[39;00m \u001b[38;5;28mself\u001b[39m\u001b[38;5;241m.\u001b[39mread_chunked(amt, decode_content\u001b[38;5;241m=\u001b[39mdecode_content):\n\u001b[1;32m    625\u001b[0m         \u001b[38;5;28;01myield\u001b[39;00m line\n\u001b[1;32m    626\u001b[0m \u001b[38;5;28;01melse\u001b[39;00m:\n",
      "File \u001b[0;32m~/anaconda3/envs/fastchat_2023dec/lib/python3.10/site-packages/urllib3/response.py:828\u001b[0m, in \u001b[0;36mHTTPResponse.read_chunked\u001b[0;34m(self, amt, decode_content)\u001b[0m\n\u001b[1;32m    825\u001b[0m     \u001b[38;5;28;01mreturn\u001b[39;00m\n\u001b[1;32m    827\u001b[0m \u001b[38;5;28;01mwhile\u001b[39;00m \u001b[38;5;28;01mTrue\u001b[39;00m:\n\u001b[0;32m--> 828\u001b[0m     \u001b[38;5;28;43mself\u001b[39;49m\u001b[38;5;241;43m.\u001b[39;49m\u001b[43m_update_chunk_length\u001b[49m\u001b[43m(\u001b[49m\u001b[43m)\u001b[49m\n\u001b[1;32m    829\u001b[0m     \u001b[38;5;28;01mif\u001b[39;00m \u001b[38;5;28mself\u001b[39m\u001b[38;5;241m.\u001b[39mchunk_left \u001b[38;5;241m==\u001b[39m \u001b[38;5;241m0\u001b[39m:\n\u001b[1;32m    830\u001b[0m         \u001b[38;5;28;01mbreak\u001b[39;00m\n",
      "File \u001b[0;32m~/anaconda3/envs/fastchat_2023dec/lib/python3.10/site-packages/urllib3/response.py:758\u001b[0m, in \u001b[0;36mHTTPResponse._update_chunk_length\u001b[0;34m(self)\u001b[0m\n\u001b[1;32m    756\u001b[0m \u001b[38;5;28;01mif\u001b[39;00m \u001b[38;5;28mself\u001b[39m\u001b[38;5;241m.\u001b[39mchunk_left \u001b[38;5;129;01mis\u001b[39;00m \u001b[38;5;129;01mnot\u001b[39;00m \u001b[38;5;28;01mNone\u001b[39;00m:\n\u001b[1;32m    757\u001b[0m     \u001b[38;5;28;01mreturn\u001b[39;00m\n\u001b[0;32m--> 758\u001b[0m line \u001b[38;5;241m=\u001b[39m \u001b[38;5;28;43mself\u001b[39;49m\u001b[38;5;241;43m.\u001b[39;49m\u001b[43m_fp\u001b[49m\u001b[38;5;241;43m.\u001b[39;49m\u001b[43mfp\u001b[49m\u001b[38;5;241;43m.\u001b[39;49m\u001b[43mreadline\u001b[49m\u001b[43m(\u001b[49m\u001b[43m)\u001b[49m\n\u001b[1;32m    759\u001b[0m line \u001b[38;5;241m=\u001b[39m line\u001b[38;5;241m.\u001b[39msplit(\u001b[38;5;124mb\u001b[39m\u001b[38;5;124m\"\u001b[39m\u001b[38;5;124m;\u001b[39m\u001b[38;5;124m\"\u001b[39m, \u001b[38;5;241m1\u001b[39m)[\u001b[38;5;241m0\u001b[39m]\n\u001b[1;32m    760\u001b[0m \u001b[38;5;28;01mtry\u001b[39;00m:\n",
      "File \u001b[0;32m~/anaconda3/envs/fastchat_2023dec/lib/python3.10/socket.py:705\u001b[0m, in \u001b[0;36mSocketIO.readinto\u001b[0;34m(self, b)\u001b[0m\n\u001b[1;32m    703\u001b[0m \u001b[38;5;28;01mwhile\u001b[39;00m \u001b[38;5;28;01mTrue\u001b[39;00m:\n\u001b[1;32m    704\u001b[0m     \u001b[38;5;28;01mtry\u001b[39;00m:\n\u001b[0;32m--> 705\u001b[0m         \u001b[38;5;28;01mreturn\u001b[39;00m \u001b[38;5;28;43mself\u001b[39;49m\u001b[38;5;241;43m.\u001b[39;49m\u001b[43m_sock\u001b[49m\u001b[38;5;241;43m.\u001b[39;49m\u001b[43mrecv_into\u001b[49m\u001b[43m(\u001b[49m\u001b[43mb\u001b[49m\u001b[43m)\u001b[49m\n\u001b[1;32m    706\u001b[0m     \u001b[38;5;28;01mexcept\u001b[39;00m timeout:\n\u001b[1;32m    707\u001b[0m         \u001b[38;5;28mself\u001b[39m\u001b[38;5;241m.\u001b[39m_timeout_occurred \u001b[38;5;241m=\u001b[39m \u001b[38;5;28;01mTrue\u001b[39;00m\n",
      "File \u001b[0;32m~/anaconda3/envs/fastchat_2023dec/lib/python3.10/ssl.py:1307\u001b[0m, in \u001b[0;36mSSLSocket.recv_into\u001b[0;34m(self, buffer, nbytes, flags)\u001b[0m\n\u001b[1;32m   1303\u001b[0m     \u001b[38;5;28;01mif\u001b[39;00m flags \u001b[38;5;241m!=\u001b[39m \u001b[38;5;241m0\u001b[39m:\n\u001b[1;32m   1304\u001b[0m         \u001b[38;5;28;01mraise\u001b[39;00m \u001b[38;5;167;01mValueError\u001b[39;00m(\n\u001b[1;32m   1305\u001b[0m           \u001b[38;5;124m\"\u001b[39m\u001b[38;5;124mnon-zero flags not allowed in calls to recv_into() on \u001b[39m\u001b[38;5;132;01m%s\u001b[39;00m\u001b[38;5;124m\"\u001b[39m \u001b[38;5;241m%\u001b[39m\n\u001b[1;32m   1306\u001b[0m           \u001b[38;5;28mself\u001b[39m\u001b[38;5;241m.\u001b[39m\u001b[38;5;18m__class__\u001b[39m)\n\u001b[0;32m-> 1307\u001b[0m     \u001b[38;5;28;01mreturn\u001b[39;00m \u001b[38;5;28;43mself\u001b[39;49m\u001b[38;5;241;43m.\u001b[39;49m\u001b[43mread\u001b[49m\u001b[43m(\u001b[49m\u001b[43mnbytes\u001b[49m\u001b[43m,\u001b[49m\u001b[43m \u001b[49m\u001b[43mbuffer\u001b[49m\u001b[43m)\u001b[49m\n\u001b[1;32m   1308\u001b[0m \u001b[38;5;28;01melse\u001b[39;00m:\n\u001b[1;32m   1309\u001b[0m     \u001b[38;5;28;01mreturn\u001b[39;00m \u001b[38;5;28msuper\u001b[39m()\u001b[38;5;241m.\u001b[39mrecv_into(buffer, nbytes, flags)\n",
      "File \u001b[0;32m~/anaconda3/envs/fastchat_2023dec/lib/python3.10/ssl.py:1163\u001b[0m, in \u001b[0;36mSSLSocket.read\u001b[0;34m(self, len, buffer)\u001b[0m\n\u001b[1;32m   1161\u001b[0m \u001b[38;5;28;01mtry\u001b[39;00m:\n\u001b[1;32m   1162\u001b[0m     \u001b[38;5;28;01mif\u001b[39;00m buffer \u001b[38;5;129;01mis\u001b[39;00m \u001b[38;5;129;01mnot\u001b[39;00m \u001b[38;5;28;01mNone\u001b[39;00m:\n\u001b[0;32m-> 1163\u001b[0m         \u001b[38;5;28;01mreturn\u001b[39;00m \u001b[38;5;28;43mself\u001b[39;49m\u001b[38;5;241;43m.\u001b[39;49m\u001b[43m_sslobj\u001b[49m\u001b[38;5;241;43m.\u001b[39;49m\u001b[43mread\u001b[49m\u001b[43m(\u001b[49m\u001b[38;5;28;43mlen\u001b[39;49m\u001b[43m,\u001b[49m\u001b[43m \u001b[49m\u001b[43mbuffer\u001b[49m\u001b[43m)\u001b[49m\n\u001b[1;32m   1164\u001b[0m     \u001b[38;5;28;01melse\u001b[39;00m:\n\u001b[1;32m   1165\u001b[0m         \u001b[38;5;28;01mreturn\u001b[39;00m \u001b[38;5;28mself\u001b[39m\u001b[38;5;241m.\u001b[39m_sslobj\u001b[38;5;241m.\u001b[39mread(\u001b[38;5;28mlen\u001b[39m)\n",
      "\u001b[0;31mKeyboardInterrupt\u001b[0m: "
     ]
    }
   ],
   "source": [
    "input_json = {\n",
    "    \"model_name\": \"MingAI-70B-chat-orca_v0.42_2_dpo-GPTQ\",\n",
    "    \"prompt\": \"### System:\\nThis is a system prompt, please behave and help the user.\\n\\n### User: react hello world\\n\\n### Assistant: 반응 프로젝트에서 \\\"Hello World\\\"를 표시하려면 다음 단계를 따르십시오.\\n1. 새로운 React 응용 프로그램 생성 :\\n먼저 새로운 React 응용 프로그램을 만들어야합니다.\\n 다음 명령을 실행하여 새로운 React 앱을 만듭니다.\\n```\\nNPX Create-React-App My-App\\n```\\n이 명령은 새로운 폴더`My-App '에서 새로운 React 프로젝트를 만듭니다.\\n2. 구성 요소 만들기 :\\n이제 앱의 루트 구성 요소를 만들어야합니다.\\n 터미널에서 다음 명령을 실행하여 새 구성 요소를 만듭니다.\\n```\\nCD My-App\\nNPX React-S 생성 구성 요소 환경 적 응용 프로그램\\n```\\n이 명령은`src` 디렉토리에`myapp.js`라는 새 파���일을 생성합니다.\\n3. 구성 요소 업데이트 :\\n`myapp.js` 파일을 열고 다음 코드를 추가하십시오.\\n```JS\\n'React'에서 React React React;\\n함수 myapp () {\\n   반환 (\\n     <h1> 안녕하세요, 세계! </h1>\\n   );\\n}\\n수출 기본 MyApp;\\n```\\n이 코드는 \\\"Hello, World!\\\"텍스트를 표시하는 간단한 구성 요소를 만듭니다.\\n4. 구성 요소 렌더링 :\\n이제 앱의 기본 구성 요소를 렌더링해야합니다.\\n `src/index.js` 파일을 열고 코드를 업데이트하십시오.\\n```JS\\n'React'에서 React React React;\\n'./myapp'에서 myapp 가져 오기;\\n기능 실행 () {\\n   반환 (\\n     <MyApp />\\n   );\\n}\\n기본 기능 내보내기;\\n```\\n5. 앱 실행 :\\n마지막으로 앱을 실행해보세요.\\n```\\nNPX 시작\\n```\\n이렇게하면 웹 브라우저에서 응용 프로그램을 실행하는 데 사용할 수있는 개발 서버가 시작됩니다.\\n 응용 프로그램을 열고 브라우저에서 \\\"Hello, World!\\\"텍스트를 표시해야합니다.\\n번역 번역\\n반응 반응 프로젝트 프로젝트에서에서 \\\"hello world\\\"를 표시하려면하려면 다음\",\n",
    "    \"max_new_tokens\": 1024,\n",
    "    \"temperature\": 0.7,\n",
    "    \"top_p\": 0.8,\n",
    "    \"session_id\": 3,\n",
    "    \"repetition_penalty\": 1.7,\n",
    "}\n",
    "\n",
    "ret = requests.post(\n",
    "    api_server_url + \"/worker_generate_stream\",\n",
    "    json=input_json,\n",
    "    stream=True,\n",
    "    # timeout=200,\n",
    ")\n",
    "\n",
    "past_len = len(input_json[\"prompt\"])\n",
    "for chunk in ret.iter_lines(decode_unicode=False, delimiter=b\"\\0\"):\n",
    "    if chunk:\n",
    "        data = json.loads(chunk.decode())\n",
    "        print(data[\"text\"][past_len:], sep=\"\", end=\"\")\n",
    "        past_len = len(data[\"text\"])"
   ]
  },
  {
   "cell_type": "code",
   "execution_count": null,
   "id": "abf676f4-ae6d-4802-b5af-6b8e238ca30e",
   "metadata": {
    "scrolled": true,
    "tags": []
   },
   "outputs": [],
   "source": [
    "ret.text"
   ]
  },
  {
   "cell_type": "code",
   "execution_count": null,
   "id": "c8685063-99fd-49e5-9b6b-bc3399b10993",
   "metadata": {
    "scrolled": true,
    "tags": []
   },
   "outputs": [],
   "source": [
    "ret.text"
   ]
  },
  {
   "cell_type": "markdown",
   "id": "e63cd2be-3c49-49f8-a33c-c41b5bdfeedf",
   "metadata": {},
   "source": [
    "### POST /worker_generate_auto"
   ]
  },
  {
   "cell_type": "code",
   "execution_count": 53,
   "id": "b5b7ae8a-2c45-400c-b449-a6a19c779a19",
   "metadata": {
    "tags": []
   },
   "outputs": [
    {
     "name": "stdout",
     "output_type": "stream",
     "text": [
      "{'text': ' NFC는 나노 필름 코퍼레이션의 약자입니다.'}\n"
     ]
    }
   ],
   "source": [
    "input_json = {\n",
    "    \"model_name\": \"MingAI-70B-chat-orca_v0.4_v0.2_retrained_checkpoint-2-GPTQ\",\n",
    "    \"user_input\": \"NFC는 무엇의 약자입니까?\",\n",
    "    \"session_id\": 0,\n",
    "    \"temperature\": 0.7,\n",
    "    \"top_p\": 0.8,\n",
    "}\n",
    "\n",
    "ret = requests.post(\n",
    "    api_server_url + \"/worker_generate_auto\",\n",
    "    json=input_json,\n",
    ")\n",
    "\n",
    "output_json = ret.json()\n",
    "print(output_json)"
   ]
  },
  {
   "cell_type": "markdown",
   "id": "e213b49f-c48e-4fd0-bd9a-852cbead8c07",
   "metadata": {},
   "source": [
    "### POST /worker_generate_stream_auto"
   ]
  },
  {
   "cell_type": "code",
   "execution_count": 70,
   "id": "b42f4c87-c478-42a2-beb9-a9a5bed752a5",
   "metadata": {
    "tags": []
   },
   "outputs": [
    {
     "name": "stdout",
     "output_type": "stream",
     "text": [
      "  주식회사 아도스의 직원 수는 56명입니다."
     ]
    }
   ],
   "source": [
    "input_json = {\n",
    "    \"model_name\": \"MingAI-70B-chat-orca_v0.4_v0.2_retrained_checkpoint-2-GPTQ\",\n",
    "    \"user_input\": \"주식회사 아도스의 직원 수는 몇명인가요?\",\n",
    "    \"session_id\": 0,\n",
    "    \"context\": '\\nDate:2023-11-13 15:21\\nYour reply should be based on the context below.\\n\\nContext:\\n(주)아도스 2023년 기업정보 | 사원수, 회사소개, 근무환경 ...\\n(주)아도스 기업소개 - 업력 : 10년차, 기업형태 : 중소기업, 업종 : 응용 소프트웨어 개발 및 공급업 | (주)아도스의 사원수, 연봉, 채용, 복리후생, 재무정보 등이 ... 재산, 가치를 구하는 것을 사명으로, 좋은 사람들이 모여 즐겁게 성장하고 있는 회사입니다.\\n1. 현재는 IT보안이 주 사업 영역이며, AI와 가상화기술 기반의 정보보호 솔루션을 개발/운영하고 있습니다.\\n2. 대기업 제조사의 네트워크 보안, 생산라인 보안, 정보 유출 방지 등 통합보안 서비스(모의 해킹, 진단, 관제, 이상징후 분석)를 담당하고 있습니다.\\n\"인류의 생명과 가치를 구한다\"\\n우리는 단단하게 성장하고 있어요\\n-\\n2021\\n-\\n09월\\n가드랜드(정보보호솔루션) 출시\\n-\\n03월\\n가두리(웹격리솔루션) 출시\\n- 09월\\n-\\n2020\\n\\n-\\n09월\\n병역지정업체(산업체) 선정\\n-\\n05월\\n벤처기업확인(기술보증기금,유효기간:2022.05.28)\\n-\\n04월\\n수차에 걸쳐 자본금을 1200백만원으로 증자\\n- 09월\\n-\\n2019\\n-\\n12월\\n기업부설연구소 설립\\n- 12월\\n-\\n2017\\n-\\n10월\\n상호를 (주)아도스로 변경\\n- 10월\\n-\\n2014\\n-\\n09월\\n컴퓨터 프로그래밍 서비스업을 목적으로 대표이사 이승원에 의해 (주)피그플라이 설립\\n- 09월\\n우리는 직원의 복리후생도 중요해요\\n-\\n지원금/보험\\n- 각종 경조사 지원\\n-\\n급여제도\\n- 퇴직연금\\n- 인센티브제\\n- 스톡옵션\\n- 퇴직금\\n-\\n업\\n- 대표자명\\n- 이승원\\n- 사업내용\\n-\\n소프트웨어 개발,게임 개발\\n- 주소\\n-\\n서울 송파구 송파대로 167, B동 1021호지도보기\\n- SNS\\n-\\n- 보유기술\\n-\\n-\\n특허권\\n- 디스플레이 해킹 방지 시스템 및 그 방법(2020)\\n-\\n특허권\\n- 웹 클라이언트를 이용한 망 분리 시스템 및 그 방법(2020)\\n-\\n특허권\\n- 컴퓨터의 시스템자원 및 프로세스의 보호 및 격리장치와 그방법(2020)\\n-\\n특허권\\n- PKI 기반의 사물인터넷 기기 인증방법 및 인증시스템(2020)\\n- 특허권\\n미래 혹은 가까에 있는 위협으로 부터, 우리의 생명,\\n\\n\\n(주)아도니스 2023년 기업정보 | 사원수, 회사소개, 근무환경 ...\\n(주)아도니스 기업소개 - 업력 : 35년차, 기업형태 : -, 업종 : 골프장 운영업 | (주)아도니스의 사원수, 연봉, 채용, 복리후생, 재무정보 등이 궁금하시다면, ...- 사업내용\\n-\\n골프장,호텔 운영/무역,담배,골프용품 도소매,통신판매/한식,중식 음식점\\n- 주소\\n-\\n경기 포천시 신북면 포천로 2499지도보기\\n기업비전\\n주요 사업내용 : 포천 아도니스CC 운영\\n주요 사업내용 : 포천 아도니스CC 운영\\n주요 취급품목 : 골프장운영, 호텔운영\\n우리는 단단하게 성장하고 있어요\\n-\\n2005\\n-\\n01월\\n호텔 준공 영업개시\\n- 01월\\n-\\n1999\\n-\\n06월\\n상호변경 : (주)대우레져 -> (주)아도니스\\n-\\n04월\\n골프장 개장\\n- 06월\\n-\\n1995\\n-\\n04월\\n골프장 착공허가 (경기도 포천군)\\n- 04월\\n-\\n1\\n990\\n-\\n10월\\n경기도로부터 골프장사업계획을 승인\\n- 10월\\n-\\n1989\\n-\\n02월\\n회사 설립\\n- 02월\\n인원 규모를 파악해 보세요!\\n전체 직원 수 56명\\n- 전체인원\\n- 입사자\\n- 퇴사자\\n',\n",
    "    \"max_new_tokens\": 56,\n",
    "    \"temperature\": 0.7,\n",
    "    \"top_p\": 0.8,\n",
    "}\n",
    "\n",
    "ret = requests.post(\n",
    "    api_server_url + \"/worker_generate_stream_auto\",\n",
    "    json=input_json,\n",
    "    stream=True,\n",
    "    # timeout=2,\n",
    ")\n",
    "\n",
    "# past_len = len(input_json[\"prompt\"])\n",
    "past_len = 0\n",
    "for chunk in ret.iter_lines(decode_unicode=False, delimiter=b\"\\0\"):\n",
    "    if chunk:\n",
    "        data = json.loads(chunk.decode())\n",
    "        print(data[\"text\"][past_len:], sep=\"\", end=\"\")\n",
    "        past_len = len(data[\"text\"])"
   ]
  },
  {
   "cell_type": "markdown",
   "id": "b2aff6ed-d07e-482c-a6ed-b781f97bfc9a",
   "metadata": {},
   "source": [
    "### POST /worker_get_last_prompt"
   ]
  },
  {
   "cell_type": "code",
   "execution_count": 11,
   "id": "76a88534-f3dd-4dea-850f-3d42f2d94ac9",
   "metadata": {},
   "outputs": [
    {
     "name": "stdout",
     "output_type": "stream",
     "text": [
      "{'prompt': '### System:\\nThis is a system prompt, please behave and help the user.\\nDate:2023-11-13 15:21\\nYour reply should be based on the context below.\\n\\nContext:\\n(주)아도스 2023년 기업정보 | 사원수, 회사소개, 근무환경 ...\\n(주)아도스 기업소개 - 업력 : 10년차, 기업형태 : 중소기업, 업종 : 응용 소프트웨어 개발 및 공급업 | (주)아도스의 사원수, 연봉, 채용, 복리후생, 재무정보 등이 ... 재산, 가치를 구하는 것을 사명으로, 좋은 사람들이 모여 즐겁게 성장하고 있는 회사입니다.\\n1. 현재는 IT보안이 주 사업 영역이며, AI와 가상화기술 기반의 정보보호 솔루션을 개발/운영하고 있습니다.\\n2. 대기업 제조사의 네트워크 보안, 생산라인 보안, 정보 유출 방지 등 통합보안 서비스(모의 해킹, 진단, 관제, 이상징후 분석)를 담당하고 있습니다.\\n\"인류의 생명과 가치를 구한다\"\\n우리는 단단하게 성장하고 있어요\\n-\\n2021\\n-\\n09월\\n가드랜드(정보보호솔루션) 출시\\n-\\n03월\\n가두리(웹격리솔루션) 출시\\n- 09월\\n-\\n2020\\n\\n-\\n09월\\n병역지정업체(산업체) 선정\\n-\\n05월\\n벤처기업확인(기술보증기금,유효기간:2022.05.28)\\n-\\n04월\\n수차에 걸쳐 자본금을 1200백만원으로 증자\\n- 09월\\n-\\n2019\\n-\\n12월\\n기업부설연구소 설립\\n- 12월\\n-\\n2017\\n-\\n10월\\n상호를 (주)아도스로 변경\\n- 10월\\n-\\n2014\\n-\\n09월\\n컴퓨터 프로그래밍 서비스업을 목적으로 대표이사 이승원에 의해 (주)피그플라이 설립\\n- 09월\\n우리는 직원의 복리후생도 중요해요\\n-\\n지원금/보험\\n- 각종 경조사 지원\\n-\\n급여제도\\n- 퇴직연금\\n- 인센티브제\\n- 스톡옵션\\n- 퇴직금\\n-\\n업\\n- 대표자명\\n- 이승원\\n- 사업내용\\n-\\n소프트웨어 개발,게임 개발\\n- 주소\\n-\\n서울 송파구 송파대로 167, B동 1021호지도보기\\n- SNS\\n-\\n- 보유기술\\n-\\n-\\n특허권\\n- 디스플레이 해킹 방지 시스템 및 그 방법(2020)\\n-\\n특허권\\n- 웹 클라이언트를 이용한 망 분리 시스템 및 그 방법(2020)\\n-\\n특허권\\n- 컴퓨터의 시스템자원 및 프로세스의 보호 및 격리장치와 그방법(2020)\\n-\\n특허권\\n- PKI 기반의 사물인터넷 기기 인증방법 및 인증시스템(2020)\\n- 특허권\\n미래 혹은 가까에 있는 위협으로 부터, 우리의 생명,\\n\\n\\n(주)아도니스 2023년 기업정보 | 사원수, 회사소개, 근무환경 ...\\n(주)아도니스 기업소개 - 업력 : 35년차, 기업형태 : -, 업종 : 골프장 운영업 | (주)아도니스의 사원수, 연봉, 채용, 복리후생, 재무정보 등이 궁금하시다면, ...- 사업내용\\n-\\n골프장,호텔 운영/무역,담배,골프용품 도소매,통신판매/한식,중식 음식점\\n- 주소\\n-\\n경기 포천시 신북면 포천로 2499지도보기\\n기업비전\\n주요 사업내용 : 포천 아도니스CC 운영\\n주요 사업내용 : 포천 아도니스CC 운영\\n주요 취급품목 : 골프장운영, 호텔운영\\n우리는 단단하게 성장하고 있어요\\n-\\n2005\\n-\\n01월\\n호텔 준공 영업개시\\n- 01월\\n-\\n1999\\n-\\n06월\\n상호변경 : (주)대우레져 -> (주)아도니스\\n-\\n04월\\n골프장 개장\\n- 06월\\n-\\n1995\\n-\\n04월\\n골프장 착공허가 (경기도 포천군)\\n- 04월\\n-\\n1\\n990\\n-\\n10월\\n경기도로부터 골프장사업계획을 승인\\n- 10월\\n-\\n1989\\n-\\n02월\\n회사 설립\\n- 02월\\n인원 규모를 파악해 보세요!\\n전체 직원 수 56명\\n- 전체인원\\n- 입사자\\n- 퇴사자\\n\\n\\n### User: NFC는 무엇의 약자입니까?\\n\\n### Assistant:  NFC는 \"Near Field Communication\"의 약자입니다.</s>### User: 주식회사 아도스의 직원 수는 몇명인가요?\\n\\n### Assistant:'}\n"
     ]
    }
   ],
   "source": [
    "input_json = {\n",
    "    \"model_name\": \"MingAI-70B-chat-orca_v0.4_v0.2_retrained_checkpoint-2-GPTQ\",\n",
    "    \"session_id\": 0,\n",
    "}\n",
    "\n",
    "ret = requests.post(\n",
    "    api_server_url + \"/worker_get_last_prompt\",\n",
    "    json=input_json,\n",
    ")\n",
    "\n",
    "output_json = ret.json()\n",
    "print(output_json)"
   ]
  },
  {
   "cell_type": "markdown",
   "id": "df01fabf-7e9c-4e16-82a9-3e614c00cf47",
   "metadata": {},
   "source": [
    "### POST /session_history_clear"
   ]
  },
  {
   "cell_type": "code",
   "execution_count": 12,
   "id": "c03458f4-7887-4325-ad21-3bdb093956c6",
   "metadata": {},
   "outputs": [
    {
     "name": "stdout",
     "output_type": "stream",
     "text": [
      "{'err_code': 0}\n"
     ]
    }
   ],
   "source": [
    "input_json = {\n",
    "    \"model_name\": \"MingAI-70B-chat-orca_v0.4_v0.2_retrained_checkpoint-2-GPTQ\",\n",
    "    \"session_id\": 0,\n",
    "}\n",
    "\n",
    "ret = requests.post(\n",
    "    api_server_url + \"/session_history_clear\",\n",
    "    json=input_json,\n",
    ")\n",
    "\n",
    "output_json = ret.json()\n",
    "print(output_json)"
   ]
  },
  {
   "cell_type": "markdown",
   "id": "571d83a1-a3f2-4620-aed5-adbb73b3b806",
   "metadata": {},
   "source": [
    "### POST /worker_regenerate_auto"
   ]
  },
  {
   "cell_type": "code",
   "execution_count": 13,
   "id": "5328257c-1144-4e1f-b154-f8510007c358",
   "metadata": {},
   "outputs": [
    {
     "name": "stdout",
     "output_type": "stream",
     "text": [
      "{'err_code': 70003}\n"
     ]
    }
   ],
   "source": [
    "input_json = {\n",
    "    \"model_name\": \"MingAI-70B-chat-orca_v0.4_v0.2_retrained_checkpoint-2-GPTQ\",\n",
    "    \"session_id\": 0,\n",
    "}\n",
    "\n",
    "ret = requests.post(\n",
    "    api_server_url + \"/worker_regenerate_auto\",\n",
    "    json=input_json,\n",
    ")\n",
    "\n",
    "output_json = ret.json()\n",
    "print(output_json)"
   ]
  },
  {
   "cell_type": "markdown",
   "id": "c7db1773-ea6a-421c-a442-06ffe486ae71",
   "metadata": {},
   "source": [
    "### POST /worker_regenerate_stream_auto"
   ]
  },
  {
   "cell_type": "code",
   "execution_count": 14,
   "id": "8ea30871-0893-4de9-9c8c-7dcdc45b5d18",
   "metadata": {},
   "outputs": [],
   "source": [
    "input_json = {\n",
    "    \"model_name\": \"MingAI-70B-chat-orca_v0.4_v0.2_retrained_checkpoint-2-GPTQ\",\n",
    "    \"session_id\": 0,\n",
    "}\n",
    "\n",
    "ret = requests.post(\n",
    "    api_server_url + \"/worker_regenerate_stream_auto\",\n",
    "    json=input_json,\n",
    "    stream=True,\n",
    ")\n",
    "\n",
    "# past_len = len(input_json[\"prompt\"])\n",
    "past_len = 0\n",
    "for chunk in ret.iter_lines(decode_unicode=False, delimiter=b\"\\0\"):\n",
    "    if chunk:\n",
    "        data = json.loads(chunk.decode())\n",
    "        if \"text\" not in data:\n",
    "            continue\n",
    "        print(data[\"text\"][past_len:], sep=\"\", end=\"\")\n",
    "        past_len = len(data[\"text\"])"
   ]
  },
  {
   "cell_type": "markdown",
   "id": "cae3f14b-869f-407a-a8e8-3becffd7add1",
   "metadata": {},
   "source": [
    "### POST /worker_stop_stream"
   ]
  },
  {
   "cell_type": "code",
   "execution_count": 15,
   "id": "42a1f63e-6b71-4374-90cb-e68903484860",
   "metadata": {},
   "outputs": [
    {
     "name": "stdout",
     "output_type": "stream",
     "text": [
      "session_id: b5bdc37a9ed14ac1b3d05e7ff5566659\n",
      " 유튜브는 세계에서 가장 큰 온라인 동영상 공유 및 소셜 미디어 플\n",
      "\n",
      " Generation Stopped\n"
     ]
    }
   ],
   "source": [
    "import uuid\n",
    "from multiprocessing import Process\n",
    "import time\n",
    "\n",
    "\n",
    "# background runner for worker_generate_stream\n",
    "def background_run_stream(session_id):\n",
    "    input_json = {\n",
    "        \"model_name\": \"MingAI-70B-chat-orca_v0.4_v0.2_retrained_checkpoint-2-GPTQ\",\n",
    "        \"prompt\": \"### System:\\nThis is a system prompt, please behave and help the user.\\n\\n### User: 유튜브에 대해서 설명해주세요.\\n\\n### Assistant:\",\n",
    "        \"session_id\": session_id,\n",
    "        \"temperature\": 0.7,\n",
    "        \"top_p\": 0.8,\n",
    "    }\n",
    "\n",
    "    ret = requests.post(\n",
    "        api_server_url + \"/worker_generate_stream\",\n",
    "        json=input_json,\n",
    "        headers={\"User-Agent\": \"FastChat Client\"},\n",
    "        stream=True,\n",
    "        timeout=200,\n",
    "    )\n",
    "\n",
    "    past_len = len(input_json[\"prompt\"])\n",
    "    for idx, chunk in enumerate(ret.iter_lines(decode_unicode=False, delimiter=b\"\\0\")):\n",
    "        if chunk:\n",
    "            data = json.loads(chunk.decode())\n",
    "            print(data[\"text\"][past_len:], end=\"\")\n",
    "            past_len = len(data[\"text\"])\n",
    "\n",
    "\n",
    "# generate random session_id\n",
    "session_id = uuid.uuid4().hex\n",
    "print(\"session_id:\", session_id)\n",
    "\n",
    "# run worker_generate_stream\n",
    "p1 = Process(target=background_run_stream, args=[session_id])\n",
    "p1.start()\n",
    "\n",
    "# wait for 3 seconds\n",
    "time.sleep(3)\n",
    "\n",
    "# send worker_stop_stream\n",
    "input_json = {\n",
    "    \"model_name\": \"MingAI-70B-chat-orca_v0.4_v0.2_retrained_checkpoint-2-GPTQ\",\n",
    "    \"session_id\": session_id,\n",
    "}\n",
    "\n",
    "ret = requests.post(\n",
    "    api_server_url + \"/worker_stop_stream\",\n",
    "    json=input_json,\n",
    ")\n",
    "\n",
    "print(\"\\n\\n Generation Stopped\")"
   ]
  },
  {
   "cell_type": "code",
   "execution_count": null,
   "id": "78f5fae3-0232-499c-917f-994188e2c74c",
   "metadata": {},
   "outputs": [],
   "source": []
  }
 ],
 "metadata": {
  "kernelspec": {
   "display_name": "fastcaht_2023dec",
   "language": "python",
   "name": "fastcaht_2023dec"
  },
  "language_info": {
   "codemirror_mode": {
    "name": "ipython",
    "version": 3
   },
   "file_extension": ".py",
   "mimetype": "text/x-python",
   "name": "python",
   "nbconvert_exporter": "python",
   "pygments_lexer": "ipython3",
   "version": "3.10.13"
  }
 },
 "nbformat": 4,
 "nbformat_minor": 5
}
