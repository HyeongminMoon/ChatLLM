{
 "cells": [
  {
   "cell_type": "code",
   "execution_count": 58,
   "id": "74ff3f73-a3f6-430f-8645-20d3f4990461",
   "metadata": {
    "tags": []
   },
   "outputs": [],
   "source": [
    "import requests\n",
    "import json\n",
    "\n",
    "api_server_url = \"http://localhost:21122\"\n",
    "# api_server_url = \"https://allsecure.co.kr/llm\"\n",
    "# api_server_url = \"https://77c5-59-13-206-70.ngrok-free.app\""
   ]
  },
  {
   "cell_type": "markdown",
   "id": "debbdf51-652b-4106-9b42-2a0283efd3d9",
   "metadata": {},
   "source": [
    "# 1. Controller API"
   ]
  },
  {
   "cell_type": "markdown",
   "id": "bd859ec5-900b-46c9-96a5-a83b7aee2ef8",
   "metadata": {},
   "source": [
    "### GET /list_models "
   ]
  },
  {
   "cell_type": "code",
   "execution_count": 59,
   "id": "d0b746f6-05f9-4b2e-8e84-a844ab810c84",
   "metadata": {},
   "outputs": [
    {
     "name": "stdout",
     "output_type": "stream",
     "text": [
      "{'models': [{'name': 'OLLM-Small', 'model_name': 'OLLM-Small_2024.01.16', 'description': '선택하신 모델은 OLLM-Small이에요. OLLM-Small은 모델의 크기를 줄여 개인용 그래픽카드에서도 원활히 동작하는 낮은 메모리 사용량과 빠른 속도로 답변을 제공합니다'}, {'name': 'OLLM-Large', 'model_name': 'OLLM-Large_2023.11.20', 'description': '선택하신 모델은 OLLM-Large에요. OLLM-Large는 보다 질높은 답변을 하며, 다른 기술과 연동하여 긴 맥락으로부터 답변하는 상황에 유리해요'}]}\n"
     ]
    }
   ],
   "source": [
    "ret = requests.get(api_server_url + \"/list_models\")\n",
    "\n",
    "output_json = ret.json()\n",
    "print(output_json)"
   ]
  },
  {
   "cell_type": "markdown",
   "id": "938e7137-781d-48e3-a7bc-96db61972ed4",
   "metadata": {},
   "source": [
    "### GET /refresh_all_models"
   ]
  },
  {
   "cell_type": "code",
   "execution_count": 66,
   "id": "03458df9-352e-4f16-99ea-89833f55b71e",
   "metadata": {},
   "outputs": [],
   "source": [
    "ret = requests.get(api_server_url + \"/refresh_all_models\")"
   ]
  },
  {
   "cell_type": "markdown",
   "id": "00665250-cf02-4a0e-9a7f-13739e827e8f",
   "metadata": {},
   "source": [
    "### GET /get_random_uuid"
   ]
  },
  {
   "cell_type": "code",
   "execution_count": 56,
   "id": "7029b02e-1ce5-480d-a6f4-68687bca8112",
   "metadata": {},
   "outputs": [
    {
     "name": "stdout",
     "output_type": "stream",
     "text": [
      "{'uuid': '0830d38dcd5b4c22bdf4dcd57162deb9'}\n"
     ]
    }
   ],
   "source": [
    "ret = requests.get(api_server_url + \"/get_random_uuid\")\n",
    "\n",
    "output_json = ret.json()\n",
    "print(output_json)"
   ]
  },
  {
   "cell_type": "markdown",
   "id": "a4c9a268-9056-4d2a-b626-bca22bab7db4",
   "metadata": {},
   "source": [
    "### (deprecated) {controller_address}/get_worker_address"
   ]
  },
  {
   "cell_type": "markdown",
   "id": "726a1eb9-4c2b-4c6a-a3a1-8cb3233a39d9",
   "metadata": {},
   "source": [
    "model_name = output_json['models'][1]\n",
    "print(\"model_name:\", model_name)\n",
    "\n",
    "input_json = {\n",
    "    \"model\": model_name\n",
    "}\n",
    "\n",
    "ret = requests.post(\n",
    "    controller_url + \"/get_worker_address\", \n",
    "    json=input_json\n",
    ")\n",
    "\n",
    "output_json = ret.json()\n",
    "print(output_json)"
   ]
  },
  {
   "cell_type": "markdown",
   "id": "4c808422-d4cf-47d5-bc1b-8a6fac87e47e",
   "metadata": {},
   "source": [
    "# 2. Worker API"
   ]
  },
  {
   "cell_type": "markdown",
   "id": "4e9d06ab-38c7-4d93-aaa1-c4c744e639ac",
   "metadata": {},
   "source": [
    "### POST /model_details "
   ]
  },
  {
   "cell_type": "code",
   "execution_count": 104,
   "id": "f480d40b-c57d-4a5c-852e-f992450e23f9",
   "metadata": {},
   "outputs": [
    {
     "name": "stdout",
     "output_type": "stream",
     "text": [
      "{'context_length': 8192}\n"
     ]
    }
   ],
   "source": [
    "input_json = {\n",
    "    \"model_name\": \"llama2-13b-dpo-v4\",\n",
    "}\n",
    "\n",
    "ret = requests.post(\n",
    "    api_server_url + \"/model_details\",\n",
    "    json=input_json,\n",
    ")\n",
    "\n",
    "output_json = ret.json()\n",
    "print(output_json)"
   ]
  },
  {
   "cell_type": "markdown",
   "id": "c1180905-8dbc-412c-b4aa-46be1c38fc16",
   "metadata": {},
   "source": [
    "### POST /worker_get_conv_template  "
   ]
  },
  {
   "cell_type": "code",
   "execution_count": 5,
   "id": "870084f9-8215-439f-9bc7-87312de6037b",
   "metadata": {},
   "outputs": [
    {
     "name": "stdout",
     "output_type": "stream",
     "text": [
      "{'conv': {'name': 'chat-orca', 'system_template': '{system_message}', 'system_message': '### System:\\nThis is a system prompt, please behave and help the user.', 'roles': ['### User', '### Assistant'], 'messages': [], 'offset': 0, 'sep_style': 2, 'sep': '\\n\\n', 'sep2': '</s>', 'stop_str': None, 'stop_token_ids': None, 'config': {'max_new_tokens': 4096}, 'translator_system': None, 'retrieval_system': None}}\n"
     ]
    }
   ],
   "source": [
    "input_json = {\n",
    "    \"model_name\": \"MingAI-70B-chat-orca_v0.4_v0.2_retrained_checkpoint-2-GPTQ\",\n",
    "}\n",
    "\n",
    "ret = requests.post(\n",
    "    api_server_url + \"/worker_get_conv_template\",\n",
    "    json=input_json,\n",
    ")\n",
    "\n",
    "output_json = ret.json()\n",
    "print(output_json)"
   ]
  },
  {
   "cell_type": "markdown",
   "id": "2bdb64af-60a4-4731-9334-c29bf056552d",
   "metadata": {},
   "source": [
    "### POST /count_token "
   ]
  },
  {
   "cell_type": "code",
   "execution_count": 44,
   "id": "66ada64e-2a49-4ab6-b084-42b1b04cd32a",
   "metadata": {},
   "outputs": [
    {
     "name": "stdout",
     "output_type": "stream",
     "text": [
      "{'count': 3860, 'error_code': 0}\n"
     ]
    }
   ],
   "source": [
    "input_json = {\n",
    "    \"model_name\": \"M-DIE-M-10B_gpt4_ep3-yarn-64k\",\n",
    "    # \"prompt\": \"### System:\\nThis is a system prompt, please behave and help the user.\\n\\n### User: NFC는 무엇의 약자입니까?\\n\\n### Assistant:\"\n",
    "    \"prompt\": \"\"\"제목: 드래곤의 눈물\n",
    "\n",
    "한때, 세상의 끝자락에 있는 아름다운 왕국 아르데니아가 있었습니다. 이 왕국은 푸른 산과 깊은 숲, 그리고 비단 같은 강이 펼쳐진 평야로 가득했으며, 그곳에는 마법의 존재와 함께 평화롭게 살고 있는 사람들이 거주했습니다. 아르데니아는 전설적인 드래곤의 눈물이 숨겨져 있다는 소문이 있는 곳이었는데, 이 눈물은 숙명을 바꿀 수 있는 강력한 힘을 지닌 것으로 알려져 있었습니다. 그러나 그 진실은 오래전부터 잊혀져버린 채, 오로지 이야기와 전설 속에 남아 있었던 것이었습니다.\n",
    "\n",
    "어느 날, 젊은 여인 알리사는 길을 잃어 드래곤의 눈물이 있다는 신비한 산 카이렌티아에 도달했습니다. 그곳은 아름다움과 위험함이 공존하는 곳이었습니다. 그녀는 자신의 삶을 바꿀 수 있는 기회를 얻기 위해 희망을 쥐고 탐험가 겸 마법사인 카이렌의 도움을 요청했습니다. 카이렌은 알리사에게 드래곤의 눈물은 실제로 존재한다고 말하며, 그 눈물은 드래곤의 마지막 후손인 아이젤라의 눈물이라고 하였습니다. 아이젤라는 한때 아르데니아를 지켜주었던 힘센 여왕이었지만, 그녀는 전쟁에 휘말려 죽음을 맞이했습니다. 그녀의 눈물은 마법의 눈물이었고, 그것이 아르데니아를 다시 번영시킬 수 있는 유일한 희망이 될 수 있다고 했습니다.\n",
    "\n",
    "알리사는 드래곤의 눈물을 찾기 위해 위험한 여정을 떠났습니다. 그 길에는 많은 도전이 뒤따라왔습니다. 그녀는 거대한 뱀파이어들과 마술을 부리는 요괴들, 악마와 같은 생명체들과 싸워야 했고, 가끔은 자신의 삶을 위험에 빠뜨렸지만, 카이렌의 지도와 마법으로 위험을 피칠 수 있었습니다. 그 도중에 그녀는 용감한 기사 에런을 만나 그의 도움을 받았습니다. 에런은 알리사의 용기와 의지에 감동받아 그녀의 여정에 동행하기로 결심했습니다. 그 두 사람은 함께 산마루를 헤쳐나가며 비밀스러운 길을 찾아 나갔습니다. 그들은 많은 시련을 견뎌내며 마술사 마르셀라를 만났고, 그녀는 드래곤의 눈물을 찾는 것은 쉽지 않을 거라고 경고했습니다. 마르셀라는 드래곤의 눈물을 찾으려면 세 가지 시험을 통과해야 한다고 했습니다.\n",
    "\n",
    "첫 번째 시험은 무한한한 미로를 헤쳐나가는 것이었습니다. 이 미로는 몰입감 있는 환상과 악몽 같은 꿈으로 가득했고, 그 안에서 그들은 자신들의 자신과 진실을 탐색해야 했습니다. 알리사는 자신의 과거와 자신이 진정으로 무엇을 원하는지에 대해 직면했습니다. 그녀는 그녀의 과거의 상처와 잊혀진 기억을 다루어야 했습니다. 두 번째 시험은 불의 심연을 통과하는 것이었는데, 그곳에서 그녀는 자신의 두려움과 겉치는 악마들과 싸워야 했습니다. 세 번째 시험은 시간과 공간을 구부리는 거울 숲이었는데, 거울은 그들을 과거로 이송하여 그들의 선조들의 삶과 죽음을 직접 목격하게 했습니다. 거울 숲에서 그녀는 아이젤라의 죽음을 목격하고 그녀의 죄책감과 비극을 깨닫게 되었습니다. 그녀는 아이젤라의 힘을 되찾기 위해 자신이 어떤 결단을 내려야 하는지 깨달았습니다.\n",
    "\n",
    "마침내 그들은 드래곤의 눈물을 찾았습니다. 하지만 그곳에는 많은 이들이 찾아와 그 힘을 빼앗으려 했던 것이 드러났습니다. 적들과의 싸움 끝에 드래곤의 눈물을 찾았지만, 그 순간 악마들이 나타나 그들을 공격했습니다. 하지만 카이렌의 마법과 에런의 용기로 그들은 악마들을 물리쳤고 드래곤의 눈물을 가져왔습니다. 그녀는 눈물을 마시려던 순간, 그 눈물이 자신 안에 깊게 박혀 있던 상처를 치유하고 그녀를 강력한 마법사로 변화시켰습니다. 그녀는 이제 아이젤라의 힘을 이용해 왕국을 구할 수 있는 힘을 갖게 되었습니다. 그녀는 눈물을 사용해 왕국을 재건하고 사람들에게 새로운 희망을 불어넣었습니다. 하지만 그녀는 힘의 위험성을 알고 있었습니다. 힘을 오용하면 그것이 자신을 파괴할 수 있다는 것을.\n",
    "\n",
    "하지만 그녀는 힘을 사용하기로 결심했습니다. 그녀는 왕국을 구하기 위해 힘을 사용했고, 그녀는 성공했습니다. 그러나 그 힘은 그녀를 변화시켰습니다. 그녀는 더 이상 평범한 여인이 아니었습니다. 그녀는 강력한 여왕이 되었습니다. 그러나 그녀의 힘은 사람들에게 두려움과 경외심을 불러일으키며, 왕국은 그녀를 위대한 여왕으로 칭송했지만, 그녀의 힘을 두려워하기도 했습니다. 그녀는 사람들의 삶을 바꿀 수 있는 힘을 가지고 있었지만, 그것이 왕국을 파괴할 수 있다는 것도 알고 있었습니다.\n",
    "\n",
    "시간이 흐르며, 알리사는 자신의 힘을 조심스럽게 사용해야 한다는 것을 깨달았습니다. 그녀는 왕국을 재건하고 평화를 이루기 위해 노력했지만, 그녀의 힘을 남용하는 자들이 생기기기 시작했습니다. 그녀는 자신의 힘을 통제하는 법을 익혼했고, 왕국은 번영했습니다. 하지만 그녀는 자신의 힘이 어떻게든 사용되어야 하는지 걱���정했습니다. 그녀는 에런과 함께 왕국을 지키기로 했습니다. 그들은 함께 싸워 왕국을 지켰고, 그녀는 힘을 사용하지 않고도 왕국을 지키는 법을 배웠습니다. 그녀는 사람들의 마음을 다스리는 방법을 찾아 힘을 사용하지 않고도 사람들을 안전하게 지키는 방법을 찾았습니다.\n",
    "\n",
    "하지만 시간이 흐르면서 그녀의 힘은 약해졌고, 그녀는 자신이 사람들에게 눈물을 넘기기로 결심했습니다. 그녀는 자신의 후계자에게 눈물을 물려주었고, 그 후계자는 그녀의 가르침을 따라 왕국을 잘 다스렸습니다. 하지만 후계자의 후계자는 그녀의 가르침을 잊고 힘을 남용하기 시작했습니다. 결국 그녀의 후계자는 악마들과 결투하여 눈물을 잃어버리고 왕국은 다시 붕괴의 길을 걷게 되었습니다.\n",
    "\n",
    "하지만 알리사는 왕국을 위해 결단했습니다. 그녀는 눈물을 다시 찾기로 했습니다. 그녀는 세 번째 시험을 통과하여 눈물을 되찾았고, 그녀의 힘을 다시 되찾았습니다. 그녀는 에런과 함께 왕국을 다시 구했습니다. 그러나 그녀는 드래곤의 눈물을 다시 숨겼습니다. 그녀는 눈물을 다시 숨겼습니다.\n",
    "\n",
    "하지만 그녀는 눈물을 다시 찾을 자가 있을 때까지 눈물을 지키기로 결심했습니다. 그녀는 자신의 후계자들에게 그녀의 이야기와 힘의 위험성을 전했습니다. 그녀는 눈물을 다시 찾을 자가 있을 때까지 그것을 지키라고 했습니다. 그녀는 자신의 후계자들에게 강력한 마법을 가르쳐주었고, 그들은 그녀의 가르침을 따라 왕국을 다시 번영시켰습니다. 그녀는 자신의 힘을 다시 숨겼습니다. 그녀는 눈물을 다시 찾을 자가 있을 때까지 그것을 지키라고 했습니다.\n",
    "\n",
    "그러나 시간이 흐르면서 그녀의 후계자들도 그녀의 가르침을 잊고 그녀의 힘을 남용했습니다. 그녀는 자신의 후계자들에게 강력한 마법을 가르쳐주었지만, 그들은 그녀의 가르침을 따라 왕국을 다시 번영시켰습니다.\"\"\",\n",
    "}\n",
    "\n",
    "ret = requests.post(api_server_url + \"/count_token\", json=input_json)\n",
    "\n",
    "output_json = ret.json()\n",
    "print(output_json)"
   ]
  },
  {
   "cell_type": "markdown",
   "id": "1d3ed9d9-075a-44fd-8ff7-1e447ab46fc9",
   "metadata": {},
   "source": [
    "### POST /worker_generate"
   ]
  },
  {
   "cell_type": "code",
   "execution_count": 142,
   "id": "414d532b-ab14-41d1-8714-9135b377167e",
   "metadata": {
    "tags": []
   },
   "outputs": [
    {
     "name": "stdout",
     "output_type": "stream",
     "text": [
      "{'text': \"### 영어:\\nQ: What command do I use to find the size of all the files (recursively) in a Linux or Mac OS X directory?\\nA: The BSD version of ```du``` used in OS X reports size with 512-byte blocks -- the sizes are essentially rounded up to the next 512-byte value. This tells you the space on disk, which is larger than the amount of data. If you have a lot of small files, the difference can be large.\\nHere's an example.\\nThis is the value with regular ```du```. It's in 512-byte blocks:\\n```$ du -s\\n248   .\\n```\\nThe ```-h``` flag results in a more readable number, in kilobytes. As expected, it's half the number of 512-byte blocks:\\n```$ du -hs\\n124K  .\\n```\\nFinally, you can use ```find``` and ```awk``` to give you the sum of actual bytes in the files. This is kind of slow, but it works:\\n```$ find . -type f -exec ls -l {} \\\\; | awk '{sum += $5} END {print sum}'\\n60527\\n```\\nThis value matches exactly the number reported by Finder's Get Info window. (There are no weird forks or xattrs in this set of files.) It's significantly smaller than the value reported by ```du```.\\nHere's how it works: it gets a list of all the files, and passes them to ```ls -l```; then ```awk``` is used to count up the bytes. The ```-type f``` flag is there so that only files (and not directories) get sent to ```ls```. Without that flag, it'll also send directory names to ```ls```, and each file will be listed twice : once as an individual file, and once as an item in the directory.\\nThe GNU version of ```du``` can give values in actual bytes instead of blocks. It's unfortunate that the BSD version of ```du``` is not as flexible.\\n### 한국어:\\nQ: Linux 또는 Mac OS X 디렉터리에서 모든 파일의 크기를 재귀적으로 찾으려면 어떤 명령을 사용해야 하나요?\\nA: OS X에서 사용되는 BSD 버전의 ```du```를 사용하면 512바이트 블록 단위로 크기를 보고하며, 크기는 기본적으로 다음 512바이트 값으로 반올림됩니다. 이를 통해 디스크 공간의 크기를 확인할 수 있으며, 이 크기는 데이터의 양보다 큽니다. 작은 파일이 많은 경우 차이가 클 수 있습니다.\\n다음은 예시입니다.\\n이것은 일반 ```du```를 사용한 값입니다. 512바이트 블록 단위로 표시됩니다:\\n```$ du -s\\n248 .\\n```\\n```-h``` 플래그를 사용하면 킬로바이트 단위로 더 읽기 쉬운 숫자가 표시됩니다. 예상대로 512바이트 블록의 절반에 해당합니다:\\n```$ du -hs\\n124K .\\n```\\n마지막으로, ```find```와 ```awk```를 사용하여 파일에 있는 실제 바이트의 합계를 확인할 수 있습니다. 이것은 약간 느리지만 작동합니다:\\n```$ find . -type f -exec ls -l {} \\\\; | awk '{sum += $5} END {print sum}'\\n60527\\n```\\n이 값은 Finder의 정보 화면에 보고된 값과 정확히 일치합니다. (이 파일 세트에는 이상한 포크나 xattr이 없습니다.) 이 값은 ```du```가 보고한 값보다 훨씬 작습니다.\\n이 작동 방식은 모든 파일 목록을 가져와서 ```ls -l```로 전달한 다음 ```awk```를 사용하여 바이트를 계산하는 것입니다. ```-type f``` 플래그가 있기 때문에 디렉터리(및 디렉터리가 아닌 파일)만 ```ls```로 전송됩니다. 이 플래그가 없으면 디렉터리도 ```ls```로 전송되고 각 파일은 개별 파일로 한 번, 디렉터리 항목으로 한 번 나열됩니다.\\n```du```의 GNU 버전은 블록 대신 실제 바이트 단위로 값을 제공할 수 있습니다. BSD 버전의 ```du```는 유연성이 없어 안타까운 점입니다.\\n\", 'error_code': 0, 'usage': {'prompt_tokens': 473, 'completion_tokens': 477, 'total_tokens': 950}, 'cumulative_logprob': [-51.49804361909628], 'finish_reason': 'stop'}\n"
     ]
    }
   ],
   "source": [
    "dummy = \"\"\"Q: What command do I use to find the size of all the files (recursively) in a Linux or Mac OS X directory?\\nA: The BSD version of ```du``` used in OS X reports size with 512-byte blocks -- the sizes are essentially rounded up to the next 512-byte value. This tells you the space on disk, which is larger than the amount of data. If you have a lot of small files, the difference can be large.\\nHere's an example.\\nThis is the value with regular ```du```. It's in 512-byte blocks:\\n```$ du -s\\n248   .\\n```\\nThe ```-h``` flag results in a more readable number, in kilobytes. As expected, it's half the number of 512-byte blocks:\\n```$ du -hs\\n124K  .\\n```\\nFinally, you can use ```find``` and ```awk``` to give you the sum of actual bytes in the files. This is kind of slow, but it works:\\n```$ find . -type f -exec ls -l {} \\\\; | awk '{sum += $5} END {print sum}'\\n60527\\n```\\nThis value matches exactly the number reported by Finder's Get Info window. (There are no weird forks or xattrs in this set of files.) It's significantly smaller than the value reported by ```du```.\\nHere's how it works: it gets a list of all the files, and passes them to ```ls -l```; then ```awk``` is used to count up the bytes. The ```-type f``` flag is there so that only files (and not directories) get sent to ```ls```. Without that flag, it'll also send directory names to ```ls```, and each file will be listed twice : once as an individual file, and once as an item in the directory.\\nThe GNU version of ```du``` can give values in actual bytes instead of blocks. It's unfortunate that the BSD version of ```du``` is not as flexible.\"\"\"\n",
    "prompt = f\"### 영어:\\n{dummy}\\n### 한국어:\\n\"\n",
    "input_json = {\n",
    "    \"model_name\": \"Gugugo-koen-7B-V1.1\",\n",
    "    \"prompt\": prompt,\n",
    "    \"temperature\": 0.7,\n",
    "    \"top_p\": 0.8,\n",
    "    # \"session_id\": 3,\n",
    "    \"max_new_tokens\": 4096,\n",
    "    \"stop\": [\"</끝>\", \"###\"],\n",
    "}\n",
    "\n",
    "ret = requests.post(\n",
    "    api_server_url + \"/worker_generate\",\n",
    "    json=input_json,\n",
    ")\n",
    "\n",
    "output_json = ret.json()\n",
    "# print(output_json)\n",
    "output_json['text'][len(prompt):].rstrip('\\n')"
   ]
  },
  {
   "cell_type": "markdown",
   "id": "6ded4212-0df3-4dba-86b2-a15d8e1cdc87",
   "metadata": {},
   "source": [
    "### POST /worker_generate_stream"
   ]
  },
  {
   "cell_type": "code",
   "execution_count": 65,
   "id": "8a3bfe58-922c-40a9-a14a-65c4da611e4c",
   "metadata": {
    "scrolled": true,
    "tags": []
   },
   "outputs": [
    {
     "name": "stdout",
     "output_type": "stream",
     "text": [
      " 유튜브는 13억 명 이상의 사용자를 보유한 세계적인 동영상 공유 플랫폼입니다. 2005년에 창업된 이 사이트는 사용자들이 동영상을 업로드, 시청, 공유 및 평가할 수 있는 플랫폼을 제공합니다. 유튜브는 다양한 카테고리의 동영상을 제공하며, 개인 사용자, 기업, 창작자, 비디오 블로거 등 다양한 사람들이 이 플랫폼을 사용합니다.\n",
      "\n",
      "유튜브의 주요 기능 및 특징은 다음과 같습니다:\n",
      "\n",
      "1. 동영상 업로드: 사용자는 컴퓨터나 모바일 기기를 통해 동영상을 업로드할 수 있습니다. 업로드 가능한 동영상 형식에는 MP4, MOV, AVI 등이 있으며, 최대 128GB의 동영상 파일 크기를 허용합니다.\n",
      "\n",
      "2. 채널 관리: 사용자는 자신의 채널을 만들어 업로드한 동영상을 관리하고, 비디오 시리즈를 만들거나, 플레이리스트를 구성할 수 있습니다.\n",
      "\n",
      "3. 시청 및 평가: 유튜브 사용자는 동영상을 시청하고, 좋아요, 댓글, 공유 등을 통해 피드백을 제공할 수 있습니다. 동영상의 시청 수, 좋아요, 댓글 수 등의 통계를 확인할 수 있습니다.\n",
      "\n",
      "4. 수익 창출: 유튜브 파트너십 프로그램을 통해 창작자는 동영상에 광고를 삽입하여 수익을 창출할 수 있습니다. 또한, 스폰서 콘텐츠, 상품 판매, 유튜브 프리미엄 서비스 제공 등을 통해 수익을 창출할 수 있습니다.\n",
      "\n",
      "5. 라이브 스트리밍: 유튜브 라이브 기능을 사용하면 사용자는 실시간으로 동영상을 전송하고, 시청자와 대화를 나누며, 라이브 동영상에 대한 팬 지원을 받을 수 있습니다.\n",
      "\n",
      "6. 모바일 애플리케이션: 유튜브는 iOS 및 Android 기기에서 사용할 수 있는 모바일 앱을 제공합니다. 이 앱을 통해 사용자는 동영상을 업로드, 시청, 녹화 및 관리할 수 있습니다.\n",
      "\n",
      "7. YouTube Studio: 창작자를 위한 YouTube Studio 도구는 동영상 분석, 편집, 모니터링 및 창작자가 YouTube에서 성공하기 위해 필요한 다양한 리소스와 기능을 제공합니다.\n",
      "\n",
      "8. YouTube Kids: 어린이를 위한 독립적인 앱 또는 웹사이트로, 어린이에게 적합한 콘텐츠를 제공하며, 부모님은 자녀의 시청 시간과 콘텐츠에 대한 제한을 설정할 수 있습니다.\n",
      "\n",
      "9. YouTube Music: 음악 플레이어와 음악 뮤직 비디오를 위한 특별한 영역으로, 사용자는 음악을 스트리밍하고, 음악가와 대화하며, 라디오 스테이션을 만들 수 있습니다.\n",
      "\n",
      "10. YouTube Gaming: 비디오 게임 관련 콘텐츠를 위한 특별한 채널로, 게이머들이 게임 플레이, 리뷰, 튜토리얼 등을 공유할 수 있습니다.\n",
      "\n",
      "유튜브는 창의성을 촉진하고, 지식을 공유하며, 전 세계 사람들이 소통하는 데 중요한 역할을 하고 있습니다. 또한, 유튜브는 많은 기업과 브랜드가 마케팅 및 광고 목적으로 사용하는 플랫폼이기도 합니다."
     ]
    }
   ],
   "source": [
    "# input_json = {\n",
    "#     \"model_name\": \"MingAI-70B-chat-orca_v0.42_2_dpo-GPTQ\",\n",
    "#     \"prompt\": \"### System:\\nThis is a system prompt, please behave and help the user.\\n\\n### User: react hello world\\n\\n### Assistant: 반응 프로젝트에서 \\\"Hello World\\\"를 표시하려면 다음 단계를 따르십시오.\\n1. 새로운 React 응용 프로그램 생성 :\\n먼저 새로운 React 응용 프로그램을 만들어야합니다.\\n 다음 명령을 실행하여 새로운 React 앱을 만듭니다.\\n```\\nNPX Create-React-App My-App\\n```\\n이 명령은 새로운 폴더`My-App '에서 새로운 React 프로젝트를 만듭니다.\\n2. 구성 요소 만들기 :\\n이제 앱의 루트 구성 요소를 만들어야합니다.\\n 터미널에서 다음 명령을 실행하여 새 구성 요소를 만듭니다.\\n```\\nCD My-App\\nNPX React-S 생성 구성 요소 환경 적 응용 프로그램\\n```\\n이 명령은`src` 디렉토리에`myapp.js`라는 새 파���일을 생성합니다.\\n3. 구성 요소 업데이트 :\\n`myapp.js` 파일을 열고 다음 코드를 추가하십시오.\\n```JS\\n'React'에서 React React React;\\n함수 myapp () {\\n   반환 (\\n     <h1> 안녕하세요, 세계! </h1>\\n   );\\n}\\n수출 기본 MyApp;\\n```\\n이 코드는 \\\"Hello, World!\\\"텍스트를 표시하는 간단한 구성 요소를 만듭니다.\\n4. 구성 요소 렌더링 :\\n이제 앱의 기본 구성 요소를 렌더링해야합니다.\\n `src/index.js` 파일을 열고 코드를 업데이트하십시오.\\n```JS\\n'React'에서 React React React;\\n'./myapp'에서 myapp 가져 오기;\\n기능 실행 () {\\n   반환 (\\n     <MyApp />\\n   );\\n}\\n기본 기능 내보내기;\\n```\\n5. 앱 실행 :\\n마지막으로 앱을 실행해보세요.\\n```\\nNPX 시작\\n```\\n이렇게하면 웹 브라우저에서 응용 프로그램을 실행하는 데 사용할 수있는 개발 서버가 시작됩니다.\\n 응용 프로그램을 열고 브라우저에서 \\\"Hello, World!\\\"텍스트를 표시해야합니다.\\n번역 번역\\n반응 반응 프로젝트 프로젝트에서에서 \\\"hello world\\\"를 표시하려면하려면 다음\",\n",
    "#     \"max_new_tokens\": 1024,\n",
    "#     \"temperature\": 0.7,\n",
    "#     \"top_p\": 0.8,\n",
    "#     \"session_id\": 3,\n",
    "#     \"repetition_penalty\": 1.7,\n",
    "# }\n",
    "prompt = f\"\"\"### System:\\nYou are an AI assistant, please behave and help the user.\\n\\n### User: 유튜브에 대해 설명해줘\\n\\n### Assistant:\"\"\"\n",
    "input_json = {\n",
    "    \"model_name\": \"M-DIE-M-10.7B_gpt4_ep3-GPTQ\", #\"DIE_10.7b_v0.1_ep2\",\n",
    "    \"prompt\": prompt,\n",
    "    \"temperature\": 0.7,\n",
    "    \"top_p\": 0.8,\n",
    "    # \"session_id\": 3,\n",
    "    \"max_new_tokens\": 4096,\n",
    "    # \"stop\": [\"</끝>\", \"###\"],\n",
    "}\n",
    "\n",
    "ret = requests.post(\n",
    "    api_server_url + \"/worker_generate_stream\",\n",
    "    json=input_json,\n",
    "    stream=True,\n",
    "    # timeout=200,\n",
    ")\n",
    "\n",
    "past_len = len(input_json[\"prompt\"])\n",
    "for chunk in ret.iter_lines(decode_unicode=False, delimiter=b\"\\0\"):\n",
    "    if chunk:\n",
    "        data = json.loads(chunk.decode())\n",
    "        print(data[\"text\"][past_len:], sep=\"\", end=\"\")\n",
    "        past_len = len(data[\"text\"])\n",
    "\n",
    "# for chunk in ret.iter_lines(decode_unicode=False, delimiter=b\"\\0\"):\n",
    "#     if chunk:\n",
    "#         data = json.loads(chunk.decode())\n",
    "#         # print(data[\"text\"][past_len:], sep=\"\", end=\"\")\n",
    "#         # past_len = len(data[\"text\"])\n",
    "\n",
    "# result = json.loads(chunk.decode())"
   ]
  },
  {
   "cell_type": "code",
   "execution_count": 157,
   "id": "abf676f4-ae6d-4802-b5af-6b8e238ca30e",
   "metadata": {
    "scrolled": true,
    "tags": []
   },
   "outputs": [
    {
     "data": {
      "text/plain": [
       "\"### 영어:\\nQ: What command do I use to find the size of all the files (recursively) in a Linux or Mac OS X directory?\\nA: The BSD version of ```du``` used in OS X reports size with 512-byte blocks -- the sizes are essentially rounded up to the next 512-byte value. This tells you the space on disk, which is larger than the amount of data. If you have a lot of small files, the difference can be large.\\nHere's an example.\\nThis is the value with regular ```du```. It's in 512-byte blocks:\\n```$ du -s\\n248   .\\n```\\nThe ```-h``` flag results in a more readable number, in kilobytes. As expected, it's half the number of 512-byte blocks:\\n```$ du -hs\\n124K  .\\n```\\nFinally, you can use ```find``` and ```awk``` to give you the sum of actual bytes in the files. This is kind of slow, but it works:\\n```$ find . -type f -exec ls -l {} \\\\; | awk '{sum += $5} END {print sum}'\\n60527\\n```\\nThis value matches exactly the number reported by Finder's Get Info window. (There are no weird forks or xattrs in this set of files.) It's significantly smaller than the value reported by ```du```.\\nHere's how it works: it gets a list of all the files, and passes them to ```ls -l```; then ```awk``` is used to count up the bytes. The ```-type f``` flag is there so that only files (and not directories) get sent to ```ls```. Without that flag, it'll also send directory names to ```ls```, and each file will be listed twice : once as an individual file, and once as an item in the directory.\\nThe GNU version of ```du``` can give values in actual bytes instead of blocks. It's unfortunate that the BSD version of ```du``` is not as flexible.\\n### 한국어:\\nQ: Linux 또는 Mac OS X 디렉터리에서 모든 파일의 크기를 (재귀적으로) 찾으려면 어떤 명령을 사용해야 하나요?\\nA: OS X에서 사용되는 BSD 버전의 ```du```는 512바이트 블록 단위로 크기를 보고하며, 크기는 기본적으로 다음 512바이트 값으로 반올림됩니다. 이는 디스크의 공간으로, 데이터의 양보다 더 큽니다. 작은 파일이 많은 경우 차이가 클 수 있습니다.\\n다음은 예제입니다.\\n이것은 일반적으로 ```du```. 512바이트 블록 단위로 표시됩니다:\\n```$ du -s\\n248 .\\n```\\ndu -h``` 플래그를 사용하면 킬로바이트 단위의 더 읽기 쉬운 값이 표시됩니다. 예상대로 512바이트 블록의 절반에 해당합니다:\\n```$ du -hs\\n124K .\\n```\\n마지막으로 ```find``` 및 ```awk```를 사용하여 파일에서 실제 바이트의 합계를 가져올 수 있습니다. 이것은 다소 느리지만 작동합니다:\\n```\\n$ find . -type f -exec ls -l {} \\\\; | awk '{sum += $5} END {print sum}'\\n60527\\n```\\n이 값은 Finder의 정보 창에 표시되는 값과 정확히 일치합니다. (이 파일 세트에는 이상한 커널이나 xattr이 없습니다). 이 값은 ```du```에서 보고된 값보다 훨씬 작습니다.\\n이것은 어떻게 작동합니까? 모든 파일 목록을 가져와서 ```ls -l```로 전달한 다음 ```awk```가 바이트를 계산하는 데 사용됩니다. ```type f``` 플래그가 있기 때문에 ```ls```에 파일만 전달됩니다. 이 플래그가 없으면 디렉터리 이름도 ```ls``로 전송되며, 각 파일은 개별 파일로 한 번, 디렉터리의 항목으로 한 번씩 나열됩니다.\\ndu```의 BSD 버전은 블록이 아닌 실제 바이트 단위로 값을 제공합니다. 안타깝게도 ```du```의 BSD 버전은 유연하지 않습니다.\\n\""
      ]
     },
     "execution_count": 157,
     "metadata": {},
     "output_type": "execute_result"
    }
   ],
   "source": [
    "data['text']"
   ]
  },
  {
   "cell_type": "code",
   "execution_count": 14,
   "id": "c8685063-99fd-49e5-9b6b-bc3399b10993",
   "metadata": {
    "scrolled": true,
    "tags": []
   },
   "outputs": [
    {
     "name": "stdout",
     "output_type": "stream",
     "text": [
      "Node.js 애플리케이션에서 파일을 수신하려면 Express 프레임워크를 사용하여 간단한 웹 서버를 만들 수 있습니다. 다음 예제에서는 `express` 및 `multer` 라이브러리를 사용하여 파일 업로드를 수신하는 방법을 보여줍니다.\n",
      "\n",
      "1. 먼저 npm을 사용하여 필요한 종속성을 설치합니다:```bash\n",
      "npm init -y\n",
      "npm install express multer\n",
      "```\n",
      "\n",
      "2. 새 JavaScript 파일을 생성하고 다음 코드를 붙여넣습니다(예: `app.js`).```javascript\n",
      "const express = require('express');\n",
      "const multer = require('multer');\n",
      "\n",
      "const app = express();\n",
      "const port = 3000;\n",
      "\n",
      "// Configure multer storage settings\n",
      "const storage = multer.diskStorage({\n",
      "  destination: (req, file, cb) => {\n",
      "    cb(null, 'uploads/');\n",
      "  },\n",
      "  filename: (req, file, cb) => {\n",
      "    cb(null, `${file.fieldname}-${Date.now()}${getExtension(file.mimetype)}`);\n",
      "  },\n",
      "});\n",
      "\n",
      "const upload = multer({ storage });\n",
      "\n",
      "function getExtension(mimetype) {\n",
      "  const parts = mimetype.split('/');\n",
      "  return parts[parts.length - 1];\n",
      "}\n",
      "\n",
      "// ROUTES\n",
      "app.post('/upload', upload.single('file'), (req, res) => {\n",
      "  res.send(`File received: ${req.file.filename}`);\n",
      "});\n",
      "\n",
      "// Start the server\n",
      "app.listen(port, () => {\n",
      "  console.log(`Server is running at http://localhost:${port}`);\n",
      "});\n",
      "```\n",
      "\n",
      "\n",
      "이 코드는 포트 3000에서 수신 대기하고 파일 업로드를 위한 단일 경로(`/upload`)를 가진 간단한 Express 서버를 설정합니다. 파일은 'uploads/' 폴더에 저장됩니다. app.js` 파일과 같은 디렉터리에 'uploads/' 폴더를 생성했는지 확인하세요.\n",
      "\n",
      "3. 서버를 실행합니다:```bash\n",
      "node app.js\n",
      "```\n",
      "\n",
      "4. Postman 또는 CURL과 같은 도구를 사용하여 파일 업로드를 테스트합니다:```bash\n",
      "curl -X POST -H \"Content-Type: multipart/form-data\" -F \"file=@/path/to/yourfile.txt\" \"http://localhost:3000/upload\"\n",
      "```\n",
      "\n",
      "\n",
      "\"경로/대상/파일.txt\"를 업로드하려는 파일의 경로로 바꿉니다.\n",
      "\n",
      "이제 서버는 파일을 수신하여 '업로드/' 폴더에 저장하고 업로드된 파일의 이름으로 메시지를 반환해야 합니다.\n"
     ]
    }
   ],
   "source": [
    "print(\"\"\"Node.js 애플리케이션에서 파일을 수신하려면 Express 프레임워크를 사용하여 간단한 웹 서버를 만들 수 있습니다. 다음 예제에서는 `express` 및 `multer` 라이브러리를 사용하여 파일 업로드를 수신하는 방법을 보여줍니다.\\n\\n1. 먼저 npm을 사용하여 필요한 종속성을 설치합니다:```bash\\nnpm init -y\\nnpm install express multer\\n```\\n\\n2. 새 JavaScript 파일을 생성하고 다음 코드를 붙여넣습니다(예: `app.js`).```javascript\\nconst express = require(\\'express\\');\\nconst multer = require(\\'multer\\');\\n\\nconst app = express();\\nconst port = 3000;\\n\\n// Configure multer storage settings\\nconst storage = multer.diskStorage({\\n  destination: (req, file, cb) => {\\n    cb(null, \\'uploads/\\');\\n  },\\n  filename: (req, file, cb) => {\\n    cb(null, `${file.fieldname}-${Date.now()}${getExtension(file.mimetype)}`);\\n  },\\n});\\n\\nconst upload = multer({ storage });\\n\\nfunction getExtension(mimetype) {\\n  const parts = mimetype.split(\\'/\\');\\n  return parts[parts.length - 1];\\n}\\n\\n// ROUTES\\napp.post(\\'/upload\\', upload.single(\\'file\\'), (req, res) => {\\n  res.send(`File received: ${req.file.filename}`);\\n});\\n\\n// Start the server\\napp.listen(port, () => {\\n  console.log(`Server is running at http://localhost:${port}`);\\n});\\n```\\n\\n\\n이 코드는 포트 3000에서 수신 대기하고 파일 업로드를 위한 단일 경로(`/upload`)를 가진 간단한 Express 서버를 설정합니다. 파일은 \\'uploads/\\' 폴더에 저장됩니다. app.js` 파일과 같은 디렉터리에 \\'uploads/\\' 폴더를 생성했는지 확인하세요.\\n\\n3. 서버를 실행합니다:```bash\\nnode app.js\\n```\\n\\n4. Postman 또는 CURL과 같은 도구를 사용하여 파일 업로드를 테스트합니다:```bash\\ncurl -X POST -H \"Content-Type: multipart/form-data\" -F \"file=@/path/to/yourfile.txt\" \"http://localhost:3000/upload\"\\n```\\n\\n\\n\"경로/대상/파일.txt\"를 업로드하려는 파일의 경로로 바꿉니다.\\n\\n이제 서버는 파일을 수신하여 \\'업로드/\\' 폴더에 저장하고 업로드된 파일의 이름으로 메시지를 반환해야 합니다.\"\"\")"
   ]
  },
  {
   "cell_type": "markdown",
   "id": "e63cd2be-3c49-49f8-a33c-c41b5bdfeedf",
   "metadata": {},
   "source": [
    "### POST /worker_generate_auto"
   ]
  },
  {
   "cell_type": "code",
   "execution_count": 147,
   "id": "accb7feb-7978-4563-bb71-49794e9e816d",
   "metadata": {
    "tags": []
   },
   "outputs": [],
   "source": [
    "input_json = {\n",
    "    \"model_name\": \"Gugugo-koen-7B-V1.1\",\n",
    "    \"user_input\": \"\"\"Q: What command do I use to find the size of all the files (recursively) in a Linux or Mac OS X directory?\\nA: The BSD version of ```du``` used in OS X reports size with 512-byte blocks -- the sizes are essentially rounded up to the next 512-byte value. This tells you the space on disk, which is larger than the amount of data. If you have a lot of small files, the difference can be large.\\nHere's an example.\\nThis is the value with regular ```du```. It's in 512-byte blocks:\\n```$ du -s\\n248   .\\n```\\nThe ```-h``` flag results in a more readable number, in kilobytes. As expected, it's half the number of 512-byte blocks:\\n```$ du -hs\\n124K  .\\n```\\nFinally, you can use ```find``` and ```awk``` to give you the sum of actual bytes in the files. This is kind of slow, but it works:\\n```$ find . -type f -exec ls -l {} \\\\; | awk '{sum += $5} END {print sum}'\\n60527\\n```\\nThis value matches exactly the number reported by Finder's Get Info window. (There are no weird forks or xattrs in this set of files.) It's significantly smaller than the value reported by ```du```.\\nHere's how it works: it gets a list of all the files, and passes them to ```ls -l```; then ```awk``` is used to count up the bytes. The ```-type f``` flag is there so that only files (and not directories) get sent to ```ls```. Without that flag, it'll also send directory names to ```ls```, and each file will be listed twice : once as an individual file, and once as an item in the directory.\\nThe GNU version of ```du``` can give values in actual bytes instead of blocks. It's unfortunate that the BSD version of ```du``` is not as flexible.\"\"\",\n",
    "    \"session_id\": 20,\n",
    "    \"temperature\": 0.7,\n",
    "    \"top_p\": 0.8,\n",
    "    \"max_new_tokens\": 4096,\n",
    "    \"stop\": [\"</끝>\", \"###\"],\n",
    "}\n",
    "\n",
    "ret = requests.post(\n",
    "    api_server_url + \"/worker_generate_auto\",\n",
    "    json=input_json,\n",
    ")\n",
    "\n",
    "output_json = ret.json()\n",
    "output_json['text']"
   ]
  },
  {
   "cell_type": "code",
   "execution_count": 139,
   "id": "496cf343-2bb7-41cb-917d-20e7f82c3219",
   "metadata": {
    "tags": []
   },
   "outputs": [
    {
     "name": "stdout",
     "output_type": "stream",
     "text": [
      "Q: Linux 또는 Mac OS X 디렉터리에 있는 모든 파일의 크기를 재귀적으로 찾으려면 어떤 명령을 사용해야 하나요?\n",
      "A: OS X에서 사용되는 BSD 버전의 ```du```는 512바이트 블록 단위로 크기를 보고하며, 크기는 기본적으로 다음 512바이트 값으로 반올림됩니다. 따라서 디스크 공간은 데이터의 양보다 더 큰 양입니다. 작은 파일이 많은 경우 그 차이가 클 수 있습니다.\n",
      "다음은 예시입니다.\n",
      "이것은 일반적으로 ```du```를 사용하는 값입니다. 512바이트 블록 단위로 표시됩니다:\n",
      "```$ du -s\n",
      "248 .\n",
      "```\n",
      "du -h``` 플래그를 사용하면 킬로바이트 단위로 더 읽기 쉬운 숫자가 표시됩니다. 예상대로 512바이트 블록의 절반 정도입니다:\n",
      "```$ du -hs\n",
      "124K .\n",
      "```\n",
      "마지막으로, ```find``` 및 ```awk```를 사용하여 파일에 있는 실제 바이트의 합계를 구할 수 있습니다. 이 방법은 속도가 느리지만 작동합니다:\n",
      "```$ find . -type f -exec ls -l {} \\; | awk '{sum += $5} END {print sum}'\n",
      "60527\n",
      "```\n",
      "이 값은 Finder의 정보 확인 창에 표시되는 수치와 정확히 일치합니다. (이 파일 세트에는 이상한 포크나 xattr이 없습니다.) 이 값은 ```du```가 보고하는 값보다 훨씬 작습니다.\n",
      "이 방법은 모든 파일 목록을 가져와서 ```ls -l```로 전달한 다음 ```awk```를 사용하여 바이트 수를 계산하는 것입니다. type f``` 플래그는 파일(디렉터리 제외)만 ```ls```로 전송되도록 하기 위해 사용됩니다. 이 플래그가 없으면 디렉터리 이름도 ```ls```로 전송되며, 각 파일은 개별 파일로 한 번, 디렉터리의 항목으로 한 번 등 두 번 나열됩니다.\n",
      "du```의 GNU 버전은 블록 대신 실제 바이트 단위로 값을 제공할 수 있습니다. 안타깝게도 BSD 버전의 ```du```는 유연성이 떨어집니다.\n",
      "\n"
     ]
    }
   ],
   "source": [
    "print(output_json['text'])"
   ]
  },
  {
   "cell_type": "markdown",
   "id": "e213b49f-c48e-4fd0-bd9a-852cbead8c07",
   "metadata": {},
   "source": [
    "### POST /worker_generate_stream_auto"
   ]
  },
  {
   "cell_type": "code",
   "execution_count": 146,
   "id": "b42f4c87-c478-42a2-beb9-a9a5bed752a5",
   "metadata": {
    "tags": []
   },
   "outputs": [],
   "source": [
    "input_json = {\n",
    "    \"model_name\": \"Gugugo-koen-7B-V1.1\",\n",
    "    \"user_input\": \"\"\"Q: What command do I use to find the size of all the files (recursively) in a Linux or Mac OS X directory?\\nA: The BSD version of ```du``` used in OS X reports size with 512-byte blocks -- the sizes are essentially rounded up to the next 512-byte value. This tells you the space on disk, which is larger than the amount of data. If you have a lot of small files, the difference can be large.\\nHere's an example.\\nThis is the value with regular ```du```. It's in 512-byte blocks:\\n```$ du -s\\n248   .\\n```\\nThe ```-h``` flag results in a more readable number, in kilobytes. As expected, it's half the number of 512-byte blocks:\\n```$ du -hs\\n124K  .\\n```\\nFinally, you can use ```find``` and ```awk``` to give you the sum of actual bytes in the files. This is kind of slow, but it works:\\n```$ find . -type f -exec ls -l {} \\\\; | awk '{sum += $5} END {print sum}'\\n60527\\n```\\nThis value matches exactly the number reported by Finder's Get Info window. (There are no weird forks or xattrs in this set of files.) It's significantly smaller than the value reported by ```du```.\\nHere's how it works: it gets a list of all the files, and passes them to ```ls -l```; then ```awk``` is used to count up the bytes. The ```-type f``` flag is there so that only files (and not directories) get sent to ```ls```. Without that flag, it'll also send directory names to ```ls```, and each file will be listed twice : once as an individual file, and once as an item in the directory.\\nThe GNU version of ```du``` can give values in actual bytes instead of blocks. It's unfortunate that the BSD version of ```du``` is not as flexible.\"\"\",\n",
    "    \"session_id\": 22,\n",
    "    # \"context\": '\\nDate:2023-11-13 15:21\\nYour reply should be based on the context below.\\n\\nContext:\\n(주)아도스 2023년 기업정보 | 사원수, 회사소개, 근무환경 ...\\n(주)아도스 기업소개 - 업력 : 10년차, 기업형태 : 중소기업, 업종 : 응용 소프트웨어 개발 및 공급업 | (주)아도스의 사원수, 연봉, 채용, 복리후생, 재무정보 등이 ... 재산, 가치를 구하는 것을 사명으로, 좋은 사람들이 모여 즐겁게 성장하고 있는 회사입니다.\\n1. 현재는 IT보안이 주 사업 영역이며, AI와 가상화기술 기반의 정보보호 솔루션을 개발/운영하고 있습니다.\\n2. 대기업 제조사의 네트워크 보안, 생산라인 보안, 정보 유출 방지 등 통합보안 서비스(모의 해킹, 진단, 관제, 이상징후 분석)를 담당하고 있습니다.\\n\"인류의 생명과 가치를 구한다\"\\n우리는 단단하게 성장하고 있어요\\n-\\n2021\\n-\\n09월\\n가드랜드(정보보호솔루션) 출시\\n-\\n03월\\n가두리(웹격리솔루션) 출시\\n- 09월\\n-\\n2020\\n\\n-\\n09월\\n병역지정업체(산업체) 선정\\n-\\n05월\\n벤처기업확인(기술보증기금,유효기간:2022.05.28)\\n-\\n04월\\n수차에 걸쳐 자본금을 1200백만원으로 증자\\n- 09월\\n-\\n2019\\n-\\n12월\\n기업부설연구소 설립\\n- 12월\\n-\\n2017\\n-\\n10월\\n상호를 (주)아도스로 변경\\n- 10월\\n-\\n2014\\n-\\n09월\\n컴퓨터 프로그래밍 서비스업을 목적으로 대표이사 이승원에 의해 (주)피그플라이 설립\\n- 09월\\n우리는 직원의 복리후생도 중요해요\\n-\\n지원금/보험\\n- 각종 경조사 지원\\n-\\n급여제도\\n- 퇴직연금\\n- 인센티브제\\n- 스톡옵션\\n- 퇴직금\\n-\\n업\\n- 대표자명\\n- 이승원\\n- 사업내용\\n-\\n소프트웨어 개발,게임 개발\\n- 주소\\n-\\n서울 송파구 송파대로 167, B동 1021호지도보기\\n- SNS\\n-\\n- 보유기술\\n-\\n-\\n특허권\\n- 디스플레이 해킹 방지 시스템 및 그 방법(2020)\\n-\\n특허권\\n- 웹 클라이언트를 이용한 망 분리 시스템 및 그 방법(2020)\\n-\\n특허권\\n- 컴퓨터의 시스템자원 및 프로세스의 보호 및 격리장치와 그방법(2020)\\n-\\n특허권\\n- PKI 기반의 사물인터넷 기기 인증방법 및 인증시스템(2020)\\n- 특허권\\n미래 혹은 가까에 있는 위협으로 부터, 우리의 생명,\\n\\n\\n(주)아도니스 2023년 기업정보 | 사원수, 회사소개, 근무환경 ...\\n(주)아도니스 기업소개 - 업력 : 35년차, 기업형태 : -, 업종 : 골프장 운영업 | (주)아도니스의 사원수, 연봉, 채용, 복리후생, 재무정보 등이 궁금하시다면, ...- 사업내용\\n-\\n골프장,호텔 운영/무역,담배,골프용품 도소매,통신판매/한식,중식 음식점\\n- 주소\\n-\\n경기 포천시 신북면 포천로 2499지도보기\\n기업비전\\n주요 사업내용 : 포천 아도니스CC 운영\\n주요 사업내용 : 포천 아도니스CC 운영\\n주요 취급품목 : 골프장운영, 호텔운영\\n우리는 단단하게 성장하고 있어요\\n-\\n2005\\n-\\n01월\\n호텔 준공 영업개시\\n- 01월\\n-\\n1999\\n-\\n06월\\n상호변경 : (주)대우레져 -> (주)아도니스\\n-\\n04월\\n골프장 개장\\n- 06월\\n-\\n1995\\n-\\n04월\\n골프장 착공허가 (경기도 포천군)\\n- 04월\\n-\\n1\\n990\\n-\\n10월\\n경기도로부터 골프장사업계획을 승인\\n- 10월\\n-\\n1989\\n-\\n02월\\n회사 설립\\n- 02월\\n인원 규모를 파악해 보세요!\\n전체 직원 수 56명\\n- 전체인원\\n- 입사자\\n- 퇴사자\\n',\n",
    "    \"max_new_tokens\": 4096,\n",
    "    \"temperature\": 0.7,\n",
    "    \"top_p\": 0.8,\n",
    "}\n",
    "\n",
    "ret = requests.post(\n",
    "    api_server_url + \"/worker_generate_stream_auto\",\n",
    "    json=input_json,\n",
    "    stream=True,\n",
    "    # timeout=2,\n",
    ")\n",
    "\n",
    "# past_len = len(input_json[\"prompt\"])\n",
    "# past_len = 0\n",
    "# for chunk in ret.iter_lines(decode_unicode=False, delimiter=b\"\\0\"):\n",
    "#     if chunk:\n",
    "#         data = json.loads(chunk.decode())\n",
    "#         print(data[\"text\"][past_len:], sep=\"\", end=\"\")\n",
    "#         past_len = len(data[\"text\"])"
   ]
  },
  {
   "cell_type": "markdown",
   "id": "b2aff6ed-d07e-482c-a6ed-b781f97bfc9a",
   "metadata": {},
   "source": [
    "### POST /worker_get_last_prompt"
   ]
  },
  {
   "cell_type": "code",
   "execution_count": 11,
   "id": "76a88534-f3dd-4dea-850f-3d42f2d94ac9",
   "metadata": {},
   "outputs": [
    {
     "name": "stdout",
     "output_type": "stream",
     "text": [
      "{'prompt': '### System:\\nThis is a system prompt, please behave and help the user.\\nDate:2023-11-13 15:21\\nYour reply should be based on the context below.\\n\\nContext:\\n(주)아도스 2023년 기업정보 | 사원수, 회사소개, 근무환경 ...\\n(주)아도스 기업소개 - 업력 : 10년차, 기업형태 : 중소기업, 업종 : 응용 소프트웨어 개발 및 공급업 | (주)아도스의 사원수, 연봉, 채용, 복리후생, 재무정보 등이 ... 재산, 가치를 구하는 것을 사명으로, 좋은 사람들이 모여 즐겁게 성장하고 있는 회사입니다.\\n1. 현재는 IT보안이 주 사업 영역이며, AI와 가상화기술 기반의 정보보호 솔루션을 개발/운영하고 있습니다.\\n2. 대기업 제조사의 네트워크 보안, 생산라인 보안, 정보 유출 방지 등 통합보안 서비스(모의 해킹, 진단, 관제, 이상징후 분석)를 담당하고 있습니다.\\n\"인류의 생명과 가치를 구한다\"\\n우리는 단단하게 성장하고 있어요\\n-\\n2021\\n-\\n09월\\n가드랜드(정보보호솔루션) 출시\\n-\\n03월\\n가두리(웹격리솔루션) 출시\\n- 09월\\n-\\n2020\\n\\n-\\n09월\\n병역지정업체(산업체) 선정\\n-\\n05월\\n벤처기업확인(기술보증기금,유효기간:2022.05.28)\\n-\\n04월\\n수차에 걸쳐 자본금을 1200백만원으로 증자\\n- 09월\\n-\\n2019\\n-\\n12월\\n기업부설연구소 설립\\n- 12월\\n-\\n2017\\n-\\n10월\\n상호를 (주)아도스로 변경\\n- 10월\\n-\\n2014\\n-\\n09월\\n컴퓨터 프로그래밍 서비스업을 목적으로 대표이사 이승원에 의해 (주)피그플라이 설립\\n- 09월\\n우리는 직원의 복리후생도 중요해요\\n-\\n지원금/보험\\n- 각종 경조사 지원\\n-\\n급여제도\\n- 퇴직연금\\n- 인센티브제\\n- 스톡옵션\\n- 퇴직금\\n-\\n업\\n- 대표자명\\n- 이승원\\n- 사업내용\\n-\\n소프트웨어 개발,게임 개발\\n- 주소\\n-\\n서울 송파구 송파대로 167, B동 1021호지도보기\\n- SNS\\n-\\n- 보유기술\\n-\\n-\\n특허권\\n- 디스플레이 해킹 방지 시스템 및 그 방법(2020)\\n-\\n특허권\\n- 웹 클라이언트를 이용한 망 분리 시스템 및 그 방법(2020)\\n-\\n특허권\\n- 컴퓨터의 시스템자원 및 프로세스의 보호 및 격리장치와 그방법(2020)\\n-\\n특허권\\n- PKI 기반의 사물인터넷 기기 인증방법 및 인증시스템(2020)\\n- 특허권\\n미래 혹은 가까에 있는 위협으로 부터, 우리의 생명,\\n\\n\\n(주)아도니스 2023년 기업정보 | 사원수, 회사소개, 근무환경 ...\\n(주)아도니스 기업소개 - 업력 : 35년차, 기업형태 : -, 업종 : 골프장 운영업 | (주)아도니스의 사원수, 연봉, 채용, 복리후생, 재무정보 등이 궁금하시다면, ...- 사업내용\\n-\\n골프장,호텔 운영/무역,담배,골프용품 도소매,통신판매/한식,중식 음식점\\n- 주소\\n-\\n경기 포천시 신북면 포천로 2499지도보기\\n기업비전\\n주요 사업내용 : 포천 아도니스CC 운영\\n주요 사업내용 : 포천 아도니스CC 운영\\n주요 취급품목 : 골프장운영, 호텔운영\\n우리는 단단하게 성장하고 있어요\\n-\\n2005\\n-\\n01월\\n호텔 준공 영업개시\\n- 01월\\n-\\n1999\\n-\\n06월\\n상호변경 : (주)대우레져 -> (주)아도니스\\n-\\n04월\\n골프장 개장\\n- 06월\\n-\\n1995\\n-\\n04월\\n골프장 착공허가 (경기도 포천군)\\n- 04월\\n-\\n1\\n990\\n-\\n10월\\n경기도로부터 골프장사업계획을 승인\\n- 10월\\n-\\n1989\\n-\\n02월\\n회사 설립\\n- 02월\\n인원 규모를 파악해 보세요!\\n전체 직원 수 56명\\n- 전체인원\\n- 입사자\\n- 퇴사자\\n\\n\\n### User: NFC는 무엇의 약자입니까?\\n\\n### Assistant:  NFC는 \"Near Field Communication\"의 약자입니다.</s>### User: 주식회사 아도스의 직원 수는 몇명인가요?\\n\\n### Assistant:'}\n"
     ]
    }
   ],
   "source": [
    "input_json = {\n",
    "    \"model_name\": \"MingAI-70B-chat-orca_v0.4_v0.2_retrained_checkpoint-2-GPTQ\",\n",
    "    \"session_id\": 0,\n",
    "}\n",
    "\n",
    "ret = requests.post(\n",
    "    api_server_url + \"/worker_get_last_prompt\",\n",
    "    json=input_json,\n",
    ")\n",
    "\n",
    "output_json = ret.json()\n",
    "print(output_json)"
   ]
  },
  {
   "cell_type": "markdown",
   "id": "df01fabf-7e9c-4e16-82a9-3e614c00cf47",
   "metadata": {},
   "source": [
    "### POST /session_history_clear"
   ]
  },
  {
   "cell_type": "code",
   "execution_count": 12,
   "id": "c03458f4-7887-4325-ad21-3bdb093956c6",
   "metadata": {},
   "outputs": [
    {
     "name": "stdout",
     "output_type": "stream",
     "text": [
      "{'err_code': 0}\n"
     ]
    }
   ],
   "source": [
    "input_json = {\n",
    "    \"model_name\": \"MingAI-70B-chat-orca_v0.4_v0.2_retrained_checkpoint-2-GPTQ\",\n",
    "    \"session_id\": 0,\n",
    "}\n",
    "\n",
    "ret = requests.post(\n",
    "    api_server_url + \"/session_history_clear\",\n",
    "    json=input_json,\n",
    ")\n",
    "\n",
    "output_json = ret.json()\n",
    "print(output_json)"
   ]
  },
  {
   "cell_type": "markdown",
   "id": "571d83a1-a3f2-4620-aed5-adbb73b3b806",
   "metadata": {},
   "source": [
    "### POST /worker_regenerate_auto"
   ]
  },
  {
   "cell_type": "code",
   "execution_count": 13,
   "id": "5328257c-1144-4e1f-b154-f8510007c358",
   "metadata": {},
   "outputs": [
    {
     "name": "stdout",
     "output_type": "stream",
     "text": [
      "{'err_code': 70003}\n"
     ]
    }
   ],
   "source": [
    "input_json = {\n",
    "    \"model_name\": \"MingAI-70B-chat-orca_v0.4_v0.2_retrained_checkpoint-2-GPTQ\",\n",
    "    \"session_id\": 0,\n",
    "}\n",
    "\n",
    "ret = requests.post(\n",
    "    api_server_url + \"/worker_regenerate_auto\",\n",
    "    json=input_json,\n",
    ")\n",
    "\n",
    "output_json = ret.json()\n",
    "print(output_json)"
   ]
  },
  {
   "cell_type": "markdown",
   "id": "c7db1773-ea6a-421c-a442-06ffe486ae71",
   "metadata": {},
   "source": [
    "### POST /worker_regenerate_stream_auto"
   ]
  },
  {
   "cell_type": "code",
   "execution_count": 14,
   "id": "8ea30871-0893-4de9-9c8c-7dcdc45b5d18",
   "metadata": {},
   "outputs": [],
   "source": [
    "input_json = {\n",
    "    \"model_name\": \"MingAI-70B-chat-orca_v0.4_v0.2_retrained_checkpoint-2-GPTQ\",\n",
    "    \"session_id\": 0,\n",
    "}\n",
    "\n",
    "ret = requests.post(\n",
    "    api_server_url + \"/worker_regenerate_stream_auto\",\n",
    "    json=input_json,\n",
    "    stream=True,\n",
    ")\n",
    "\n",
    "# past_len = len(input_json[\"prompt\"])\n",
    "past_len = 0\n",
    "for chunk in ret.iter_lines(decode_unicode=False, delimiter=b\"\\0\"):\n",
    "    if chunk:\n",
    "        data = json.loads(chunk.decode())\n",
    "        if \"text\" not in data:\n",
    "            continue\n",
    "        print(data[\"text\"][past_len:], sep=\"\", end=\"\")\n",
    "        past_len = len(data[\"text\"])"
   ]
  },
  {
   "cell_type": "markdown",
   "id": "cae3f14b-869f-407a-a8e8-3becffd7add1",
   "metadata": {},
   "source": [
    "### POST /worker_stop_stream"
   ]
  },
  {
   "cell_type": "code",
   "execution_count": 15,
   "id": "42a1f63e-6b71-4374-90cb-e68903484860",
   "metadata": {},
   "outputs": [
    {
     "name": "stdout",
     "output_type": "stream",
     "text": [
      "session_id: b5bdc37a9ed14ac1b3d05e7ff5566659\n",
      " 유튜브는 세계에서 가장 큰 온라인 동영상 공유 및 소셜 미디어 플\n",
      "\n",
      " Generation Stopped\n"
     ]
    }
   ],
   "source": [
    "import uuid\n",
    "from multiprocessing import Process\n",
    "import time\n",
    "\n",
    "\n",
    "# background runner for worker_generate_stream\n",
    "def background_run_stream(session_id):\n",
    "    input_json = {\n",
    "        \"model_name\": \"MingAI-70B-chat-orca_v0.4_v0.2_retrained_checkpoint-2-GPTQ\",\n",
    "        \"prompt\": \"### System:\\nThis is a system prompt, please behave and help the user.\\n\\n### User: 유튜브에 대해서 설명해주세요.\\n\\n### Assistant:\",\n",
    "        \"session_id\": session_id,\n",
    "        \"temperature\": 0.7,\n",
    "        \"top_p\": 0.8,\n",
    "    }\n",
    "\n",
    "    ret = requests.post(\n",
    "        api_server_url + \"/worker_generate_stream\",\n",
    "        json=input_json,\n",
    "        headers={\"User-Agent\": \"FastChat Client\"},\n",
    "        stream=True,\n",
    "        timeout=200,\n",
    "    )\n",
    "\n",
    "    past_len = len(input_json[\"prompt\"])\n",
    "    for idx, chunk in enumerate(ret.iter_lines(decode_unicode=False, delimiter=b\"\\0\")):\n",
    "        if chunk:\n",
    "            data = json.loads(chunk.decode())\n",
    "            print(data[\"text\"][past_len:], end=\"\")\n",
    "            past_len = len(data[\"text\"])\n",
    "\n",
    "\n",
    "# generate random session_id\n",
    "session_id = uuid.uuid4().hex\n",
    "print(\"session_id:\", session_id)\n",
    "\n",
    "# run worker_generate_stream\n",
    "p1 = Process(target=background_run_stream, args=[session_id])\n",
    "p1.start()\n",
    "\n",
    "# wait for 3 seconds\n",
    "time.sleep(3)\n",
    "\n",
    "# send worker_stop_stream\n",
    "input_json = {\n",
    "    \"model_name\": \"MingAI-70B-chat-orca_v0.4_v0.2_retrained_checkpoint-2-GPTQ\",\n",
    "    \"session_id\": session_id,\n",
    "}\n",
    "\n",
    "ret = requests.post(\n",
    "    api_server_url + \"/worker_stop_stream\",\n",
    "    json=input_json,\n",
    ")\n",
    "\n",
    "print(\"\\n\\n Generation Stopped\")"
   ]
  },
  {
   "cell_type": "code",
   "execution_count": null,
   "id": "78f5fae3-0232-499c-917f-994188e2c74c",
   "metadata": {},
   "outputs": [],
   "source": []
  }
 ],
 "metadata": {
  "kernelspec": {
   "display_name": "fastcaht_2023dec",
   "language": "python",
   "name": "fastcaht_2023dec"
  },
  "language_info": {
   "codemirror_mode": {
    "name": "ipython",
    "version": 3
   },
   "file_extension": ".py",
   "mimetype": "text/x-python",
   "name": "python",
   "nbconvert_exporter": "python",
   "pygments_lexer": "ipython3",
   "version": "3.10.13"
  }
 },
 "nbformat": 4,
 "nbformat_minor": 5
}
