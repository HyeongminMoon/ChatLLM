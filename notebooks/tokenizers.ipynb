{
 "cells": [
  {
   "cell_type": "code",
   "execution_count": null,
   "id": "b38d35f2-23fe-4275-855f-0787fdbe9fe5",
   "metadata": {},
   "outputs": [],
   "source": [
    "from transformers import AutoTokenizer\n",
    "# model_path = \"/workspaces/disk0/data/llm_weights/Platypus2-70B-instruct/\"\n",
    "# model_path = \"/workspaces/disk0/data/llm_weights/vicuna-13b-v1.5/\"\n",
    "# model_path = \"/data/llm_weights/gptq/MingAI-70B-chat-orca_v0.42_2_dpo-GPTQ/\"\n",
    "model_path = \"/data/llm_weights/gptq/CodeLlama-70B-Instruct-GPTQ/\"\n",
    "tokenizer = AutoTokenizer.from_pretrained(\n",
    "    model_path,\n",
    "    model_max_length=16384,\n",
    "    padding_side=\"right\",\n",
    "    use_fast=False,\n",
    ")\n",
    "tokenizer.pad_token = tokenizer.unk_token\n",
    "from transformers.trainer_pt_utils import LabelSmoother\n",
    "import torch\n",
    "IGNORE_TOKEN_ID = LabelSmoother.ignore_index"
   ]
  },
  {
   "cell_type": "code",
   "execution_count": null,
   "id": "6afe0982-77cb-45e0-9b86-ac3a79ccf747",
   "metadata": {},
   "outputs": [],
   "source": [
    "def random_select(dataset, num_select):\n",
    "    return dataset.select(np.random.choice(list(range(len(dataset))), num_select))"
   ]
  },
  {
   "cell_type": "code",
   "execution_count": null,
   "id": "42da8793-0e8a-413d-a13e-9cf6d3e096b8",
   "metadata": {},
   "outputs": [],
   "source": [
    "dataset1 = load_dpo_dataset(\"/data/llm_datasets/custom/ados/yarn/yarn-train-tokenized-16k-mistral-200.json\")\n",
    "dataset2 = load_dpo_dataset(\"/data/llm_datasets/custom/ados/yarn/ko-yarn-mistral-16k-gpt4_evol.json\")\n",
    "dataset3 = load_dpo_dataset(\"/data/llm_datasets/custom/ados/yarn/ko-yarn-mistral-16k-sharegpt_V3_format_ko.json\")\n",
    "dataset3 = random_select(dataset3, 1000 - len(dataset1) - len(dataset2))"
   ]
  },
  {
   "cell_type": "code",
   "execution_count": null,
   "id": "8db28832-43b3-464b-8dfd-8d237880d8c3",
   "metadata": {},
   "outputs": [],
   "source": [
    "from datasets import Features, Sequence, Value\n",
    "\n",
    "dataset2 = dataset2.cast(\n",
    "    Features({\n",
    "        'attention_mask': Sequence(Value('int64')),\n",
    "        'labels': Sequence(feature=Value(dtype='int64', id=None), length=-1, id=None),\n",
    "        'input_ids': Sequence(feature=Value(dtype='int64', id=None), length=-1, id=None),\n",
    "    })\n",
    ")\n",
    "dataset3 = dataset3.cast(\n",
    "    Features({\n",
    "        'attention_mask': Sequence(Value('int64')),\n",
    "        'labels': Sequence(feature=Value(dtype='int64', id=None), length=-1, id=None),\n",
    "        'input_ids': Sequence(feature=Value(dtype='int64', id=None), length=-1, id=None),\n",
    "    })\n",
    ")"
   ]
  },
  {
   "cell_type": "code",
   "execution_count": null,
   "id": "bdb82356-c109-4df1-a052-3475b0e9eba3",
   "metadata": {},
   "outputs": [],
   "source": [
    "conbined_dataset = concatenate_datasets((dataset1, dataset2, dataset3))"
   ]
  },
  {
   "cell_type": "code",
   "execution_count": null,
   "id": "f092d194-d725-4303-b61f-687744e5d084",
   "metadata": {},
   "outputs": [],
   "source": [
    "conbined_dataset = conbined_dataset.shuffle()"
   ]
  },
  {
   "cell_type": "code",
   "execution_count": null,
   "id": "9e3fe087-d4e7-4140-9cdc-accd012ef9c5",
   "metadata": {},
   "outputs": [],
   "source": [
    "new_dataset = []\n",
    "for _data in conbined_dataset:\n",
    "    new_dataset.append(_data)\n",
    "    \n",
    "with open('/data/llm_datasets/custom/ados/yarn/ko-yarn-v1.json', \"w\") as json_file:\n",
    "    json.dump(new_dataset, json_file)"
   ]
  }
 ],
 "metadata": {
  "kernelspec": {
   "display_name": "fastchat_2024jan",
   "language": "python",
   "name": "fastchat_2024jan"
  },
  "language_info": {
   "codemirror_mode": {
    "name": "ipython",
    "version": 3
   },
   "file_extension": ".py",
   "mimetype": "text/x-python",
   "name": "python",
   "nbconvert_exporter": "python",
   "pygments_lexer": "ipython3",
   "version": "3.10.13"
  }
 },
 "nbformat": 4,
 "nbformat_minor": 5
}
