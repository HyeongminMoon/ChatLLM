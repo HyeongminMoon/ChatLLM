{
 "cells": [
  {
   "cell_type": "code",
   "execution_count": 24,
   "id": "74ff3f73-a3f6-430f-8645-20d3f4990461",
   "metadata": {},
   "outputs": [],
   "source": [
    "import requests\n",
    "import json\n",
    "\n",
    "api_server_url = \"http://localhost:41001\""
   ]
  },
  {
   "cell_type": "markdown",
   "id": "debbdf51-652b-4106-9b42-2a0283efd3d9",
   "metadata": {},
   "source": [
    "# 3. 벡터스토어 기반 기능API (WebSearch & RetrievalQA)"
   ]
  },
  {
   "cell_type": "markdown",
   "id": "bd859ec5-900b-46c9-96a5-a83b7aee2ef8",
   "metadata": {},
   "source": [
    "### POST /websearch_generate_keyword "
   ]
  },
  {
   "cell_type": "code",
   "execution_count": 35,
   "id": "0f9327f3-2a6a-4283-a22b-8893a01a5c21",
   "metadata": {},
   "outputs": [
    {
     "name": "stdout",
     "output_type": "stream",
     "text": [
      "{'search_keyword': '지방 빈 집 및 노후 주거지 정비 기반 구축 정책'}\n"
     ]
    }
   ],
   "source": [
    "model_name = \"MingAI-70B-chat-orca_v0.4_v0.2_retrained_checkpoint-2-GPTQ\"\n",
    "\n",
    "input_json = {\n",
    "    \"model_name\": model_name,\n",
    "    \"session_id\": 0,\n",
    "    \"query\": \"지방 빈 집 및 노후 주거지 정비 기반 구축은 무슨 정책이 있나요?\",\n",
    "}\n",
    "\n",
    "ret = requests.post(\n",
    "    api_server_url + \"/websearch_generate_keyword\",\n",
    "    json=input_json,\n",
    ")\n",
    "\n",
    "output_json = ret.json()\n",
    "print(output_json)"
   ]
  },
  {
   "cell_type": "markdown",
   "id": "a4c9a268-9056-4d2a-b626-bca22bab7db4",
   "metadata": {},
   "source": [
    "### POST /websearch_run_all "
   ]
  },
  {
   "cell_type": "code",
   "execution_count": 36,
   "id": "d8f845b8-4a94-4c37-986d-fb9006d7baa7",
   "metadata": {},
   "outputs": [
    {
     "name": "stdout",
     "output_type": "stream",
     "text": [
      "{'task_status': '*Searching 지방 빈 집 및 노후 주거지 정비 기반 구축 정책... [1] 노후주거지정비 도시재생 활성화를위한 사업모델 및 제도개선...*', 'urls': [], 'context': ''}\n",
      "{'task_status': '*Searching 지방 빈 집 및 노후 주거지 정비 기반 구축 정책... [2] 빈집정비계획 수립 활성화를 위한 정책 방안 연구 | 연구보고서...*', 'urls': [], 'context': ''}\n",
      "{'task_status': '*Searching 지방 빈 집 및 노후 주거지 정비 기반 구축 정책... [3] 빈집정비계획 수립 활성화를 위한 정책 방안 연구 | 연구보고서...*', 'urls': [], 'context': ''}\n",
      "{'task_status': '*Searching 지방 빈 집 및 노후 주거지 정비 기반 구축 정책... [4] 빈집정비계획 수립 활성화를 위한 정책 방안 연구 | 연구보고서...*', 'urls': [], 'context': ''}\n",
      "{'task_status': 'Finished', 'urls': ['https://www.auri.re.kr/gallery.es?mid=a10302000000&bid=0010&b_list=10&act=view&list_no=258&nPage=1&vlist_no_npage=0&keyField=K&orderby=', 'https://www.auri.re.kr/gallery.es?mid=a10302000000&bid=0010&b_list=10&act=view&list_no=258&nPage=14&vlist_no_npage=0&keyField=&orderby=', 'https://www.auri.re.kr/gallery.es?mid=a10302000000&bid=0010&b_list=10&act=view&list_no=258&nPage=17&vlist_no_npage=0&keyField=&orderby='], 'context': '\\nDate:2023-12-12 15:35\\nYour reply should be based on the context below.\\n\\nContext:\\n빈집정비계획 수립 활성화를 위한 정책 방안 연구 | 연구보고서\\n동법에 의하면 빈집을 효율적으로 정비, 활용하기 위해 기초자치단체에서는 빈집정비사업의 추진계획 및 시행방법, 재원조달계획, 빈집 철거 등의 조치, 지원 대상과 내용 ...비계획 수립 관련 제도 및 정책\\n1. 빈집정비계획 수립의 제도적 기반 29\\n2. 빈집정비 관련 법령 및 조례 38\\n3. 관련 정책 및 사업 현황 47\\n제4장 빈집의 정비 및 활용 사례\\n1. 지방정부의 빈집 정비 및 활용 지원 사례 63\\n2. 다양한 빈집 정비 및 활용 대안 76\\n제5장 일본의 빈집 등 대책계획 수립 체계 및 사례\\n1. 국가차원의 빈집 대책 및 계획 체계 95\\n2. 지방공공단체의 빈집 등 대책계획 사례 99\\n제6장 빈집정비계획의 수립 활성화를 위한 정책 방안\\n1. 빈집정비계획의 수립 과제 및 방향 115\\n2. 빈집정비\\n 개발·제시하였다.\\n목차\\n제1장 서론\\n제2장 빈집의 현황 및 실태\\n제3장 빈집정비계획 수립 관련 제도 및 정책\\n제4장 빈집의 정비 및 활용 사례\\n제5장 일본의 빈집 등 대책계획 수립 체계 및 사례\\n제6장 빈집정비계획의 수립 활성화를 위한 정책 방안\\n부록1. ○○시 빈집정비계획 목차 구성(안) 151\\n제1장 서론\\n1. 연구의 배경 및 목적 1\\n2. 연구의 범위 3\\n3. 연구수행 방법 및 추진체계 4\\n4. 선행 연구 검토 및 차별성 5\\n제2장 빈집의 현황 및 실태\\n1. 빈집의 현황 7\\n2. 빈집의 발생 원인 및 양태 23\\n제3장 빈집정\\n\\n\\n빈집정비계획 수립 활성화를 위한 정책 방안 연구 | 연구보고서\\n동법에 의하면 빈집을 효율적으로 정비, 활용하기 위해 기초자치단체에서는 빈집정비사업의 추진계획 및 시행방법, 재원조달계획, 빈집 철거 등의 조치, 지원 대상과 내용 ...비계획 수립 관련 제도 및 정책\\n1. 빈집정비계획 수립의 제도적 기반 29\\n2. 빈집정비 관련 법령 및 조례 38\\n3. 관련 정책 및 사업 현황 47\\n제4장 빈집의 정비 및 활용 사례\\n1. 지방정부의 빈집 정비 및 활용 지원 사례 63\\n2. 다양한 빈집 정비 및 활용 대안 76\\n제5장 일본의 빈집 등 대책계획 수립 체계 및 사례\\n1. 국가차원의 빈집 대책 및 계획 체계 95\\n2. 지방공공단체의 빈집 등 대책계획 사례 99\\n제6장 빈집정비계획의 수립 활성화를 위한 정책 방안\\n1. 빈집정비계획의 수립 과제 및 방향 115\\n2. 빈집정비\\n 개발·제시하였다.\\n목차\\n제1장 서론\\n제2장 빈집의 현황 및 실태\\n제3장 빈집정비계획 수립 관련 제도 및 정책\\n제4장 빈집의 정비 및 활용 사례\\n제5장 일본의 빈집 등 대책계획 수립 체계 및 사례\\n제6장 빈집정비계획의 수립 활성화를 위한 정책 방안\\n부록1. ○○시 빈집정비계획 목차 구성(안) 151\\n제1장 서론\\n1. 연구의 배경 및 목적 1\\n2. 연구의 범위 3\\n3. 연구수행 방법 및 추진체계 4\\n4. 선행 연구 검토 및 차별성 5\\n제2장 빈집의 현황 및 실태\\n1. 빈집의 현황 7\\n2. 빈집의 발생 원인 및 양태 23\\n제3장 빈집정\\n\\n\\n빈집정비계획 수립 활성화를 위한 정책 방안 연구 | 연구보고서\\n동법에 의하면 빈집을 효율적으로 정비, 활용하기 위해 기초자치단체에서는 빈집정비사업의 추진계획 및 시행방법, 재원조달계획, 빈집 철거 등의 조치, 지원 대상과 내용 ...비계획 수립 관련 제도 및 정책\\n1. 빈집정비계획 수립의 제도적 기반 29\\n2. 빈집정비 관련 법령 및 조례 38\\n3. 관련 정책 및 사업 현황 47\\n제4장 빈집의 정비 및 활용 사례\\n1. 지방정부의 빈집 정비 및 활용 지원 사례 63\\n2. 다양한 빈집 정비 및 활용 대안 76\\n제5장 일본의 빈집 등 대책계획 수립 체계 및 사례\\n1. 국가차원의 빈집 대책 및 계획 체계 95\\n2. 지방공공단체의 빈집 등 대책계획 사례 99\\n제6장 빈집정비계획의 수립 활성화를 위한 정책 방안\\n1. 빈집정비계획의 수립 과제 및 방향 115\\n2. 빈집정비\\n'}\n"
     ]
    }
   ],
   "source": [
    "search_keyword = output_json[\"search_keyword\"]\n",
    "input_json = {\n",
    "    \"model_name\": model_name,\n",
    "    \"search_keyword\": \"지방 빈 집 및 노후 주거지 정비 기반 구축 정책\",\n",
    "    \"session_id\": \"0\",\n",
    "}\n",
    "\n",
    "ret = requests.post(\n",
    "    api_server_url + \"/websearch_run_all\",\n",
    "    json=input_json,\n",
    "    stream=True,\n",
    "    timeout=200,\n",
    ")\n",
    "\n",
    "for idx, chunk in enumerate(ret.iter_lines(decode_unicode=False, delimiter=b\"\\0\")):\n",
    "    if chunk:\n",
    "        data = json.loads(chunk.decode())\n",
    "        print(data)"
   ]
  },
  {
   "cell_type": "markdown",
   "id": "418ac3c6-4ff9-4b24-b14d-834267084d57",
   "metadata": {},
   "source": [
    "### GET /retrievalqa_details"
   ]
  },
  {
   "cell_type": "code",
   "execution_count": 4,
   "id": "732fd615-ef37-4eda-9654-6667f2ac33b2",
   "metadata": {},
   "outputs": [
    {
     "name": "stdout",
     "output_type": "stream",
     "text": [
      "{'available_formats': ['.pdf', '.docx', '.txt']}\n"
     ]
    }
   ],
   "source": [
    "ret = requests.get(\n",
    "    api_server_url + \"/retrievalqa_details\",\n",
    "    json=input_json,\n",
    "    stream=True,\n",
    "    timeout=200,\n",
    ")\n",
    "\n",
    "output_json = ret.json()\n",
    "print(output_json)"
   ]
  },
  {
   "cell_type": "markdown",
   "id": "675fafb7-0f85-4005-8f74-092f95dd55da",
   "metadata": {
    "tags": []
   },
   "source": [
    "### POST /retrievalqa_input_doc"
   ]
  },
  {
   "cell_type": "code",
   "execution_count": 26,
   "id": "11b7e62d-38aa-4c78-aef9-48a93ed31999",
   "metadata": {},
   "outputs": [
    {
     "name": "stdout",
     "output_type": "stream",
     "text": [
      "{'err_code': 0}\n"
     ]
    }
   ],
   "source": [
    "input_data = {\n",
    "    \"session_id\": \"0\",\n",
    "    \"num\": \"asd\",\n",
    "}\n",
    "\n",
    "f1 = open(\"data/2023년 주거종합계획.pdf\", \"rb\")\n",
    "\n",
    "file = {\"file\": f1}\n",
    "\n",
    "ret = requests.post(\n",
    "    api_server_url + \"/retrievalqa_input_doc\",\n",
    "    files=file,\n",
    "    data=input_data,\n",
    "    # headers = {\"Content-type\":\"form-data\"}\n",
    ")\n",
    "\n",
    "output_json = ret.json()\n",
    "print(output_json)"
   ]
  },
  {
   "cell_type": "markdown",
   "id": "56b10615-22ad-4088-b64a-1c50d9230fc3",
   "metadata": {},
   "source": [
    "### POST /retrievalqa_get_result"
   ]
  },
  {
   "cell_type": "code",
   "execution_count": 29,
   "id": "964c202e-ea08-4359-a4a6-3f63180a7c15",
   "metadata": {},
   "outputs": [
    {
     "name": "stdout",
     "output_type": "stream",
     "text": [
      "{'context': '\\nDate:2023-12-12 10:49\\nYour reply should be based on the context below.\\n\\nContext:\\n고지등4,500호공급예정\\nㅇ (지역별 )동작구수방사등서울도심에2,700호,3기신도시등\\n수도권에7,100호공급예정\\n2023년도 사전청약 계획\\n*       : 서울\\n6월(2천호) 9월(3.3천호) 12월(4.5천호)\\n나눔형· 남양주왕숙 (LH) 932호\\n· 안양매곡 (LH) 204호\\n· 고 덕 강 일 3단 지(SH) 590호· 하남교산 (LH) 452호\\n· 안산장상 (LH) 440호\\n· 마곡 10-2(SH) 260호· 남양주왕숙 2(LH) 836호\\n· 마곡 택시차고지 (SH) 210호\\n· 한강이남 (SH) 300호\\n· 위례A1-14(SH·LH) 260호\\n· 고양창릉 (LH) 400호\\n· 수원당수 2(LH) 403호\\n선택형· 구 리 갈 매 역 세 권 (LH) 285호\\n· 군포대야미 (LH) 346호\\n· 남양주진\\n 지속 확대\\n▪ 무주택 서민 임차인의 주거안정 기반 구축\\n▪ 공정하고 투명한 부동산 시장질서 확립\\n2023년 중점 추진과제\\n 1. 주택시장 정상화로 국민 부담 해소\\n 2. 주택공급 활성화를 통한 주거안정 기반 구축\\n 3. 무주택 서민 내집 마련 기회 확대 및 주거비 부담 경감\\n 4. 주거 취약계층 등에 대한 주거안전망 강화\\n 5. 공동주택 품질 제고 및 안전 관리 강화\\n 6. 건전하고 투명한 부동산 시장질서 확립\\n- 6 -Ⅲ. 중점 추진과제\\n1 주택시장 정상화로 국민 부담 해소\\n◈ 집값 상승기에 도입된 과도한 규제를 정상화 하여 주택시장 안정과 \\n실수요자 의 원활한 주거이동 도모\\n□시장과열기에도입되었으나 ,시장상황변화로실수요자의 부담‧\\n불편을초래했던부동산규제를합리화 (`23.1발표 )\\nㅇ 규제지역해제 ,청약\\n2023년 주거종합계획 2023년 주거종합계획\\n\\n목   차\\nⅠ. 그간의 추진 경위· · · · · · · · · · · · · · · · · · · · · · · · · · · · · · · · · · · · · · · · · · · · · · · · · · · · · ·  1\\nⅡ. 2023년 주거지원 계획· · · · · · · · · · · · · · · · · · · · · · · · · · · · · · · · · · · · · · · · · · · · ·  2\\nⅢ. 추진방향 · · · · · · · · · · · · · · · · · · · · · · · · · · · · · · · · · · · · · · · · · · · · · · · · · · · · · · · · · · · · · · · ·\\n비수도권에약2.9만호공급\\nㅇ (대상별 )미혼청년특공신설등을통해청년층에약5.9만호를공급\\n하고,일반공급비율확대 (15→30%)등을통해중장년층에1.7만호공급\\n뉴:홈 유형별 청약 기준\\n【나눔형 】 【선택형 】 【일반형 】\\n□(`24년 공급계획 )나눔형4.6만호 ,선택형 1.8만호 ,일반형 2.6만호등\\n9만호 공급추진 (’24년도정부예산안기준 )\\n- 15 -□(사전청약 계획)`23년기존계획 (7,430호)대비사전청약물량을확대\\n하여 ,‘23년약1만호시행 ,`24년에도 약1만호시행추진\\nㅇ (유형별 )고덕강일 3단지 ,하남교산등나눔형 5,300호,부천대장및\\n구리갈매등선택형 1,900호,동작구수방사등일반형 2,600호추진\\nㅇ (시기별 )6월에동작구수방사등2,000호,9월에하남교산및마곡\\n10-2등3,300호,12월에마곡택시차\\n공공주택사업 약 1.3만호에 대해 타당성검토 면제\\n\\uf000 기 추진 사업의 철저한 공정 관리\\n□주요 3기신도시 (`18~`19발표 )는금년부지조성 공사에모두본격\\n착수하고 ,주택도최초착공 (인천계양 )\\n   * (부지착공`23.5~9) 남양주왕숙 , 고양창릉 , 하남교산 , 부천대장 (주택착공 ) 인천계양`23.12\\nㅇ 중소규모 (100만㎡이하 )택지지구의지구지정및지구계획승인\\n절차통합등을통해사업일정을최대한단축\\n□공공도심복합사업을통한도심내공급도속도감있게추진\\n   * `23.9월 기준 총 55곳 8.3만호 후보지 선정, 이중 10곳 1.7만호 지구지정 완료\\nㅇ 연내총1만호지구지정 (3천호기지정 ),최초 3천호주택사업인허가 \\n등사업을가시화하고 ,분양가상한제배제등제도개선*도추진\\n   * 광역교통 ‧학교용지부담금 합리화 ,'}\n"
     ]
    }
   ],
   "source": [
    "input_json = {\n",
    "    \"session_id\": \"0\",\n",
    "    \"query\": \"2023년 사전청약 물량\",\n",
    "}\n",
    "\n",
    "ret = requests.post(\n",
    "    api_server_url + \"/retrievalqa_get_result\",\n",
    "    json=input_json,\n",
    ")\n",
    "\n",
    "output_json = ret.json()\n",
    "print(output_json)"
   ]
  },
  {
   "cell_type": "markdown",
   "id": "3dd5c032-2c0a-4dda-b672-ca80a42f53f3",
   "metadata": {},
   "source": [
    "### POST /vector_store_create"
   ]
  },
  {
   "cell_type": "code",
   "execution_count": 7,
   "id": "87e0b25e-472a-4758-88a3-f9f1fea0cc1f",
   "metadata": {},
   "outputs": [
    {
     "name": "stdout",
     "output_type": "stream",
     "text": [
      "{'err_code': 0}\n"
     ]
    }
   ],
   "source": [
    "input_json = {\n",
    "    \"session_id\": \"3\",\n",
    "}\n",
    "\n",
    "ret = requests.post(\n",
    "    api_server_url + \"/vector_store_create\",\n",
    "    json=input_json,\n",
    ")\n",
    "\n",
    "output_json = ret.json()\n",
    "print(output_json)"
   ]
  },
  {
   "cell_type": "markdown",
   "id": "098a41a8-afa8-4d43-a06c-92249ea31840",
   "metadata": {},
   "source": [
    "### POST /vector_store_remove "
   ]
  },
  {
   "cell_type": "code",
   "execution_count": 8,
   "id": "8590694c-e187-4145-9222-a24d22c343a1",
   "metadata": {},
   "outputs": [
    {
     "name": "stdout",
     "output_type": "stream",
     "text": [
      "{'err_code': 0}\n"
     ]
    }
   ],
   "source": [
    "input_json = {\n",
    "    \"session_id\": \"3\",\n",
    "}\n",
    "\n",
    "ret = requests.post(\n",
    "    api_server_url + \"/vector_store_remove\",\n",
    "    json=input_json,\n",
    ")\n",
    "\n",
    "output_json = ret.json()\n",
    "print(output_json)"
   ]
  },
  {
   "cell_type": "markdown",
   "id": "a1a36eac-9dfc-4d58-a40c-4bf015bceb03",
   "metadata": {},
   "source": [
    "### POST /vector_store_clear "
   ]
  },
  {
   "cell_type": "code",
   "execution_count": 9,
   "id": "cfdcade4-1a27-4d16-b025-3abe1a0ed434",
   "metadata": {},
   "outputs": [
    {
     "name": "stdout",
     "output_type": "stream",
     "text": [
      "{'err_code': 0}\n"
     ]
    }
   ],
   "source": [
    "input_json = {\n",
    "    \"session_id\": \"0\",\n",
    "}\n",
    "\n",
    "ret = requests.post(\n",
    "    api_server_url + \"/vector_store_clear\",\n",
    "    json=input_json,\n",
    ")\n",
    "\n",
    "output_json = ret.json()\n",
    "print(output_json)"
   ]
  },
  {
   "cell_type": "markdown",
   "id": "6d1bd677-8efc-4c1a-a66c-14ee5c72c59e",
   "metadata": {},
   "source": [
    "### POST /vector_store_details "
   ]
  },
  {
   "cell_type": "code",
   "execution_count": 10,
   "id": "ddce4ff2-6475-4d2a-b4e3-e9c0f15a66c2",
   "metadata": {
    "jp-MarkdownHeadingCollapsed": true,
    "tags": []
   },
   "outputs": [
    {
     "name": "stdout",
     "output_type": "stream",
     "text": [
      "{'active_stores': [{'session_id': '0', 'num_chucks': 0, 'lifespan': 3600, 'lifetime': 0, 'timeout': 1699953819}]}\n"
     ]
    }
   ],
   "source": [
    "input_json = {\n",
    "    \"session_id\": \"0\",\n",
    "}\n",
    "\n",
    "ret = requests.post(\n",
    "    api_server_url + \"/vector_store_details\",\n",
    "    json=input_json,\n",
    ")\n",
    "\n",
    "output_json = ret.json()\n",
    "print(output_json)"
   ]
  },
  {
   "cell_type": "markdown",
   "id": "4c808422-d4cf-47d5-bc1b-8a6fac87e47e",
   "metadata": {},
   "source": [
    "# 4. translator API"
   ]
  },
  {
   "cell_type": "markdown",
   "id": "4e9d06ab-38c7-4d93-aaa1-c4c744e639ac",
   "metadata": {},
   "source": [
    "### POST /ts_translate "
   ]
  },
  {
   "cell_type": "code",
   "execution_count": 11,
   "id": "f480d40b-c57d-4a5c-852e-f992450e23f9",
   "metadata": {},
   "outputs": [
    {
     "name": "stdout",
     "output_type": "stream",
     "text": [
      "{'result': 'お会いできて嬉しいです'}\n"
     ]
    }
   ],
   "source": [
    "input_json = {\n",
    "    \"sentence\": \"반갑습니다\",\n",
    "    \"from_lang\": \"ko\",\n",
    "    \"to_lang\": \"ja\",\n",
    "    \"ts_tool\": \"papago\",\n",
    "}\n",
    "\n",
    "ret = requests.post(\n",
    "    api_server_url + \"/ts_translate\",\n",
    "    json=input_json,\n",
    ")\n",
    "\n",
    "output_json = ret.json()\n",
    "print(output_json)"
   ]
  },
  {
   "cell_type": "markdown",
   "id": "c1180905-8dbc-412c-b4aa-46be1c38fc16",
   "metadata": {},
   "source": [
    "### POST /ts_detect_language "
   ]
  },
  {
   "cell_type": "code",
   "execution_count": 12,
   "id": "870084f9-8215-439f-9bc7-87312de6037b",
   "metadata": {},
   "outputs": [
    {
     "name": "stdout",
     "output_type": "stream",
     "text": [
      "{'detected_lang': 'ja'}\n"
     ]
    }
   ],
   "source": [
    "input_json = {\n",
    "    \"sentence\": \"お会いできて嬉しいです\",\n",
    "}\n",
    "\n",
    "ret = requests.post(\n",
    "    api_server_url + \"/ts_detect_language\",\n",
    "    json=input_json,\n",
    ")\n",
    "\n",
    "output_json = ret.json()\n",
    "print(output_json)"
   ]
  },
  {
   "cell_type": "markdown",
   "id": "2bdb64af-60a4-4731-9334-c29bf056552d",
   "metadata": {},
   "source": [
    "### GET /ts_pool"
   ]
  },
  {
   "cell_type": "code",
   "execution_count": 13,
   "id": "66ada64e-2a49-4ab6-b084-42b1b04cd32a",
   "metadata": {},
   "outputs": [
    {
     "name": "stdout",
     "output_type": "stream",
     "text": [
      "{'ts_tools': ['alibaba', 'apertium', 'argos', 'baidu', 'bing', 'caiyun', 'cloudTranslation', 'deepl', 'elia', 'google', 'iciba', 'iflytek', 'iflyrec', 'itranslate', 'judic', 'languageWire', 'lingvanex', 'niutrans', 'mglip', 'mirai', 'modernMt', 'myMemory', 'papago', 'qqFanyi', 'qqTranSmart', 'reverso', 'sogou', 'sysTran', 'tilde', 'translateCom', 'translateMe', 'utibet', 'volcEngine', 'yandex', 'yeekit', 'youdao']}\n"
     ]
    }
   ],
   "source": [
    "ret = requests.get(\n",
    "    api_server_url + \"/ts_pool\",\n",
    ")\n",
    "\n",
    "output_json = ret.json()\n",
    "print(output_json)"
   ]
  },
  {
   "cell_type": "markdown",
   "id": "1d3ed9d9-075a-44fd-8ff7-1e447ab46fc9",
   "metadata": {
    "tags": []
   },
   "source": [
    "### POST /ts_get_languages"
   ]
  },
  {
   "cell_type": "code",
   "execution_count": 14,
   "id": "49b2c9a0-0293-45c3-b6cd-9dc65c2cd6b2",
   "metadata": {},
   "outputs": [
    {
     "name": "stdout",
     "output_type": "stream",
     "text": [
      "{'available_languages': {'es': ['eu', 'eu', 'en', 'fr', 'gl', 'ca'], 'eu': ['es', 'es', 'gl', 'en', 'ca', 'fr'], 'fr': ['es', 'eu', 'gl', 'ca', 'en'], 'en': ['es', 'eu', 'gl', 'ca', 'fr'], 'gl': ['es', 'eu', 'fr', 'en', 'ca'], 'ca': ['es', 'eu', 'fr', 'en', 'gl']}}\n"
     ]
    }
   ],
   "source": [
    "input_json = {\n",
    "    \"ts_tool\": \"elia\",\n",
    "}\n",
    "\n",
    "ret = requests.post(\n",
    "    api_server_url + \"/ts_get_languages\",\n",
    "    json=input_json,\n",
    ")\n",
    "\n",
    "output_json = ret.json()\n",
    "print(output_json)"
   ]
  },
  {
   "cell_type": "code",
   "execution_count": 15,
   "id": "b8ea8e70-52ef-485b-a7d9-115b1c042513",
   "metadata": {},
   "outputs": [
    {
     "data": {
      "text/plain": [
       "\"['asdf', 'd']\""
      ]
     },
     "execution_count": 15,
     "metadata": {},
     "output_type": "execute_result"
    }
   ],
   "source": [
    "arr = [\"asdf\", \"d\"]\n",
    "str(arr)"
   ]
  },
  {
   "cell_type": "code",
   "execution_count": 23,
   "id": "4777def5-63e1-4586-93ea-2d24fbb23aa6",
   "metadata": {},
   "outputs": [
    {
     "data": {
      "text/plain": [
       "'71,11,56,94,82,15,51,62,83,4,3,52,13,36,40,25,88,63,47,9,78,87,99,36,24,8,8,48,87,100,69,99,52,21,31,90,89,62,18,23,32,16,63,75,70,36,66,33,41,66,12,94,48,3,27,70'"
      ]
     },
     "execution_count": 23,
     "metadata": {},
     "output_type": "execute_result"
    }
   ],
   "source": [
    "import random\n",
    "\n",
    "\n",
    "\",\".join([str(random.randint(0, 100)) for i in range(56)])"
   ]
  },
  {
   "cell_type": "code",
   "execution_count": null,
   "id": "7855deeb-b703-447f-bfe5-024896eef1ae",
   "metadata": {},
   "outputs": [],
   "source": []
  }
 ],
 "metadata": {
  "kernelspec": {
   "display_name": "fastchat_4bit",
   "language": "python",
   "name": "fastchat_4bit"
  },
  "language_info": {
   "codemirror_mode": {
    "name": "ipython",
    "version": 3
   },
   "file_extension": ".py",
   "mimetype": "text/x-python",
   "name": "python",
   "nbconvert_exporter": "python",
   "pygments_lexer": "ipython3",
   "version": "3.10.12"
  }
 },
 "nbformat": 4,
 "nbformat_minor": 5
}
